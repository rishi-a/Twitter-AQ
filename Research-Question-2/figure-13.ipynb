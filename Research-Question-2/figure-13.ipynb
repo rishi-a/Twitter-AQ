{
 "cells": [
  {
   "cell_type": "code",
   "execution_count": 1,
   "metadata": {},
   "outputs": [],
   "source": [
    "import pandas as pd\n",
    "import numpy as np\n",
    "import matplotlib.pyplot as plt\n",
    "import latexify as lt"
   ]
  },
  {
   "cell_type": "code",
   "execution_count": 2,
   "metadata": {},
   "outputs": [],
   "source": [
    "data = pd.read_csv('daily-pm25-and-tweets.csv', index_col='time');\n",
    "data.index = pd.to_datetime(data.index)\n",
    "data = data.dropna()"
   ]
  },
  {
   "cell_type": "code",
   "execution_count": 3,
   "metadata": {},
   "outputs": [
    {
     "data": {
      "text/html": [
       "<div>\n",
       "<style scoped>\n",
       "    .dataframe tbody tr th:only-of-type {\n",
       "        vertical-align: middle;\n",
       "    }\n",
       "\n",
       "    .dataframe tbody tr th {\n",
       "        vertical-align: top;\n",
       "    }\n",
       "\n",
       "    .dataframe thead th {\n",
       "        text-align: right;\n",
       "    }\n",
       "</style>\n",
       "<table border=\"1\" class=\"dataframe\">\n",
       "  <thead>\n",
       "    <tr style=\"text-align: right;\">\n",
       "      <th></th>\n",
       "      <th>PM2.5</th>\n",
       "      <th>freq</th>\n",
       "    </tr>\n",
       "    <tr>\n",
       "      <th>time</th>\n",
       "      <th></th>\n",
       "      <th></th>\n",
       "    </tr>\n",
       "  </thead>\n",
       "  <tbody>\n",
       "    <tr>\n",
       "      <td>2016-03-03</td>\n",
       "      <td>136.700</td>\n",
       "      <td>65.0</td>\n",
       "    </tr>\n",
       "    <tr>\n",
       "      <td>2016-03-04</td>\n",
       "      <td>62.825</td>\n",
       "      <td>71.0</td>\n",
       "    </tr>\n",
       "  </tbody>\n",
       "</table>\n",
       "</div>"
      ],
      "text/plain": [
       "              PM2.5  freq\n",
       "time                     \n",
       "2016-03-03  136.700  65.0\n",
       "2016-03-04   62.825  71.0"
      ]
     },
     "execution_count": 3,
     "metadata": {},
     "output_type": "execute_result"
    }
   ],
   "source": [
    "data.head(2)"
   ]
  },
  {
   "cell_type": "code",
   "execution_count": 26,
   "metadata": {},
   "outputs": [
    {
     "data": {
      "image/png": "[encoded data removed]",
      "text/plain": [
       "<Figure size 496.8x144 with 2 Axes>"
      ]
     },
     "metadata": {},
     "output_type": "display_data"
    }
   ],
   "source": [
    "#data.index = data.index.strftime(\"%Y-%m\")\n",
    "#ax = data.plot()\n",
    "\n",
    "lt.latexify(columns=2, fig_height=2)\n",
    "#Lets just plot now\n",
    "fig, ax = plt.subplots()\n",
    "\n",
    "y1 = data['freq'].plot(ax=ax, style='b-', label='Number of Tweets')\n",
    "y2 = data['PM2.5'].plot(ax=ax, style='r-', secondary_y=True, label=r'PM$_{2.5}$ levels', alpha=0.9, linewidth=0.8)\n",
    "\n",
    "y1.set_ylabel(\"Number of Tweets\", fontsize=10)\n",
    "y2.set_ylabel(\"PM$_{2.5}$ Level\",fontsize=10)\n",
    "y1.set_xlabel(\"Year and Month\",fontsize=10)\n",
    "\n",
    "y1.tick_params(axis='both', which='both', labelsize=10)\n",
    "y2.tick_params(axis='both', which='both', labelsize=10)\n",
    "\n",
    "handles,labels = [],[]\n",
    "for ax in fig.axes:\n",
    "    for h,l in zip(*ax.get_legend_handles_labels()):\n",
    "        handles.append(h)\n",
    "        labels.append(l)\n",
    "#lt.format_axes(ax)\n",
    "plt.legend(handles,labels, prop={'size': 10}, bbox_to_anchor=[1.42, 1.1])\n",
    "#plt.figure()\n",
    "plt.savefig('pm-vs-tweet.pdf',bbox_inches='tight')"
   ]
  },
  {
   "cell_type": "code",
   "execution_count": null,
   "metadata": {},
   "outputs": [],
   "source": []
  }
 ],
 "metadata": {
  "kernelspec": {
   "display_name": "Python 3",
   "language": "python",
   "name": "python3"
  },
  "language_info": {
   "codemirror_mode": {
    "name": "ipython",
    "version": 3
   },
   "file_extension": ".py",
   "mimetype": "text/x-python",
   "name": "python",
   "nbconvert_exporter": "python",
   "pygments_lexer": "ipython3",
   "version": "3.6.5"
  }
 },
 "nbformat": 4,
 "nbformat_minor": 2
}
