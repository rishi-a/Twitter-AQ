{
 "cells": [
  {
   "cell_type": "markdown",
   "metadata": {},
   "source": [
    "## Testing for Granger Causality Using Python\n",
    "\n",
    "This article will demonstrate steps to check for Granger-Causality as outlined in the following research paper\n",
    "\n",
    "##### Toda, H. Y and T. Yamamoto (1995). Statistical inferences in vector autoregressions with possibly integrated processes. Journal of Econometrics, 66, 225-250.\n"
   ]
  },
  {
   "cell_type": "markdown",
   "metadata": {},
   "source": [
    "**Step 1**: Test each of the time-series to determine their order of integration. Ideally, this should involve using a test (such as the ADF test) for which the null hypothesis is non-stationarity; as well as a test (such as the KPSS test) for which the null is stationarity. It's good to have a cross-check"
   ]
  },
  {
   "cell_type": "code",
   "execution_count": 2,
   "metadata": {},
   "outputs": [],
   "source": [
    "import pandas as pd\n",
    "import numpy as np\n",
    "import matplotlib.pyplot as plt\n",
    "from statsmodels.tsa.stattools import adfuller\n",
    "from scipy import stats\n",
    "from statsmodels.tsa.api import VAR\n",
    "from statsmodels.tools.eval_measures import rmse, aic\n",
    "import pickle"
   ]
  },
  {
   "cell_type": "code",
   "execution_count": 4,
   "metadata": {},
   "outputs": [],
   "source": [
    "data = pd.read_csv('daily-pm25-and-tweets.csv', index_col='time');\n",
    "data.index = pd.to_datetime(data.index)\n",
    "data = data.dropna()"
   ]
  },
  {
   "cell_type": "code",
   "execution_count": 5,
   "metadata": {},
   "outputs": [],
   "source": [
    "data = data[data.index.month==12]"
   ]
  },
  {
   "cell_type": "code",
   "execution_count": 6,
   "metadata": {},
   "outputs": [
    {
     "data": {
      "text/html": [
       "<div>\n",
       "<style scoped>\n",
       "    .dataframe tbody tr th:only-of-type {\n",
       "        vertical-align: middle;\n",
       "    }\n",
       "\n",
       "    .dataframe tbody tr th {\n",
       "        vertical-align: top;\n",
       "    }\n",
       "\n",
       "    .dataframe thead th {\n",
       "        text-align: right;\n",
       "    }\n",
       "</style>\n",
       "<table border=\"1\" class=\"dataframe\">\n",
       "  <thead>\n",
       "    <tr style=\"text-align: right;\">\n",
       "      <th></th>\n",
       "      <th>PM2.5</th>\n",
       "      <th>freq</th>\n",
       "    </tr>\n",
       "    <tr>\n",
       "      <th>time</th>\n",
       "      <th></th>\n",
       "      <th></th>\n",
       "    </tr>\n",
       "  </thead>\n",
       "  <tbody>\n",
       "    <tr>\n",
       "      <td>2016-12-01</td>\n",
       "      <td>239.925000</td>\n",
       "      <td>585.0</td>\n",
       "    </tr>\n",
       "    <tr>\n",
       "      <td>2016-12-02</td>\n",
       "      <td>183.933333</td>\n",
       "      <td>399.0</td>\n",
       "    </tr>\n",
       "    <tr>\n",
       "      <td>2016-12-03</td>\n",
       "      <td>199.562500</td>\n",
       "      <td>214.0</td>\n",
       "    </tr>\n",
       "    <tr>\n",
       "      <td>2016-12-04</td>\n",
       "      <td>232.316667</td>\n",
       "      <td>166.0</td>\n",
       "    </tr>\n",
       "    <tr>\n",
       "      <td>2016-12-05</td>\n",
       "      <td>209.612500</td>\n",
       "      <td>234.0</td>\n",
       "    </tr>\n",
       "    <tr>\n",
       "      <td>...</td>\n",
       "      <td>...</td>\n",
       "      <td>...</td>\n",
       "    </tr>\n",
       "    <tr>\n",
       "      <td>2019-12-26</td>\n",
       "      <td>198.495833</td>\n",
       "      <td>846.0</td>\n",
       "    </tr>\n",
       "    <tr>\n",
       "      <td>2019-12-27</td>\n",
       "      <td>220.841176</td>\n",
       "      <td>675.0</td>\n",
       "    </tr>\n",
       "    <tr>\n",
       "      <td>2019-12-29</td>\n",
       "      <td>359.250000</td>\n",
       "      <td>522.0</td>\n",
       "    </tr>\n",
       "    <tr>\n",
       "      <td>2019-12-30</td>\n",
       "      <td>281.012500</td>\n",
       "      <td>1725.0</td>\n",
       "    </tr>\n",
       "    <tr>\n",
       "      <td>2019-12-31</td>\n",
       "      <td>267.420833</td>\n",
       "      <td>871.0</td>\n",
       "    </tr>\n",
       "  </tbody>\n",
       "</table>\n",
       "<p>117 rows × 2 columns</p>\n",
       "</div>"
      ],
      "text/plain": [
       "                 PM2.5    freq\n",
       "time                          \n",
       "2016-12-01  239.925000   585.0\n",
       "2016-12-02  183.933333   399.0\n",
       "2016-12-03  199.562500   214.0\n",
       "2016-12-04  232.316667   166.0\n",
       "2016-12-05  209.612500   234.0\n",
       "...                ...     ...\n",
       "2019-12-26  198.495833   846.0\n",
       "2019-12-27  220.841176   675.0\n",
       "2019-12-29  359.250000   522.0\n",
       "2019-12-30  281.012500  1725.0\n",
       "2019-12-31  267.420833   871.0\n",
       "\n",
       "[117 rows x 2 columns]"
      ]
     },
     "execution_count": 6,
     "metadata": {},
     "output_type": "execute_result"
    }
   ],
   "source": [
    "data"
   ]
  },
  {
   "cell_type": "code",
   "execution_count": 7,
   "metadata": {},
   "outputs": [
    {
     "data": {
      "image/png": "[encoded data removed]",
      "text/plain": [
       "<Figure size 1080x360 with 2 Axes>"
      ]
     },
     "metadata": {},
     "output_type": "display_data"
    }
   ],
   "source": [
    "from pandas.plotting import lag_plot\n",
    "   \n",
    "f2, (ax4, ax5) = plt.subplots(1, 2, figsize=(15, 5))\n",
    "f2.tight_layout()\n",
    "\n",
    "lag_plot(data['PM2.5'], ax=ax4)\n",
    "ax4.set_title('PM2.5');\n",
    "\n",
    "lag_plot(data['freq'], ax=ax5)\n",
    "ax5.set_title('Frequency of Tweets');\n",
    "\n",
    "#lag_plot(series3, ax=ax6)\n",
    "#ax6.set_title('Tweet and PM2.5');\n",
    "\n",
    "plt.show()"
   ]
  },
  {
   "cell_type": "markdown",
   "metadata": {},
   "source": [
    "**Result**: Data is not stationary. We will have to make it stationary using difference operation"
   ]
  },
  {
   "cell_type": "code",
   "execution_count": 8,
   "metadata": {},
   "outputs": [],
   "source": [
    "#difference operation for sttionarity\n",
    "rawData = data.copy(deep=True)\n"
   ]
  },
  {
   "cell_type": "code",
   "execution_count": 9,
   "metadata": {},
   "outputs": [],
   "source": [
    "data['PM2.5'] = data['PM2.5'] - data['PM2.5'].shift(1)\n",
    "data['freq'] = data['freq'] - data['freq'].shift(1)\n",
    "data = data.dropna()"
   ]
  },
  {
   "cell_type": "code",
   "execution_count": 10,
   "metadata": {},
   "outputs": [],
   "source": [
    "# split data into train and test. We will need this later for VAR analysis\n",
    "msk = np.random.rand(len(data)) < 0.8\n",
    "train = data[msk]\n",
    "test = data[~msk]"
   ]
  },
  {
   "cell_type": "code",
   "execution_count": 11,
   "metadata": {},
   "outputs": [
    {
     "name": "stdout",
     "output_type": "stream",
     "text": [
      "ADF Statistic: -7.110951\n",
      "p-value: 0.000000\n",
      "Critical Values:\n",
      "\t1%: -3.491\n",
      "\t5%: -2.888\n",
      "\t10%: -2.581\n",
      "ADF Statistic: -9.867647\n",
      "p-value: 0.000000\n",
      "Critical Values:\n",
      "\t1%: -3.490\n",
      "\t5%: -2.887\n",
      "\t10%: -2.581\n"
     ]
    }
   ],
   "source": [
    "## ADF Null hypothesis: there is a unit root, meaning series is non-stationary\n",
    "from statsmodels.tsa.stattools import adfuller\n",
    "\n",
    "X1 = np.array(data['freq'])\n",
    "X1 = X1[~np.isnan(X1)]\n",
    "\n",
    "result = adfuller(X1)\n",
    "print('ADF Statistic: %f' % result[0])\n",
    "print('p-value: %f' % result[1])\n",
    "print('Critical Values:')\n",
    "for key, value in result[4].items():\n",
    "    print('\\t%s: %.3f' % (key, value))\n",
    "    \n",
    "    \n",
    "X2 = np.array(data['PM2.5'])\n",
    "X2 = X2[~np.isnan(X2)]\n",
    "\n",
    "result = adfuller(X2)\n",
    "print('ADF Statistic: %f' % result[0])\n",
    "print('p-value: %f' % result[1])\n",
    "print('Critical Values:')\n",
    "for key, value in result[4].items():\n",
    "    print('\\t%s: %.3f' % (key, value))"
   ]
  },
  {
   "cell_type": "code",
   "execution_count": 12,
   "metadata": {},
   "outputs": [
    {
     "name": "stdout",
     "output_type": "stream",
     "text": [
      "KPSS Statistic: 0.06485480791162834\n",
      "p-value: 0.1\n",
      "num lags: 13\n",
      "Critial Values:\n",
      "   10% : 0.347\n",
      "   5% : 0.463\n",
      "   2.5% : 0.574\n",
      "   1% : 0.739\n",
      "Result: The series is stationary\n",
      "KPSS Statistic: 0.07356767365333704\n",
      "p-value: 0.1\n",
      "num lags: 13\n",
      "Critial Values:\n",
      "   10% : 0.347\n",
      "   5% : 0.463\n",
      "   2.5% : 0.574\n",
      "   1% : 0.739\n",
      "Result: The series is stationary\n"
     ]
    },
    {
     "name": "stderr",
     "output_type": "stream",
     "text": [
      "C:\\ProgramData\\Anaconda3\\lib\\site-packages\\statsmodels\\tsa\\stattools.py:1685: FutureWarning: The behavior of using lags=None will change in the next release. Currently lags=None is the same as lags='legacy', and so a sample-size lag length is used. After the next release, the default will change to be the same as lags='auto' which uses an automatic lag length selection method. To silence this warning, either use 'auto' or 'legacy'\n",
      "  warn(msg, FutureWarning)\n",
      "C:\\ProgramData\\Anaconda3\\lib\\site-packages\\statsmodels\\tsa\\stattools.py:1711: InterpolationWarning: p-value is greater than the indicated p-value\n",
      "  warn(\"p-value is greater than the indicated p-value\", InterpolationWarning)\n",
      "C:\\ProgramData\\Anaconda3\\lib\\site-packages\\statsmodels\\tsa\\stattools.py:1711: InterpolationWarning: p-value is greater than the indicated p-value\n",
      "  warn(\"p-value is greater than the indicated p-value\", InterpolationWarning)\n"
     ]
    }
   ],
   "source": [
    "## KPSS Null hypothesis: there is a no unit root, meaning series is stationary\n",
    "from statsmodels.tsa.stattools import kpss\n",
    "def kpss_test(series, **kw):    \n",
    "    statistic, p_value, n_lags, critical_values = kpss(series, **kw)\n",
    "    # Format Output\n",
    "    print(f'KPSS Statistic: {statistic}')\n",
    "    print(f'p-value: {p_value}')\n",
    "    print(f'num lags: {n_lags}')\n",
    "    print('Critial Values:')\n",
    "    for key, value in critical_values.items():\n",
    "        print(f'   {key} : {value}')\n",
    "    print(f'Result: The series is {\"not \" if p_value < 0.05 else \"\"}stationary')\n",
    "\n",
    "kpss_test(X1)\n",
    "kpss_test(X2)"
   ]
  },
  {
   "cell_type": "markdown",
   "metadata": {},
   "source": [
    "**Result**: \n",
    "ADF Null Hypothesis is rejected: Thus, data is stationary\n",
    "KPSS Null Hypothesis could not be rejected. Thus, data is stationary"
   ]
  },
  {
   "cell_type": "code",
   "execution_count": 13,
   "metadata": {},
   "outputs": [
    {
     "data": {
      "image/png": "[encoded data removed]",
      "text/plain": [
       "<Figure size 1080x360 with 2 Axes>"
      ]
     },
     "metadata": {},
     "output_type": "display_data"
    }
   ],
   "source": [
    "from pandas.plotting import lag_plot\n",
    "   \n",
    "f2, (ax4, ax5) = plt.subplots(1, 2, figsize=(15, 5))\n",
    "f2.tight_layout()\n",
    "\n",
    "lag_plot(data['PM2.5'], ax=ax4)\n",
    "ax4.set_title('PM2.5');\n",
    "\n",
    "lag_plot(data['freq'], ax=ax5)\n",
    "ax5.set_title('Frequency of Tweets');\n",
    "\n",
    "#lag_plot(series3, ax=ax6)\n",
    "#ax6.set_title('Tweet and PM2.5');\n",
    "\n",
    "plt.show()"
   ]
  },
  {
   "cell_type": "markdown",
   "metadata": {},
   "source": [
    "**Result:** lag plot is in confirmatory with ADF test and KPSS test"
   ]
  },
  {
   "cell_type": "markdown",
   "metadata": {},
   "source": [
    "**Step 2**: Let the maximum order of integration for the group of time-series be m. So, if there are two time-series and one is found to be I(1) and the other is I(2), then m = 2. If one is I(0) and the other is I(1), then m = 1, etc."
   ]
  },
  {
   "cell_type": "markdown",
   "metadata": {},
   "source": [
    "**Result:** We saw above that for our case m = 1"
   ]
  },
  {
   "cell_type": "markdown",
   "metadata": {},
   "source": [
    "**Step 3:** Set up a VAR model in the levels of the data, regardless of the orders of integration of the various time-series. Most importantly, you must not difference the data, no matter what you found at Step 1.//\n",
    "\n",
    "**Step 4:** Determine the appropriate maximum lag length for the variables in the VAR, say p, using the usual methods. Specifically, base the choice of p on the usual information criteria, such as AIC, SIC."
   ]
  },
  {
   "cell_type": "code",
   "execution_count": 14,
   "metadata": {},
   "outputs": [
    {
     "name": "stdout",
     "output_type": "stream",
     "text": [
      "Lag Order = 1\n",
      "AIC :  19.629441227553993\n",
      "BIC :  19.771868306404325\n",
      "FPE :  334940780.8196355\n",
      "HQIC:  19.687258485718587 \n",
      "\n",
      "Lag Order = 2\n",
      "AIC :  19.567018942303154\n",
      "BIC :  19.80570869259561\n",
      "FPE :  314699462.10562646\n",
      "HQIC:  19.66390192110964 \n",
      "\n",
      "Lag Order = 3\n",
      "AIC :  19.638156898332547\n",
      "BIC :  19.974181269188012\n",
      "FPE :  337969524.61268705\n",
      "HQIC:  19.77453035769041 \n",
      "\n",
      "Lag Order = 4\n",
      "AIC :  19.702476423888594\n",
      "BIC :  20.13692758085162\n",
      "FPE :  360554125.7788162\n",
      "HQIC:  19.87877218055319 \n",
      "\n",
      "Lag Order = 5\n",
      "AIC :  19.77742043164484\n",
      "BIC :  20.31141128136352\n",
      "FPE :  388844844.9504808\n",
      "HQIC:  19.994077497572654 \n",
      "\n",
      "Lag Order = 6\n",
      "AIC :  19.808248913495767\n",
      "BIC :  20.44291364533469\n",
      "FPE :  401375766.0338594\n",
      "HQIC:  20.065713636213573 \n",
      "\n",
      "Lag Order = 7\n",
      "AIC :  19.887034790854397\n",
      "BIC :  20.62352943607051\n",
      "FPE :  434824881.5297186\n",
      "HQIC:  20.185760995753196 \n",
      "\n",
      "Lag Order = 8\n",
      "AIC :  19.939692263223616\n",
      "BIC :  20.779195272359313\n",
      "FPE :  459121625.40472394\n",
      "HQIC:  20.280141397671176 \n",
      "\n",
      "Lag Order = 9\n",
      "AIC :  19.945763075909056\n",
      "BIC :  20.889475915082393\n",
      "FPE :  462964440.0060224\n",
      "HQIC:  20.32840435505563 \n",
      "\n",
      "Lag Order = 10\n",
      "AIC :  20.01192176701523\n",
      "BIC :  21.061069533813363\n",
      "FPE :  496076632.3076572\n",
      "HQIC:  20.437232321145718 \n",
      "\n",
      "Lag Order = 11\n",
      "AIC :  20.03637338656566\n",
      "BIC :  21.19220544627467\n",
      "FPE :  510240352.1513906\n",
      "HQIC:  20.504838409827475 \n",
      "\n",
      "Lag Order = 12\n",
      "AIC :  20.092454566806378\n",
      "BIC :  21.356245209738532\n",
      "FPE :  542169502.6282372\n",
      "HQIC:  20.604567467115505 \n",
      "\n"
     ]
    },
    {
     "name": "stderr",
     "output_type": "stream",
     "text": [
      "C:\\ProgramData\\Anaconda3\\lib\\site-packages\\statsmodels\\tsa\\base\\tsa_model.py:219: ValueWarning: A date index has been provided, but it has no associated frequency information and so will be ignored when e.g. forecasting.\n",
      "  ' ignored when e.g. forecasting.', ValueWarning)\n"
     ]
    }
   ],
   "source": [
    "# obtain the lag P for VAR\n",
    "rawData = rawData.dropna()\n",
    "model = VAR(rawData) #recall that rawData is w/o difference operation\n",
    "for i in [1,2,3,4,5,6,7,8,9,10,11,12]:\n",
    "    result = model.fit(i)\n",
    "    try:\n",
    "        print('Lag Order =', i)\n",
    "        print('AIC : ', result.aic)\n",
    "        print('BIC : ', result.bic)\n",
    "        print('FPE : ', result.fpe)\n",
    "        print('HQIC: ', result.hqic, '\\n')\n",
    "    except:\n",
    "        continue"
   ]
  },
  {
   "cell_type": "markdown",
   "metadata": {},
   "source": [
    "**Result**: The lag-order p = 8 on the basis of Akaike Information Criterion (AIC)"
   ]
  },
  {
   "cell_type": "markdown",
   "metadata": {},
   "source": [
    "**Step 5**: Make sure that the VAR is well-specified. For example, ensure that there is no serial correlation in the residuals. If need be, increase p until any autocorrelation issues are resolved."
   ]
  },
  {
   "cell_type": "code",
   "execution_count": 15,
   "metadata": {},
   "outputs": [
    {
     "name": "stderr",
     "output_type": "stream",
     "text": [
      "C:\\ProgramData\\Anaconda3\\lib\\site-packages\\statsmodels\\tsa\\base\\tsa_model.py:219: ValueWarning: A date index has been provided, but it has no associated frequency information and so will be ignored when e.g. forecasting.\n",
      "  ' ignored when e.g. forecasting.', ValueWarning)\n"
     ]
    }
   ],
   "source": [
    "model = VAR(train)\n",
    "model_fitted = model.fit(2)"
   ]
  },
  {
   "cell_type": "code",
   "execution_count": 16,
   "metadata": {},
   "outputs": [
    {
     "name": "stdout",
     "output_type": "stream",
     "text": [
      "PM2.5 : 2.11\n",
      "freq : 1.94\n"
     ]
    }
   ],
   "source": [
    "#Check for Serial Correlation of Residuals (Errors) using Durbin Watson Statistic\n",
    "#The value of this statistic can vary between 0 and 4. \n",
    "#The closer it is to the value 2, then there is no significant serial correlation. \n",
    "#The closer to 0, there is a positive serial correlation, \n",
    "#and the closer it is to 4 implies negative serial correlation.\n",
    "\n",
    "\n",
    "from statsmodels.stats.stattools import durbin_watson\n",
    "out = durbin_watson(model_fitted.resid)\n",
    "\n",
    "for col, val in zip(data.columns, out):\n",
    "    print(col, ':', round(val, 2))"
   ]
  },
  {
   "cell_type": "markdown",
   "metadata": {},
   "source": [
    "**Result:** There is no significant correlation between in the residuals"
   ]
  },
  {
   "cell_type": "markdown",
   "metadata": {},
   "source": [
    "**Step 6:** If two or more of the time-series have the same order of integration, at Step 1, then test to see if they are cointegrated, preferably using Johansen's methodology (based on your VAR) for a reliable result."
   ]
  },
  {
   "cell_type": "code",
   "execution_count": 17,
   "metadata": {},
   "outputs": [
    {
     "name": "stdout",
     "output_type": "stream",
     "text": [
      "(-8.733109743193186, 4.1832001083487774e-13, array([-3.99420904, -3.38977722, -3.08153567]))\n"
     ]
    }
   ],
   "source": [
    "# I could not perform Johansen's test. Instead I check for co-integration using t-statistics\n",
    "\n",
    "import statsmodels.tsa.stattools as ts \n",
    "result=ts.coint(data['PM2.5'], data['freq'])\n",
    "print(result)"
   ]
  },
  {
   "cell_type": "markdown",
   "metadata": {},
   "source": [
    "**Result**: The p-valus < 0.05. Thus rejecting the null hypothesis. Thus they are cointegrated."
   ]
  },
  {
   "cell_type": "markdown",
   "metadata": {},
   "source": [
    "**Step 7**: No matter what you conclude about cointegration at Step 6, this is not going to affect what follows. It just provides a possible cross-check on the validity of your results at the very end of the analysis."
   ]
  },
  {
   "cell_type": "markdown",
   "metadata": {},
   "source": [
    "**Step 8**: Now take the preferred VAR model and add in m additional lags of each of the variables into each of the equations."
   ]
  },
  {
   "cell_type": "markdown",
   "metadata": {},
   "source": [
    "Interesting, now here I will re-fit the VAR model using train data with a lag of 8 + 1. Recall that m = 1 in our case"
   ]
  },
  {
   "cell_type": "code",
   "execution_count": 18,
   "metadata": {},
   "outputs": [
    {
     "name": "stdout",
     "output_type": "stream",
     "text": [
      "2\n"
     ]
    },
    {
     "name": "stderr",
     "output_type": "stream",
     "text": [
      "C:\\ProgramData\\Anaconda3\\lib\\site-packages\\statsmodels\\tsa\\base\\tsa_model.py:219: ValueWarning: A date index has been provided, but it has no associated frequency information and so will be ignored when e.g. forecasting.\n",
      "  ' ignored when e.g. forecasting.', ValueWarning)\n"
     ]
    }
   ],
   "source": [
    "model = VAR(train)\n",
    "model_fitted = model.fit(2)\n",
    "#get the lag order\n",
    "lag_order = model_fitted.k_ar\n",
    "print(lag_order)"
   ]
  },
  {
   "cell_type": "markdown",
   "metadata": {},
   "source": [
    "**Step 9 and Step 10**:  Test for Granger non-causality. It's essential that you don't include the coefficients for the 'extra' m lags when you perform the tests. They are there just to fix up the asymptotics."
   ]
  },
  {
   "cell_type": "code",
   "execution_count": 19,
   "metadata": {},
   "outputs": [],
   "source": [
    "from statsmodels.tsa.stattools import grangercausalitytests\n",
    "maxlag=lag_order #becuase we got this value before. We are not suppose to add 1 to it\n",
    "test = 'ssr_chi2test'\n",
    "def grangers_causation_matrix(data, variables, test='ssr_chi2test', verbose=False):    \n",
    "    \"\"\"Check Granger Causality of all possible combinations of the Time series.\n",
    "    The rows are the response variable, columns are predictors. The values in the table \n",
    "    are the P-Values. P-Values lesser than the significance level (0.05), implies \n",
    "    the Null Hypothesis that the coefficients of the corresponding past values is \n",
    "    zero, that is, the X does not cause Y can be rejected.\n",
    "\n",
    "    data      : pandas dataframe containing the time series variables\n",
    "    variables : list containing names of the time series variables.\n",
    "    \"\"\"\n",
    "    df = pd.DataFrame(np.zeros((len(variables), len(variables))), columns=variables, index=variables)\n",
    "    for c in df.columns:\n",
    "        for r in df.index:\n",
    "            test_result = grangercausalitytests(data[[r, c]], maxlag=maxlag, verbose=False)\n",
    "            p_values = [round(test_result[i+1][0][test][1],4) for i in range(maxlag)]\n",
    "            if verbose: print(f'Y = {r}, X = {c}, P Values = {p_values}')\n",
    "            min_p_value = np.min(p_values)\n",
    "            df.loc[r, c] = min_p_value\n",
    "    df.columns = [var + '_x' for var in variables]\n",
    "    df.index = [var + '_y' for var in variables]\n",
    "    return df\n",
    "\n",
    "o = grangers_causation_matrix(train, variables = train.columns)  "
   ]
  },
  {
   "cell_type": "code",
   "execution_count": 20,
   "metadata": {},
   "outputs": [
    {
     "data": {
      "text/html": [
       "<div>\n",
       "<style scoped>\n",
       "    .dataframe tbody tr th:only-of-type {\n",
       "        vertical-align: middle;\n",
       "    }\n",
       "\n",
       "    .dataframe tbody tr th {\n",
       "        vertical-align: top;\n",
       "    }\n",
       "\n",
       "    .dataframe thead th {\n",
       "        text-align: right;\n",
       "    }\n",
       "</style>\n",
       "<table border=\"1\" class=\"dataframe\">\n",
       "  <thead>\n",
       "    <tr style=\"text-align: right;\">\n",
       "      <th></th>\n",
       "      <th>PM2.5_x</th>\n",
       "      <th>freq_x</th>\n",
       "    </tr>\n",
       "  </thead>\n",
       "  <tbody>\n",
       "    <tr>\n",
       "      <td>PM2.5_y</td>\n",
       "      <td>1.0000</td>\n",
       "      <td>0.8018</td>\n",
       "    </tr>\n",
       "    <tr>\n",
       "      <td>freq_y</td>\n",
       "      <td>0.5644</td>\n",
       "      <td>1.0000</td>\n",
       "    </tr>\n",
       "  </tbody>\n",
       "</table>\n",
       "</div>"
      ],
      "text/plain": [
       "         PM2.5_x  freq_x\n",
       "PM2.5_y   1.0000  0.8018\n",
       "freq_y    0.5644  1.0000"
      ]
     },
     "execution_count": 20,
     "metadata": {},
     "output_type": "execute_result"
    }
   ],
   "source": [
    "o"
   ]
  },
  {
   "cell_type": "code",
   "execution_count": 273,
   "metadata": {},
   "outputs": [],
   "source": [
    "di['month'].append(11)\n",
    "di['xCy'].append(o.iloc[0,1])\n",
    "di['yCx'].append(o.iloc[1,0])"
   ]
  },
  {
   "cell_type": "code",
   "execution_count": 21,
   "metadata": {},
   "outputs": [],
   "source": [
    "#xCy = Tweets causes PM2.5\n",
    "#yXx = PM2.5 causes Tweets"
   ]
  },
  {
   "cell_type": "code",
   "execution_count": 11,
   "metadata": {},
   "outputs": [],
   "source": [
    "\n",
    "with open('gc-p-value.pickle', 'wb') as handle:\n",
    "    pickle.dump(b, handle, protocol=pickle.HIGHEST_PROTOCOL)\n",
    "\n",
    "#with open('filename.pickle', 'rb') as handle:\n",
    "#    b = pickle.load(handle)"
   ]
  },
  {
   "cell_type": "markdown",
   "metadata": {},
   "source": [
    "**Result**: If a given p-value is < significance level (0.05), then, the corresponding X series (column) causes the Y (row)."
   ]
  },
  {
   "cell_type": "markdown",
   "metadata": {},
   "source": [
    "**Step 11**: Finally, look back at what you concluded in Step 6 about cointegration. //\n",
    "    \n",
    "    \"If two or more time-series are cointegrated, then there must be Granger causality between them - either one-way or in both directions. However, the converse is not true.\"\n",
    "    \n",
    "    \"So, if your data are cointegrated but you don't find any evidence of causality, you have a conflict in your results. (This might occur if your sample size is too small to satisfy the asymptotics that the cointegration and causality tests rely on.) If you have cointegration and find one-way causality, everything is fine. (You may still be wrong about there being no causality in the other direction.) If your data are not cointegrated, then you have no cross-check on your causality results.\""
   ]
  },
  {
   "cell_type": "code",
   "execution_count": 3,
   "metadata": {},
   "outputs": [],
   "source": [
    "with open('gc-p-value.pickle', 'rb') as handle:\n",
    "    b = pickle.load(handle)"
   ]
  },
  {
   "cell_type": "code",
   "execution_count": 4,
   "metadata": {},
   "outputs": [
    {
     "data": {
      "text/plain": [
       "{'month': ['Jan',\n",
       "  'Feb',\n",
       "  'Mar',\n",
       "  'Apr',\n",
       "  'May',\n",
       "  'Jun',\n",
       "  'Jul',\n",
       "  'Aug',\n",
       "  'Sep',\n",
       "  'Oct',\n",
       "  'Nov',\n",
       "  'Dec'],\n",
       " 'xCy': [0.2469,\n",
       "  0.2743,\n",
       "  0.5351,\n",
       "  0.4254,\n",
       "  0.4388,\n",
       "  0.087,\n",
       "  0.4449,\n",
       "  0.3465,\n",
       "  0.4045,\n",
       "  0.1082,\n",
       "  0.0023,\n",
       "  0.4861],\n",
       " 'yCx': [0.5485,\n",
       "  0.1676,\n",
       "  0.819,\n",
       "  0.8648,\n",
       "  0.7661,\n",
       "  0.0582,\n",
       "  0.4366,\n",
       "  0.4522,\n",
       "  0.2495,\n",
       "  0.0361,\n",
       "  0.0,\n",
       "  0.0023]}"
      ]
     },
     "execution_count": 4,
     "metadata": {},
     "output_type": "execute_result"
    }
   ],
   "source": [
    "b"
   ]
  },
  {
   "cell_type": "code",
   "execution_count": 5,
   "metadata": {},
   "outputs": [],
   "source": [
    "d = pd.DataFrame.from_dict(b)\n",
    "d.index = d['month']\n",
    "d = d.drop(['month'], axis=1)"
   ]
  },
  {
   "cell_type": "code",
   "execution_count": 6,
   "metadata": {},
   "outputs": [],
   "source": [
    "import latexify as lt\n",
    "import matplotlib.patches as mpatches"
   ]
  },
  {
   "cell_type": "code",
   "execution_count": 21,
   "metadata": {},
   "outputs": [
    {
     "data": {
      "image/png": "[encoded data removed]",
      "text/plain": [
       "<Figure size 244.08x86.4 with 1 Axes>"
      ]
     },
     "metadata": {},
     "output_type": "display_data"
    }
   ],
   "source": [
    "lt.latexify(fig_height=1.2)\n",
    "ax = d.plot()\n",
    "ax.set_ylabel('p-value', fontsize=10)\n",
    "ax.set_xlabel('Months', fontsize=10)\n",
    "ax.legend(['\\#Tweets Granger Causes PM$_{2.5}$','PM$_{2.5}$ Granger Causes \\#Tweets'],fontsize=10, bbox_to_anchor=[1,1.1])\n",
    "ax.axhline(y=0.05,linestyle='--',color='r')\n",
    "#red_patch = mpatches.Patch(color='red', label='p-value = 0.05')\n",
    "#plt.legend(handles=[red_patch])\n",
    "ax.tick_params(axis='x', labelsize=10)\n",
    "ax.tick_params(axis='y', labelsize=10)\n",
    "lt.format_axes(ax)\n",
    "plt.savefig('granger-causality.pdf', bbox_inches='tight')"
   ]
  },
  {
   "cell_type": "code",
   "execution_count": null,
   "metadata": {},
   "outputs": [],
   "source": []
  }
 ],
 "metadata": {
  "kernelspec": {
   "display_name": "Python 3",
   "language": "python",
   "name": "python3"
  },
  "language_info": {
   "codemirror_mode": {
    "name": "ipython",
    "version": 3
   },
   "file_extension": ".py",
   "mimetype": "text/x-python",
   "name": "python",
   "nbconvert_exporter": "python",
   "pygments_lexer": "ipython3",
   "version": "3.6.5"
  }
 },
 "nbformat": 4,
 "nbformat_minor": 2
}
