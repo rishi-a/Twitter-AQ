{
 "cells": [
  {
   "cell_type": "code",
   "execution_count": 1,
   "metadata": {},
   "outputs": [],
   "source": [
    "import pandas as pd\n",
    "import numpy as np\n",
    "import pickle\n",
    "import matplotlib.pyplot as plt \n",
    "import latexify as lt"
   ]
  },
  {
   "cell_type": "markdown",
   "metadata": {},
   "source": [
    "## Topic Evolution Over Time"
   ]
  },
  {
   "cell_type": "code",
   "execution_count": 4,
   "metadata": {},
   "outputs": [
    {
     "name": "stderr",
     "output_type": "stream",
     "text": [
      "unable to import 'smart_open.gcs', disabling that module\n"
     ]
    }
   ],
   "source": [
    "import re\n",
    "import string\n",
    "import gensim\n",
    "from gensim.utils import simple_preprocess\n",
    "from gensim.parsing.preprocessing import STOPWORDS\n",
    "from nltk.stem import WordNetLemmatizer, SnowballStemmer\n",
    "from nltk.stem.porter import *\n",
    "\n",
    "def clean_text_round1(text):\n",
    "    '''Make text lowercase, remove text in square brackets, remove punctuation and remove words containing numbers.'''\n",
    "    text = text.lower()\n",
    "    text = re.sub('\\[.*?\\]', '', text)\n",
    "    text = re.sub('[%s]' % re.escape(string.punctuation), '', text)\n",
    "    text = re.sub('\\w*\\d\\w*', '', text)\n",
    "    text = re.sub(r'^https?:\\/\\/.*[\\r\\n]*', '', text)\n",
    "    text = re.sub('â€™', '', text)\n",
    "    text = re.sub('œ', '', text)\n",
    "    re.sub(r'[^\\x00-\\x7F]+','', text)\n",
    "    return text\n",
    "\n",
    "def clean_text_round2(text):\n",
    "    '''Get rid of some additional punctuation and non-sensical text that was missed the first time around.'''\n",
    "    text = re.sub('[‘’“”…]', '', text)\n",
    "    text = re.sub('\\n', '', text)\n",
    "    return text\n",
    "\n",
    "#not doing stemming.\n",
    "def lemmatize_stemming(text):\n",
    "    #stemmer = SnowballStemmer(\"english\")\n",
    "    return WordNetLemmatizer().lemmatize(text, pos='v')\n",
    "\n",
    "def remove_nonascii(text):\n",
    "    return ''.join([i if ord(i) < 128 else ' ' for i in text])\n",
    "\n",
    "def preprocess(text):\n",
    "    result = []\n",
    "    for token in gensim.utils.simple_preprocess(text):\n",
    "        if token not in gensim.parsing.preprocessing.STOPWORDS and len(token) > 3:\n",
    "            result.append(lemmatize_stemming(token))\n",
    "    return \" \".join(str(x) for x in result)\n",
    "\n",
    "def remove_mention_hashtag(text):\n",
    "    text = re.sub('# [a-zA-Z]*', '', text)\n",
    "    text = re.sub('# [a-zA-Z]*', '', text)\n",
    "    return text\n",
    "    \n",
    "def some_words(text):\n",
    "    text = re.sub('air pollution', '', text)\n",
    "    text = re.sub('pollution', '', text)\n",
    "    return text"
   ]
  },
  {
   "cell_type": "code",
   "execution_count": 5,
   "metadata": {},
   "outputs": [
    {
     "name": "stderr",
     "output_type": "stream",
     "text": [
      "/home/rishiraj.a/anaconda3/lib/python3.7/site-packages/IPython/core/interactiveshell.py:3058: DtypeWarning: Columns (6) have mixed types. Specify dtype option on import or set low_memory=False.\n",
      "  interactivity=interactivity, compiler=compiler, result=result)\n"
     ]
    }
   ],
   "source": [
    "tweetTopic = pd.read_csv('topic-per-doc-50-200-2.csv')\n",
    "raw = pd.read_csv('../all-delhi-tweets-2019.csv')\n",
    "raw = raw[['text','date']]\n",
    "raw = raw.rename(columns={'text':'Text'})"
   ]
  },
  {
   "cell_type": "code",
   "execution_count": 6,
   "metadata": {},
   "outputs": [],
   "source": [
    "raw['Text'] = [clean_text_round1(item) for item in raw['Text']]\n",
    "raw['Text'] = [clean_text_round2(item) for item in raw['Text']]\n",
    "raw['Text'] = [preprocess(item) for item in raw['Text']]\n",
    "#remove anything that is non-ascii\n",
    "raw['Text'] = [remove_nonascii(item) for item in raw['Text']]\n",
    "raw['Text'] = [remove_mention_hashtag(item) for item in raw['Text']]\n",
    "raw['Text'] = [some_words(item) for item in raw['Text']]\n",
    "raw['Text'] = raw['Text'].drop_duplicates(keep='first')"
   ]
  },
  {
   "cell_type": "code",
   "execution_count": 7,
   "metadata": {},
   "outputs": [],
   "source": [
    "final = pd.merge(raw,tweetTopic, on='Text')\n",
    "final = final[['date', 'Dominant_Topic']]"
   ]
  },
  {
   "cell_type": "code",
   "execution_count": 8,
   "metadata": {},
   "outputs": [],
   "source": [
    "final['freq'] = 1"
   ]
  },
  {
   "cell_type": "code",
   "execution_count": 9,
   "metadata": {},
   "outputs": [
    {
     "data": {
      "text/html": [
       "<div>\n",
       "<style scoped>\n",
       "    .dataframe tbody tr th:only-of-type {\n",
       "        vertical-align: middle;\n",
       "    }\n",
       "\n",
       "    .dataframe tbody tr th {\n",
       "        vertical-align: top;\n",
       "    }\n",
       "\n",
       "    .dataframe thead th {\n",
       "        text-align: right;\n",
       "    }\n",
       "</style>\n",
       "<table border=\"1\" class=\"dataframe\">\n",
       "  <thead>\n",
       "    <tr style=\"text-align: right;\">\n",
       "      <th></th>\n",
       "      <th>date</th>\n",
       "      <th>Dominant_Topic</th>\n",
       "      <th>freq</th>\n",
       "    </tr>\n",
       "  </thead>\n",
       "  <tbody>\n",
       "    <tr>\n",
       "      <td>0</td>\n",
       "      <td>2019-03-11 09:31</td>\n",
       "      <td>23.0</td>\n",
       "      <td>1</td>\n",
       "    </tr>\n",
       "    <tr>\n",
       "      <td>1</td>\n",
       "      <td>2019-07-28 14:11</td>\n",
       "      <td>10.0</td>\n",
       "      <td>1</td>\n",
       "    </tr>\n",
       "  </tbody>\n",
       "</table>\n",
       "</div>"
      ],
      "text/plain": [
       "               date  Dominant_Topic  freq\n",
       "0  2019-03-11 09:31            23.0     1\n",
       "1  2019-07-28 14:11            10.0     1"
      ]
     },
     "execution_count": 9,
     "metadata": {},
     "output_type": "execute_result"
    }
   ],
   "source": [
    "final.head(2)"
   ]
  },
  {
   "cell_type": "markdown",
   "metadata": {},
   "source": [
    "Select the topic of interest and resample in monthly scale"
   ]
  },
  {
   "cell_type": "code",
   "execution_count": 58,
   "metadata": {},
   "outputs": [],
   "source": [
    "topicInterest = [24.0,38.0,42.0,1.0,5.0,10.0,12.0,15.0,33.0,41.0]\n",
    "dataframeList = []\n",
    "for topicNo in topicInterest:\n",
    "    a = pd.DataFrame()\n",
    "    a = final[final['Dominant_Topic']==topicNo] #oddeven\n",
    "    a.index = pd.to_datetime(a['date'])\n",
    "    a = a.drop(['date','Dominant_Topic'], axis=1)\n",
    "    a = a.resample('M').sum()\n",
    "    a = a.rename(columns={'freq':str(int(topicNo))+'freq'})\n",
    "    #a[str(int(topicNo))+'freq'] = a[str(int(topicNo))+'freq']/sum(a[str(int(topicNo))+'freq'])\n",
    "    dataframeList.append(a)\n",
    "    \n",
    "F = pd.concat(dataframeList, axis=1)\n",
    "F = F.rename(columns={'10freq':'E-Minister', '12freq':'Vehicles', '15freq':'School','1freq':'Health','24freq':'OddEven','33freq':'Mask','38freq':'Stubble Burning','41freq':'Dust','42freq':'Diwali','5freq':'Cricket'})\n",
    "F = F.fillna(0)\n",
    "F = F.astype(int)\n",
    "F = F.drop(pd.Timestamp('2020-01-31'),axis=0) #drop January 2020"
   ]
  },
  {
   "cell_type": "code",
   "execution_count": 59,
   "metadata": {},
   "outputs": [
    {
     "data": {
      "text/html": [
       "<div>\n",
       "<style scoped>\n",
       "    .dataframe tbody tr th:only-of-type {\n",
       "        vertical-align: middle;\n",
       "    }\n",
       "\n",
       "    .dataframe tbody tr th {\n",
       "        vertical-align: top;\n",
       "    }\n",
       "\n",
       "    .dataframe thead th {\n",
       "        text-align: right;\n",
       "    }\n",
       "</style>\n",
       "<table border=\"1\" class=\"dataframe\">\n",
       "  <thead>\n",
       "    <tr style=\"text-align: right;\">\n",
       "      <th></th>\n",
       "      <th>OddEven</th>\n",
       "      <th>Stubble Burning</th>\n",
       "      <th>Diwali</th>\n",
       "      <th>Health</th>\n",
       "      <th>Cricket</th>\n",
       "      <th>E-Minister</th>\n",
       "      <th>Vehicles</th>\n",
       "      <th>School</th>\n",
       "      <th>Mask</th>\n",
       "      <th>Dust</th>\n",
       "    </tr>\n",
       "    <tr>\n",
       "      <th>date</th>\n",
       "      <th></th>\n",
       "      <th></th>\n",
       "      <th></th>\n",
       "      <th></th>\n",
       "      <th></th>\n",
       "      <th></th>\n",
       "      <th></th>\n",
       "      <th></th>\n",
       "      <th></th>\n",
       "      <th></th>\n",
       "    </tr>\n",
       "  </thead>\n",
       "  <tbody>\n",
       "    <tr>\n",
       "      <td>2019-01-31</td>\n",
       "      <td>15</td>\n",
       "      <td>27</td>\n",
       "      <td>20</td>\n",
       "      <td>176</td>\n",
       "      <td>19</td>\n",
       "      <td>25</td>\n",
       "      <td>59</td>\n",
       "      <td>63</td>\n",
       "      <td>61</td>\n",
       "      <td>106</td>\n",
       "    </tr>\n",
       "    <tr>\n",
       "      <td>2019-02-28</td>\n",
       "      <td>15</td>\n",
       "      <td>29</td>\n",
       "      <td>16</td>\n",
       "      <td>70</td>\n",
       "      <td>8</td>\n",
       "      <td>11</td>\n",
       "      <td>89</td>\n",
       "      <td>38</td>\n",
       "      <td>43</td>\n",
       "      <td>76</td>\n",
       "    </tr>\n",
       "    <tr>\n",
       "      <td>2019-03-31</td>\n",
       "      <td>11</td>\n",
       "      <td>67</td>\n",
       "      <td>22</td>\n",
       "      <td>48</td>\n",
       "      <td>10</td>\n",
       "      <td>15</td>\n",
       "      <td>84</td>\n",
       "      <td>30</td>\n",
       "      <td>49</td>\n",
       "      <td>86</td>\n",
       "    </tr>\n",
       "    <tr>\n",
       "      <td>2019-04-30</td>\n",
       "      <td>10</td>\n",
       "      <td>28</td>\n",
       "      <td>16</td>\n",
       "      <td>64</td>\n",
       "      <td>13</td>\n",
       "      <td>12</td>\n",
       "      <td>93</td>\n",
       "      <td>20</td>\n",
       "      <td>40</td>\n",
       "      <td>128</td>\n",
       "    </tr>\n",
       "    <tr>\n",
       "      <td>2019-05-31</td>\n",
       "      <td>8</td>\n",
       "      <td>41</td>\n",
       "      <td>17</td>\n",
       "      <td>43</td>\n",
       "      <td>11</td>\n",
       "      <td>17</td>\n",
       "      <td>76</td>\n",
       "      <td>38</td>\n",
       "      <td>92</td>\n",
       "      <td>134</td>\n",
       "    </tr>\n",
       "    <tr>\n",
       "      <td>2019-06-30</td>\n",
       "      <td>27</td>\n",
       "      <td>42</td>\n",
       "      <td>15</td>\n",
       "      <td>70</td>\n",
       "      <td>13</td>\n",
       "      <td>23</td>\n",
       "      <td>133</td>\n",
       "      <td>51</td>\n",
       "      <td>87</td>\n",
       "      <td>162</td>\n",
       "    </tr>\n",
       "    <tr>\n",
       "      <td>2019-07-31</td>\n",
       "      <td>14</td>\n",
       "      <td>27</td>\n",
       "      <td>15</td>\n",
       "      <td>40</td>\n",
       "      <td>16</td>\n",
       "      <td>31</td>\n",
       "      <td>123</td>\n",
       "      <td>27</td>\n",
       "      <td>111</td>\n",
       "      <td>112</td>\n",
       "    </tr>\n",
       "    <tr>\n",
       "      <td>2019-08-31</td>\n",
       "      <td>8</td>\n",
       "      <td>46</td>\n",
       "      <td>33</td>\n",
       "      <td>35</td>\n",
       "      <td>7</td>\n",
       "      <td>14</td>\n",
       "      <td>105</td>\n",
       "      <td>14</td>\n",
       "      <td>124</td>\n",
       "      <td>104</td>\n",
       "    </tr>\n",
       "    <tr>\n",
       "      <td>2019-09-30</td>\n",
       "      <td>1170</td>\n",
       "      <td>201</td>\n",
       "      <td>59</td>\n",
       "      <td>64</td>\n",
       "      <td>8</td>\n",
       "      <td>31</td>\n",
       "      <td>370</td>\n",
       "      <td>34</td>\n",
       "      <td>115</td>\n",
       "      <td>172</td>\n",
       "    </tr>\n",
       "    <tr>\n",
       "      <td>2019-10-31</td>\n",
       "      <td>641</td>\n",
       "      <td>1038</td>\n",
       "      <td>1139</td>\n",
       "      <td>398</td>\n",
       "      <td>155</td>\n",
       "      <td>82</td>\n",
       "      <td>384</td>\n",
       "      <td>340</td>\n",
       "      <td>448</td>\n",
       "      <td>524</td>\n",
       "    </tr>\n",
       "    <tr>\n",
       "      <td>2019-11-30</td>\n",
       "      <td>5978</td>\n",
       "      <td>5855</td>\n",
       "      <td>1320</td>\n",
       "      <td>3538</td>\n",
       "      <td>2285</td>\n",
       "      <td>912</td>\n",
       "      <td>1966</td>\n",
       "      <td>2843</td>\n",
       "      <td>1953</td>\n",
       "      <td>1712</td>\n",
       "    </tr>\n",
       "    <tr>\n",
       "      <td>2019-12-31</td>\n",
       "      <td>71</td>\n",
       "      <td>276</td>\n",
       "      <td>117</td>\n",
       "      <td>219</td>\n",
       "      <td>37</td>\n",
       "      <td>55</td>\n",
       "      <td>217</td>\n",
       "      <td>137</td>\n",
       "      <td>240</td>\n",
       "      <td>217</td>\n",
       "    </tr>\n",
       "  </tbody>\n",
       "</table>\n",
       "</div>"
      ],
      "text/plain": [
       "            OddEven  Stubble Burning  Diwali  Health  Cricket  E-Minister  \\\n",
       "date                                                                        \n",
       "2019-01-31       15               27      20     176       19          25   \n",
       "2019-02-28       15               29      16      70        8          11   \n",
       "2019-03-31       11               67      22      48       10          15   \n",
       "2019-04-30       10               28      16      64       13          12   \n",
       "2019-05-31        8               41      17      43       11          17   \n",
       "2019-06-30       27               42      15      70       13          23   \n",
       "2019-07-31       14               27      15      40       16          31   \n",
       "2019-08-31        8               46      33      35        7          14   \n",
       "2019-09-30     1170              201      59      64        8          31   \n",
       "2019-10-31      641             1038    1139     398      155          82   \n",
       "2019-11-30     5978             5855    1320    3538     2285         912   \n",
       "2019-12-31       71              276     117     219       37          55   \n",
       "\n",
       "            Vehicles  School  Mask  Dust  \n",
       "date                                      \n",
       "2019-01-31        59      63    61   106  \n",
       "2019-02-28        89      38    43    76  \n",
       "2019-03-31        84      30    49    86  \n",
       "2019-04-30        93      20    40   128  \n",
       "2019-05-31        76      38    92   134  \n",
       "2019-06-30       133      51    87   162  \n",
       "2019-07-31       123      27   111   112  \n",
       "2019-08-31       105      14   124   104  \n",
       "2019-09-30       370      34   115   172  \n",
       "2019-10-31       384     340   448   524  \n",
       "2019-11-30      1966    2843  1953  1712  \n",
       "2019-12-31       217     137   240   217  "
      ]
     },
     "execution_count": 59,
     "metadata": {},
     "output_type": "execute_result"
    }
   ],
   "source": [
    "F"
   ]
  },
  {
   "cell_type": "code",
   "execution_count": 60,
   "metadata": {},
   "outputs": [],
   "source": [
    "#Normalize it \n",
    "for idx in range(0,12):   \n",
    "    F.iloc[idx,:] = F.iloc[idx,:]/sum(F.iloc[idx,:])"
   ]
  },
  {
   "cell_type": "code",
   "execution_count": 61,
   "metadata": {},
   "outputs": [
    {
     "data": {
      "text/html": [
       "<div>\n",
       "<style scoped>\n",
       "    .dataframe tbody tr th:only-of-type {\n",
       "        vertical-align: middle;\n",
       "    }\n",
       "\n",
       "    .dataframe tbody tr th {\n",
       "        vertical-align: top;\n",
       "    }\n",
       "\n",
       "    .dataframe thead th {\n",
       "        text-align: right;\n",
       "    }\n",
       "</style>\n",
       "<table border=\"1\" class=\"dataframe\">\n",
       "  <thead>\n",
       "    <tr style=\"text-align: right;\">\n",
       "      <th></th>\n",
       "      <th>OddEven</th>\n",
       "      <th>Stubble Burning</th>\n",
       "      <th>Diwali</th>\n",
       "      <th>Health</th>\n",
       "      <th>Cricket</th>\n",
       "      <th>E-Minister</th>\n",
       "      <th>Vehicles</th>\n",
       "      <th>School</th>\n",
       "      <th>Mask</th>\n",
       "      <th>Dust</th>\n",
       "    </tr>\n",
       "  </thead>\n",
       "  <tbody>\n",
       "    <tr>\n",
       "      <td>01</td>\n",
       "      <td>0.026270</td>\n",
       "      <td>0.047285</td>\n",
       "      <td>0.035026</td>\n",
       "      <td>0.308231</td>\n",
       "      <td>0.033275</td>\n",
       "      <td>0.043783</td>\n",
       "      <td>0.103327</td>\n",
       "      <td>0.110333</td>\n",
       "      <td>0.106830</td>\n",
       "      <td>0.185639</td>\n",
       "    </tr>\n",
       "    <tr>\n",
       "      <td>02</td>\n",
       "      <td>0.037975</td>\n",
       "      <td>0.073418</td>\n",
       "      <td>0.040506</td>\n",
       "      <td>0.177215</td>\n",
       "      <td>0.020253</td>\n",
       "      <td>0.027848</td>\n",
       "      <td>0.225316</td>\n",
       "      <td>0.096203</td>\n",
       "      <td>0.108861</td>\n",
       "      <td>0.192405</td>\n",
       "    </tr>\n",
       "    <tr>\n",
       "      <td>03</td>\n",
       "      <td>0.026066</td>\n",
       "      <td>0.158768</td>\n",
       "      <td>0.052133</td>\n",
       "      <td>0.113744</td>\n",
       "      <td>0.023697</td>\n",
       "      <td>0.035545</td>\n",
       "      <td>0.199052</td>\n",
       "      <td>0.071090</td>\n",
       "      <td>0.116114</td>\n",
       "      <td>0.203791</td>\n",
       "    </tr>\n",
       "    <tr>\n",
       "      <td>04</td>\n",
       "      <td>0.023585</td>\n",
       "      <td>0.066038</td>\n",
       "      <td>0.037736</td>\n",
       "      <td>0.150943</td>\n",
       "      <td>0.030660</td>\n",
       "      <td>0.028302</td>\n",
       "      <td>0.219340</td>\n",
       "      <td>0.047170</td>\n",
       "      <td>0.094340</td>\n",
       "      <td>0.301887</td>\n",
       "    </tr>\n",
       "    <tr>\n",
       "      <td>05</td>\n",
       "      <td>0.016771</td>\n",
       "      <td>0.085954</td>\n",
       "      <td>0.035639</td>\n",
       "      <td>0.090147</td>\n",
       "      <td>0.023061</td>\n",
       "      <td>0.035639</td>\n",
       "      <td>0.159329</td>\n",
       "      <td>0.079665</td>\n",
       "      <td>0.192872</td>\n",
       "      <td>0.280922</td>\n",
       "    </tr>\n",
       "    <tr>\n",
       "      <td>06</td>\n",
       "      <td>0.043339</td>\n",
       "      <td>0.067416</td>\n",
       "      <td>0.024077</td>\n",
       "      <td>0.112360</td>\n",
       "      <td>0.020867</td>\n",
       "      <td>0.036918</td>\n",
       "      <td>0.213483</td>\n",
       "      <td>0.081862</td>\n",
       "      <td>0.139647</td>\n",
       "      <td>0.260032</td>\n",
       "    </tr>\n",
       "    <tr>\n",
       "      <td>07</td>\n",
       "      <td>0.027132</td>\n",
       "      <td>0.052326</td>\n",
       "      <td>0.029070</td>\n",
       "      <td>0.077519</td>\n",
       "      <td>0.031008</td>\n",
       "      <td>0.060078</td>\n",
       "      <td>0.238372</td>\n",
       "      <td>0.052326</td>\n",
       "      <td>0.215116</td>\n",
       "      <td>0.217054</td>\n",
       "    </tr>\n",
       "    <tr>\n",
       "      <td>08</td>\n",
       "      <td>0.016327</td>\n",
       "      <td>0.093878</td>\n",
       "      <td>0.067347</td>\n",
       "      <td>0.071429</td>\n",
       "      <td>0.014286</td>\n",
       "      <td>0.028571</td>\n",
       "      <td>0.214286</td>\n",
       "      <td>0.028571</td>\n",
       "      <td>0.253061</td>\n",
       "      <td>0.212245</td>\n",
       "    </tr>\n",
       "    <tr>\n",
       "      <td>09</td>\n",
       "      <td>0.526079</td>\n",
       "      <td>0.090378</td>\n",
       "      <td>0.026529</td>\n",
       "      <td>0.028777</td>\n",
       "      <td>0.003597</td>\n",
       "      <td>0.013939</td>\n",
       "      <td>0.166367</td>\n",
       "      <td>0.015288</td>\n",
       "      <td>0.051709</td>\n",
       "      <td>0.077338</td>\n",
       "    </tr>\n",
       "    <tr>\n",
       "      <td>10</td>\n",
       "      <td>0.124490</td>\n",
       "      <td>0.201593</td>\n",
       "      <td>0.221208</td>\n",
       "      <td>0.077297</td>\n",
       "      <td>0.030103</td>\n",
       "      <td>0.015925</td>\n",
       "      <td>0.074578</td>\n",
       "      <td>0.066032</td>\n",
       "      <td>0.087007</td>\n",
       "      <td>0.101767</td>\n",
       "    </tr>\n",
       "    <tr>\n",
       "      <td>11</td>\n",
       "      <td>0.210775</td>\n",
       "      <td>0.206438</td>\n",
       "      <td>0.046541</td>\n",
       "      <td>0.124744</td>\n",
       "      <td>0.080566</td>\n",
       "      <td>0.032156</td>\n",
       "      <td>0.069318</td>\n",
       "      <td>0.100240</td>\n",
       "      <td>0.068860</td>\n",
       "      <td>0.060362</td>\n",
       "    </tr>\n",
       "    <tr>\n",
       "      <td>12</td>\n",
       "      <td>0.044767</td>\n",
       "      <td>0.174023</td>\n",
       "      <td>0.073770</td>\n",
       "      <td>0.138083</td>\n",
       "      <td>0.023329</td>\n",
       "      <td>0.034678</td>\n",
       "      <td>0.136822</td>\n",
       "      <td>0.086381</td>\n",
       "      <td>0.151324</td>\n",
       "      <td>0.136822</td>\n",
       "    </tr>\n",
       "  </tbody>\n",
       "</table>\n",
       "</div>"
      ],
      "text/plain": [
       "     OddEven  Stubble Burning    Diwali    Health   Cricket  E-Minister  \\\n",
       "01  0.026270         0.047285  0.035026  0.308231  0.033275    0.043783   \n",
       "02  0.037975         0.073418  0.040506  0.177215  0.020253    0.027848   \n",
       "03  0.026066         0.158768  0.052133  0.113744  0.023697    0.035545   \n",
       "04  0.023585         0.066038  0.037736  0.150943  0.030660    0.028302   \n",
       "05  0.016771         0.085954  0.035639  0.090147  0.023061    0.035639   \n",
       "06  0.043339         0.067416  0.024077  0.112360  0.020867    0.036918   \n",
       "07  0.027132         0.052326  0.029070  0.077519  0.031008    0.060078   \n",
       "08  0.016327         0.093878  0.067347  0.071429  0.014286    0.028571   \n",
       "09  0.526079         0.090378  0.026529  0.028777  0.003597    0.013939   \n",
       "10  0.124490         0.201593  0.221208  0.077297  0.030103    0.015925   \n",
       "11  0.210775         0.206438  0.046541  0.124744  0.080566    0.032156   \n",
       "12  0.044767         0.174023  0.073770  0.138083  0.023329    0.034678   \n",
       "\n",
       "    Vehicles    School      Mask      Dust  \n",
       "01  0.103327  0.110333  0.106830  0.185639  \n",
       "02  0.225316  0.096203  0.108861  0.192405  \n",
       "03  0.199052  0.071090  0.116114  0.203791  \n",
       "04  0.219340  0.047170  0.094340  0.301887  \n",
       "05  0.159329  0.079665  0.192872  0.280922  \n",
       "06  0.213483  0.081862  0.139647  0.260032  \n",
       "07  0.238372  0.052326  0.215116  0.217054  \n",
       "08  0.214286  0.028571  0.253061  0.212245  \n",
       "09  0.166367  0.015288  0.051709  0.077338  \n",
       "10  0.074578  0.066032  0.087007  0.101767  \n",
       "11  0.069318  0.100240  0.068860  0.060362  \n",
       "12  0.136822  0.086381  0.151324  0.136822  "
      ]
     },
     "execution_count": 61,
     "metadata": {},
     "output_type": "execute_result"
    }
   ],
   "source": [
    "F.index = F.index.strftime(\"%m\")\n",
    "F.head(12)"
   ]
  },
  {
   "cell_type": "code",
   "execution_count": 64,
   "metadata": {},
   "outputs": [
    {
     "data": {
      "text/plain": [
       "Text(0, 0.5, 'Probability')"
      ]
     },
     "execution_count": 64,
     "metadata": {},
     "output_type": "execute_result"
    },
    {
     "data": {
      "image/png": "[encoded data removed]",
      "text/plain": [
       "<Figure size 720x216 with 1 Axes>"
      ]
     },
     "metadata": {
      "needs_background": "light"
     },
     "output_type": "display_data"
    }
   ],
   "source": [
    "ax = F.plot.bar(stacked=True, legend=True, figsize=(10,3))\n",
    "ax.legend(loc='best', bbox_to_anchor=(0.5, 0.8, 0.5, 0.5), ncol=6)\n",
    "ax.set_xlabel('Month in 2019')\n",
    "ax.set_ylabel('Probability')"
   ]
  },
  {
   "cell_type": "markdown",
   "metadata": {},
   "source": [
    "## Read the Coherence dict and plot"
   ]
  },
  {
   "cell_type": "code",
   "execution_count": 2,
   "metadata": {},
   "outputs": [],
   "source": [
    "import latexify as lt\n",
    "lt.latexify()"
   ]
  },
  {
   "cell_type": "code",
   "execution_count": 4,
   "metadata": {},
   "outputs": [],
   "source": [
    "F = pd.DataFrame()\n",
    "F['TopicNo'] = x['noTopics']\n",
    "F['cs25'] = x['cscore25']\n",
    "F['cs50'] = y['cscore50']\n",
    "F['cs75'] = z['cscore75']\n",
    "F['cs100'] = z['cscore100']"
   ]
  },
  {
   "cell_type": "code",
   "execution_count": 5,
   "metadata": {},
   "outputs": [
    {
     "data": {
      "text/plain": [
       "<matplotlib.axes._subplots.AxesSubplot at 0x7fe30b8ba910>"
      ]
     },
     "execution_count": 5,
     "metadata": {},
     "output_type": "execute_result"
    },
    {
     "data": {
      "image/png": "[encoded data removed]",
      "text/plain": [
       "<Figure size 720x216 with 1 Axes>"
      ]
     },
     "metadata": {
      "needs_background": "light"
     },
     "output_type": "display_data"
    }
   ],
   "source": [
    "ax = F.plot(x='TopicNo', y=['cs25','cs50','cs75'], label=['25 Iterations','50 Iterations','75 Iterations'], figsize=(10,3))\n",
    "ax.set_ylabel('Probability')\n",
    "ax.set_xlabel('Topic Number')\n",
    "lt.format_axes(ax)\n",
    "#plt.savefig('coherence-plot.pdf')"
   ]
  },
  {
   "cell_type": "code",
   "execution_count": 7,
   "metadata": {},
   "outputs": [
    {
     "data": {
      "text/html": [
       "<div>\n",
       "<style scoped>\n",
       "    .dataframe tbody tr th:only-of-type {\n",
       "        vertical-align: middle;\n",
       "    }\n",
       "\n",
       "    .dataframe tbody tr th {\n",
       "        vertical-align: top;\n",
       "    }\n",
       "\n",
       "    .dataframe thead th {\n",
       "        text-align: right;\n",
       "    }\n",
       "</style>\n",
       "<table border=\"1\" class=\"dataframe\">\n",
       "  <thead>\n",
       "    <tr style=\"text-align: right;\">\n",
       "      <th></th>\n",
       "      <th>TopicNo</th>\n",
       "      <th>cs25</th>\n",
       "      <th>cs50</th>\n",
       "      <th>cs75</th>\n",
       "    </tr>\n",
       "  </thead>\n",
       "  <tbody>\n",
       "    <tr>\n",
       "      <td>0</td>\n",
       "      <td>5</td>\n",
       "      <td>0.377717</td>\n",
       "      <td>0.407039</td>\n",
       "      <td>0.502856</td>\n",
       "    </tr>\n",
       "    <tr>\n",
       "      <td>1</td>\n",
       "      <td>10</td>\n",
       "      <td>0.433145</td>\n",
       "      <td>0.529432</td>\n",
       "      <td>0.512733</td>\n",
       "    </tr>\n",
       "    <tr>\n",
       "      <td>2</td>\n",
       "      <td>15</td>\n",
       "      <td>0.478379</td>\n",
       "      <td>0.486811</td>\n",
       "      <td>0.504131</td>\n",
       "    </tr>\n",
       "    <tr>\n",
       "      <td>3</td>\n",
       "      <td>20</td>\n",
       "      <td>0.520506</td>\n",
       "      <td>0.523528</td>\n",
       "      <td>0.464422</td>\n",
       "    </tr>\n",
       "    <tr>\n",
       "      <td>4</td>\n",
       "      <td>25</td>\n",
       "      <td>0.466795</td>\n",
       "      <td>0.532583</td>\n",
       "      <td>0.492317</td>\n",
       "    </tr>\n",
       "    <tr>\n",
       "      <td>5</td>\n",
       "      <td>30</td>\n",
       "      <td>0.454306</td>\n",
       "      <td>0.480711</td>\n",
       "      <td>0.471449</td>\n",
       "    </tr>\n",
       "    <tr>\n",
       "      <td>6</td>\n",
       "      <td>35</td>\n",
       "      <td>0.453650</td>\n",
       "      <td>0.495409</td>\n",
       "      <td>0.462364</td>\n",
       "    </tr>\n",
       "    <tr>\n",
       "      <td>7</td>\n",
       "      <td>40</td>\n",
       "      <td>0.451117</td>\n",
       "      <td>0.439413</td>\n",
       "      <td>0.424195</td>\n",
       "    </tr>\n",
       "    <tr>\n",
       "      <td>8</td>\n",
       "      <td>45</td>\n",
       "      <td>0.452264</td>\n",
       "      <td>0.439890</td>\n",
       "      <td>0.435160</td>\n",
       "    </tr>\n",
       "    <tr>\n",
       "      <td>9</td>\n",
       "      <td>50</td>\n",
       "      <td>0.419760</td>\n",
       "      <td>0.431926</td>\n",
       "      <td>0.424634</td>\n",
       "    </tr>\n",
       "    <tr>\n",
       "      <td>10</td>\n",
       "      <td>55</td>\n",
       "      <td>0.423753</td>\n",
       "      <td>0.409605</td>\n",
       "      <td>0.389651</td>\n",
       "    </tr>\n",
       "    <tr>\n",
       "      <td>11</td>\n",
       "      <td>60</td>\n",
       "      <td>0.405462</td>\n",
       "      <td>0.403985</td>\n",
       "      <td>0.404881</td>\n",
       "    </tr>\n",
       "    <tr>\n",
       "      <td>12</td>\n",
       "      <td>65</td>\n",
       "      <td>0.393778</td>\n",
       "      <td>0.402972</td>\n",
       "      <td>0.387803</td>\n",
       "    </tr>\n",
       "    <tr>\n",
       "      <td>13</td>\n",
       "      <td>70</td>\n",
       "      <td>0.392233</td>\n",
       "      <td>0.381893</td>\n",
       "      <td>0.378056</td>\n",
       "    </tr>\n",
       "    <tr>\n",
       "      <td>14</td>\n",
       "      <td>75</td>\n",
       "      <td>0.383296</td>\n",
       "      <td>0.391641</td>\n",
       "      <td>0.382638</td>\n",
       "    </tr>\n",
       "    <tr>\n",
       "      <td>15</td>\n",
       "      <td>80</td>\n",
       "      <td>0.384788</td>\n",
       "      <td>0.369474</td>\n",
       "      <td>0.382345</td>\n",
       "    </tr>\n",
       "    <tr>\n",
       "      <td>16</td>\n",
       "      <td>85</td>\n",
       "      <td>0.361886</td>\n",
       "      <td>0.378637</td>\n",
       "      <td>0.393640</td>\n",
       "    </tr>\n",
       "    <tr>\n",
       "      <td>17</td>\n",
       "      <td>90</td>\n",
       "      <td>0.377672</td>\n",
       "      <td>0.366268</td>\n",
       "      <td>0.376562</td>\n",
       "    </tr>\n",
       "    <tr>\n",
       "      <td>18</td>\n",
       "      <td>95</td>\n",
       "      <td>0.383005</td>\n",
       "      <td>0.375625</td>\n",
       "      <td>NaN</td>\n",
       "    </tr>\n",
       "  </tbody>\n",
       "</table>\n",
       "</div>"
      ],
      "text/plain": [
       "    TopicNo      cs25      cs50      cs75\n",
       "0         5  0.377717  0.407039  0.502856\n",
       "1        10  0.433145  0.529432  0.512733\n",
       "2        15  0.478379  0.486811  0.504131\n",
       "3        20  0.520506  0.523528  0.464422\n",
       "4        25  0.466795  0.532583  0.492317\n",
       "5        30  0.454306  0.480711  0.471449\n",
       "6        35  0.453650  0.495409  0.462364\n",
       "7        40  0.451117  0.439413  0.424195\n",
       "8        45  0.452264  0.439890  0.435160\n",
       "9        50  0.419760  0.431926  0.424634\n",
       "10       55  0.423753  0.409605  0.389651\n",
       "11       60  0.405462  0.403985  0.404881\n",
       "12       65  0.393778  0.402972  0.387803\n",
       "13       70  0.392233  0.381893  0.378056\n",
       "14       75  0.383296  0.391641  0.382638\n",
       "15       80  0.384788  0.369474  0.382345\n",
       "16       85  0.361886  0.378637  0.393640\n",
       "17       90  0.377672  0.366268  0.376562\n",
       "18       95  0.383005  0.375625       NaN"
      ]
     },
     "execution_count": 7,
     "metadata": {},
     "output_type": "execute_result"
    }
   ],
   "source": [
    "F\n"
   ]
  },
  {
   "cell_type": "code",
   "execution_count": null,
   "metadata": {},
   "outputs": [],
   "source": [
    "y"
   ]
  },
  {
   "cell_type": "code",
   "execution_count": null,
   "metadata": {},
   "outputs": [],
   "source": []
  },
  {
   "cell_type": "code",
   "execution_count": 7,
   "metadata": {},
   "outputs": [
    {
     "data": {
      "text/plain": [
       "Text(0, 0.5, 'Coherence Score (cv)')"
      ]
     },
     "execution_count": 7,
     "metadata": {},
     "output_type": "execute_result"
    },
    {
     "data": {
      "image/png": "[encoded data removed]",
      "text/plain": [
       "<Figure size 720x216 with 1 Axes>"
      ]
     },
     "metadata": {
      "needs_background": "light"
     },
     "output_type": "display_data"
    }
   ],
   "source": [
    "#lt.latexify()\n",
    "#number of passes = 50\n",
    "# for all year 2016 to 2019\n",
    "coherenceAll = pd.read_pickle('coherence/coherence-oddeven-tweets.pickle')\n",
    "coherenceAll = dict(coherenceAll)\n",
    "plt.figure(figsize=(10,3))\n",
    "ax = plt.plot(list(coherenceAll.keys()), list(coherenceAll.values()))\n",
    "\n",
    "plt.title('Topics vs C Score with 50 Passes For 2016 to 2019 On OddEven Tweets')\n",
    "plt.xlabel('Number of topics')\n",
    "plt.ylabel('Coherence Score (cv)')\n",
    "#lt.format_axes(ax)"
   ]
  },
  {
   "cell_type": "code",
   "execution_count": 8,
   "metadata": {},
   "outputs": [
    {
     "data": {
      "text/plain": [
       "{1: 0.15716205970987102,\n",
       " 3: 0.31659646138930236,\n",
       " 5: 0.29042810074116804,\n",
       " 7: 0.3237480619934218,\n",
       " 9: 0.3062521190056296,\n",
       " 11: 0.32757995339717216,\n",
       " 13: 0.3269277696690059,\n",
       " 15: 0.35493911585637056,\n",
       " 17: 0.3390772906794202,\n",
       " 19: 0.34460378796992924,\n",
       " 21: 0.3295791792680137,\n",
       " 23: 0.3241848278800718,\n",
       " 25: 0.32395820452446755,\n",
       " 27: 0.32398095769503926,\n",
       " 29: 0.33084092353884187}"
      ]
     },
     "execution_count": 8,
     "metadata": {},
     "output_type": "execute_result"
    }
   ],
   "source": [
    "coherenceAll"
   ]
  },
  {
   "cell_type": "code",
   "execution_count": 3,
   "metadata": {},
   "outputs": [
    {
     "data": {
      "text/plain": [
       "Text(0, 0.5, 'Coherence Score (u_mass)')"
      ]
     },
     "execution_count": 3,
     "metadata": {},
     "output_type": "execute_result"
    },
    {
     "data": {
      "image/png": "[encoded data removed]",
      "text/plain": [
       "<Figure size 432x288 with 1 Axes>"
      ]
     },
     "metadata": {
      "needs_background": "light"
     },
     "output_type": "display_data"
    }
   ],
   "source": [
    "#number of passes = 50\n",
    "# for all year 2016 to 2019\n",
    "coherenceAll = pd.read_pickle('coherence-all.pickle')\n",
    "coherenceAll = dict(coherenceAll)\n",
    "plt.plot(list(coherenceAll.keys()), list(coherenceAll.values()))\n",
    "plt.title('Topics vs C Score with 50 Passes For 2016 to 2019')\n",
    "plt.xlabel('Number of topics')\n",
    "plt.ylabel('Coherence Score (u_mass)')"
   ]
  },
  {
   "cell_type": "code",
   "execution_count": 128,
   "metadata": {},
   "outputs": [],
   "source": [
    "#number of passes = 100\n",
    "coherence0 = pd.read_pickle('coherence-umass.pickle')"
   ]
  },
  {
   "cell_type": "code",
   "execution_count": 129,
   "metadata": {},
   "outputs": [],
   "source": [
    "coherence0 = dict(coherence0)"
   ]
  },
  {
   "cell_type": "code",
   "execution_count": 130,
   "metadata": {},
   "outputs": [
    {
     "data": {
      "text/plain": [
       "Text(0, 0.5, 'Coherence Score (u_mass)')"
      ]
     },
     "execution_count": 130,
     "metadata": {},
     "output_type": "execute_result"
    },
    {
     "data": {
      "image/png": "[encoded data removed]",
      "text/plain": [
       "<Figure size 432x288 with 1 Axes>"
      ]
     },
     "metadata": {
      "needs_background": "light"
     },
     "output_type": "display_data"
    }
   ],
   "source": [
    "plt.plot(list(coherence0.keys()), list(coherence0.values()))\n",
    "plt.title('Topics vs C Score with 100 Passes')\n",
    "plt.xlabel('Number of topics')\n",
    "plt.ylabel('Coherence Score (u_mass)')"
   ]
  },
  {
   "cell_type": "code",
   "execution_count": 4,
   "metadata": {},
   "outputs": [
    {
     "data": {
      "text/plain": [
       "Text(0, 0.5, 'Coherence Score')"
      ]
     },
     "execution_count": 4,
     "metadata": {},
     "output_type": "execute_result"
    },
    {
     "data": {
      "image/png": "[encoded data removed]",
      "text/plain": [
       "<Figure size 432x288 with 1 Axes>"
      ]
     },
     "metadata": {
      "needs_background": "light"
     },
     "output_type": "display_data"
    }
   ],
   "source": [
    "#number of passes = 100\n",
    "coherence = pd.read_pickle('coherence-200.pickle')\n",
    "coherence = dict(coherence)\n",
    "plt.plot(list(coherence.keys()), list(coherence.values()))\n",
    "plt.title('Topics vs C Score with 200 Passes')\n",
    "plt.xlabel('Number of topics')\n",
    "plt.ylabel('Coherence Score')"
   ]
  },
  {
   "cell_type": "code",
   "execution_count": 23,
   "metadata": {},
   "outputs": [],
   "source": [
    "x = pd.DataFrame({'noTopics':list(coherence0.keys()), 'cscore100':list(coherence0.values())})"
   ]
  },
  {
   "cell_type": "code",
   "execution_count": 24,
   "metadata": {},
   "outputs": [],
   "source": [
    "y = pd.DataFrame({'noTopics':list(coherence.keys()), 'cscore200':list(coherence.values())})"
   ]
  },
  {
   "cell_type": "code",
   "execution_count": 26,
   "metadata": {},
   "outputs": [],
   "source": [
    "z = pd.merge(x,y,on='noTopics')"
   ]
  },
  {
   "cell_type": "code",
   "execution_count": 30,
   "metadata": {},
   "outputs": [
    {
     "data": {
      "text/plain": [
       "0    10\n",
       "1    20\n",
       "2    30\n",
       "3    40\n",
       "4    50\n",
       "5    60\n",
       "6    70\n",
       "7    80\n",
       "8    90\n",
       "Name: noTopics, dtype: int64"
      ]
     },
     "execution_count": 30,
     "metadata": {},
     "output_type": "execute_result"
    }
   ],
   "source": [
    "z['noTopics']"
   ]
  },
  {
   "cell_type": "code",
   "execution_count": 50,
   "metadata": {},
   "outputs": [
    {
     "data": {
      "text/plain": [
       "Text(0, 0.5, 'Coherence Score')"
      ]
     },
     "execution_count": 50,
     "metadata": {},
     "output_type": "execute_result"
    },
    {
     "data": {
      "image/png": "[encoded data removed]",
      "text/plain": [
       "<Figure size 720x360 with 1 Axes>"
      ]
     },
     "metadata": {
      "needs_background": "light"
     },
     "output_type": "display_data"
    }
   ],
   "source": [
    "ax = z.plot(x='noTopics',y=['cscore100', 'cscore200'], title='No. of topics vs C Score', label=['Iter=100', 'Iter=200'], figsize=(10,5))\n",
    "ax.set_xlabel('Number of topics')\n",
    "ax.set_ylabel('Coherence Score')"
   ]
  },
  {
   "cell_type": "markdown",
   "metadata": {},
   "source": [
    "## Coherence calculation for OddEven tweets"
   ]
  },
  {
   "cell_type": "code",
   "execution_count": 2,
   "metadata": {},
   "outputs": [
    {
     "data": {
      "image/png": "[encoded data removed]",
      "text/plain": [
       "<Figure size 720x216 with 1 Axes>"
      ]
     },
     "metadata": {
      "needs_background": "light"
     },
     "output_type": "display_data"
    }
   ],
   "source": [
    "#number of passes = 50\n",
    "# for all year 2016 to 2019\n",
    "coherence5 = dict(pd.read_pickle('coherence/coherence-oddeven-tweets-iter-5.pickle'))\n",
    "coherence10 = dict(pd.read_pickle('coherence/coherence-oddeven-tweets-iter-10.pickle'))\n",
    "coherence15 = dict(pd.read_pickle('coherence/coherence-oddeven-tweets-iter-15.pickle'))\n",
    "coherence20 = dict(pd.read_pickle('coherence/coherence-oddeven-tweets-iter-20.pickle'))\n",
    "coherence25 = dict(pd.read_pickle('coherence/coherence-oddeven-tweets-iter-25.pickle'))\n",
    "coherence50 = dict(pd.read_pickle('coherence/coherence-oddeven-tweets.pickle'))\n",
    "coherence75 = dict(pd.read_pickle('coherence/coherence-oddeven-tweets-iter-75.pickle'))\n",
    "coherence100 = dict(pd.read_pickle('coherence/coherence-oddeven-tweets-iter-100.pickle'))\n",
    "coherence120 = dict(pd.read_pickle('coherence/coherence-oddeven-tweets-iter-120.pickle'))\n",
    "coherence150 = dict(pd.read_pickle('coherence/coherence-oddeven-tweets-iter-150.pickle'))\n",
    "#x = pd.DataFrame({'noTopics':list(coherence25.keys()), 'cscore25':list(coherence25.values())})\n",
    "#y = pd.DataFrame({'noTopics':list(coherence50.keys()), 'cscore50':list(coherence50.values())})\n",
    "#z = pd.DataFrame({'noTopics':list(coherence75.keys()), 'cscore75':list(coherence75.values())})\n",
    "a = pd.DataFrame({'noTopics':list(coherence100.keys()), 'cscore100':list(coherence100.values())})\n",
    "b = pd.DataFrame({'noTopics':list(coherence120.keys()), 'cscore120':list(coherence120.values())})\n",
    "c = pd.DataFrame({'noTopics':list(coherence150.keys()), 'cscore150':list(coherence150.values())})\n",
    "#b = pd.DataFrame({'noTopics':list(coherence20.keys()), 'cscore20':list(coherence20.values())})\n",
    "#c = pd.DataFrame({'noTopics':list(coherence15.keys()), 'cscore15':list(coherence15.values())})\n",
    "#d = pd.DataFrame({'noTopics':list(coherence10.keys()), 'cscore10':list(coherence10.values())})\n",
    "#e = pd.DataFrame({'noTopics':list(coherence5.keys()), 'cscore5':list(coherence5.values())})\n",
    "\n",
    "#z = pd.merge(x,y,on='noTopics')\n",
    "\n",
    "F = pd.DataFrame()\n",
    "F['TopicNo'] = a['noTopics']\n",
    "'''\n",
    "F['cs5'] = e['cscore5']\n",
    "F['cs10'] = d['cscore10']\n",
    "F['TopicNo'] = x['noTopics']\n",
    "F['cs25'] = x['cscore25']\n",
    "F['cs50'] = y['cscore50']\n",
    "F['cs75'] = z['cscore75']\n",
    "F['cs100'] = a['cscore100']\n",
    "F['cs120'] = b['cscore120']\n",
    "F['cs150'] = c['cscore150']\n",
    "'''\n",
    "F['cs100'] = a['cscore100']\n",
    "F['cs120'] = b['cscore120']\n",
    "F['cs150'] = c['cscore150']\n",
    "\n",
    "\n",
    "ax = F.plot(x='TopicNo', y=['cs100','cs120','cs150'], label=['100 Iterations','120 Iterations','150 Iterations'], figsize=(10,3))\n",
    "ax.set_ylabel('Probability')\n",
    "ax.set_xlabel('Topic Number For \"OddEven\" Tweets')\n",
    "lt.format_axes(ax)\n",
    "plt.savefig('coherence-plot.pdf', bbox_inches='tight')\n"
   ]
  },
  {
   "cell_type": "code",
   "execution_count": 36,
   "metadata": {},
   "outputs": [
    {
     "data": {
      "text/html": [
       "<div>\n",
       "<style scoped>\n",
       "    .dataframe tbody tr th:only-of-type {\n",
       "        vertical-align: middle;\n",
       "    }\n",
       "\n",
       "    .dataframe tbody tr th {\n",
       "        vertical-align: top;\n",
       "    }\n",
       "\n",
       "    .dataframe thead th {\n",
       "        text-align: right;\n",
       "    }\n",
       "</style>\n",
       "<table border=\"1\" class=\"dataframe\">\n",
       "  <thead>\n",
       "    <tr style=\"text-align: right;\">\n",
       "      <th></th>\n",
       "      <th>TopicNo</th>\n",
       "      <th>cs100</th>\n",
       "      <th>cs120</th>\n",
       "      <th>cs150</th>\n",
       "    </tr>\n",
       "  </thead>\n",
       "  <tbody>\n",
       "    <tr>\n",
       "      <td>0</td>\n",
       "      <td>1</td>\n",
       "      <td>0.157162</td>\n",
       "      <td>0.157162</td>\n",
       "      <td>0.157162</td>\n",
       "    </tr>\n",
       "    <tr>\n",
       "      <td>1</td>\n",
       "      <td>3</td>\n",
       "      <td>0.292149</td>\n",
       "      <td>0.249559</td>\n",
       "      <td>0.309200</td>\n",
       "    </tr>\n",
       "    <tr>\n",
       "      <td>2</td>\n",
       "      <td>5</td>\n",
       "      <td>0.306881</td>\n",
       "      <td>0.296955</td>\n",
       "      <td>0.295315</td>\n",
       "    </tr>\n",
       "    <tr>\n",
       "      <td>3</td>\n",
       "      <td>7</td>\n",
       "      <td>0.336312</td>\n",
       "      <td>0.345236</td>\n",
       "      <td>0.322175</td>\n",
       "    </tr>\n",
       "    <tr>\n",
       "      <td>4</td>\n",
       "      <td>9</td>\n",
       "      <td>0.312595</td>\n",
       "      <td>0.377309</td>\n",
       "      <td>0.324861</td>\n",
       "    </tr>\n",
       "    <tr>\n",
       "      <td>5</td>\n",
       "      <td>11</td>\n",
       "      <td>0.360295</td>\n",
       "      <td>0.374413</td>\n",
       "      <td>0.340634</td>\n",
       "    </tr>\n",
       "    <tr>\n",
       "      <td>6</td>\n",
       "      <td>13</td>\n",
       "      <td>0.360742</td>\n",
       "      <td>0.352625</td>\n",
       "      <td>0.348583</td>\n",
       "    </tr>\n",
       "    <tr>\n",
       "      <td>7</td>\n",
       "      <td>15</td>\n",
       "      <td>0.340576</td>\n",
       "      <td>0.337499</td>\n",
       "      <td>0.344055</td>\n",
       "    </tr>\n",
       "    <tr>\n",
       "      <td>8</td>\n",
       "      <td>17</td>\n",
       "      <td>0.328127</td>\n",
       "      <td>0.335678</td>\n",
       "      <td>0.331298</td>\n",
       "    </tr>\n",
       "    <tr>\n",
       "      <td>9</td>\n",
       "      <td>19</td>\n",
       "      <td>0.339994</td>\n",
       "      <td>0.335229</td>\n",
       "      <td>0.336277</td>\n",
       "    </tr>\n",
       "    <tr>\n",
       "      <td>10</td>\n",
       "      <td>21</td>\n",
       "      <td>0.324275</td>\n",
       "      <td>0.328864</td>\n",
       "      <td>0.338023</td>\n",
       "    </tr>\n",
       "    <tr>\n",
       "      <td>11</td>\n",
       "      <td>23</td>\n",
       "      <td>0.320526</td>\n",
       "      <td>0.333777</td>\n",
       "      <td>0.325826</td>\n",
       "    </tr>\n",
       "    <tr>\n",
       "      <td>12</td>\n",
       "      <td>25</td>\n",
       "      <td>0.331920</td>\n",
       "      <td>0.332438</td>\n",
       "      <td>0.339880</td>\n",
       "    </tr>\n",
       "    <tr>\n",
       "      <td>13</td>\n",
       "      <td>27</td>\n",
       "      <td>0.324277</td>\n",
       "      <td>0.322566</td>\n",
       "      <td>0.345068</td>\n",
       "    </tr>\n",
       "    <tr>\n",
       "      <td>14</td>\n",
       "      <td>29</td>\n",
       "      <td>0.322475</td>\n",
       "      <td>0.337979</td>\n",
       "      <td>0.330217</td>\n",
       "    </tr>\n",
       "  </tbody>\n",
       "</table>\n",
       "</div>"
      ],
      "text/plain": [
       "    TopicNo     cs100     cs120     cs150\n",
       "0         1  0.157162  0.157162  0.157162\n",
       "1         3  0.292149  0.249559  0.309200\n",
       "2         5  0.306881  0.296955  0.295315\n",
       "3         7  0.336312  0.345236  0.322175\n",
       "4         9  0.312595  0.377309  0.324861\n",
       "5        11  0.360295  0.374413  0.340634\n",
       "6        13  0.360742  0.352625  0.348583\n",
       "7        15  0.340576  0.337499  0.344055\n",
       "8        17  0.328127  0.335678  0.331298\n",
       "9        19  0.339994  0.335229  0.336277\n",
       "10       21  0.324275  0.328864  0.338023\n",
       "11       23  0.320526  0.333777  0.325826\n",
       "12       25  0.331920  0.332438  0.339880\n",
       "13       27  0.324277  0.322566  0.345068\n",
       "14       29  0.322475  0.337979  0.330217"
      ]
     },
     "execution_count": 36,
     "metadata": {},
     "output_type": "execute_result"
    }
   ],
   "source": [
    "F"
   ]
  },
  {
   "cell_type": "code",
   "execution_count": 1,
   "metadata": {},
   "outputs": [],
   "source": [
    "##read df"
   ]
  },
  {
   "cell_type": "code",
   "execution_count": 3,
   "metadata": {},
   "outputs": [
    {
     "data": {
      "text/html": [
       "<div>\n",
       "<style scoped>\n",
       "    .dataframe tbody tr th:only-of-type {\n",
       "        vertical-align: middle;\n",
       "    }\n",
       "\n",
       "    .dataframe tbody tr th {\n",
       "        vertical-align: top;\n",
       "    }\n",
       "\n",
       "    .dataframe thead th {\n",
       "        text-align: right;\n",
       "    }\n",
       "</style>\n",
       "<table border=\"1\" class=\"dataframe\">\n",
       "  <thead>\n",
       "    <tr style=\"text-align: right;\">\n",
       "      <th></th>\n",
       "      <th>cs50</th>\n",
       "      <th>cs75</th>\n",
       "      <th>cs100</th>\n",
       "    </tr>\n",
       "    <tr>\n",
       "      <th>topicNo</th>\n",
       "      <th></th>\n",
       "      <th></th>\n",
       "      <th></th>\n",
       "    </tr>\n",
       "  </thead>\n",
       "  <tbody>\n",
       "    <tr>\n",
       "      <td>10</td>\n",
       "      <td>0.230</td>\n",
       "      <td>0.260</td>\n",
       "      <td>0.280</td>\n",
       "    </tr>\n",
       "    <tr>\n",
       "      <td>15</td>\n",
       "      <td>0.236</td>\n",
       "      <td>0.269</td>\n",
       "      <td>0.340</td>\n",
       "    </tr>\n",
       "    <tr>\n",
       "      <td>20</td>\n",
       "      <td>0.360</td>\n",
       "      <td>0.370</td>\n",
       "      <td>0.430</td>\n",
       "    </tr>\n",
       "    <tr>\n",
       "      <td>25</td>\n",
       "      <td>0.370</td>\n",
       "      <td>0.372</td>\n",
       "      <td>0.534</td>\n",
       "    </tr>\n",
       "    <tr>\n",
       "      <td>30</td>\n",
       "      <td>0.410</td>\n",
       "      <td>0.380</td>\n",
       "      <td>0.520</td>\n",
       "    </tr>\n",
       "    <tr>\n",
       "      <td>35</td>\n",
       "      <td>0.420</td>\n",
       "      <td>0.350</td>\n",
       "      <td>0.510</td>\n",
       "    </tr>\n",
       "    <tr>\n",
       "      <td>40</td>\n",
       "      <td>0.450</td>\n",
       "      <td>0.340</td>\n",
       "      <td>0.500</td>\n",
       "    </tr>\n",
       "    <tr>\n",
       "      <td>45</td>\n",
       "      <td>0.435</td>\n",
       "      <td>0.330</td>\n",
       "      <td>0.490</td>\n",
       "    </tr>\n",
       "    <tr>\n",
       "      <td>50</td>\n",
       "      <td>0.431</td>\n",
       "      <td>0.320</td>\n",
       "      <td>0.480</td>\n",
       "    </tr>\n",
       "  </tbody>\n",
       "</table>\n",
       "</div>"
      ],
      "text/plain": [
       "          cs50   cs75  cs100\n",
       "topicNo                     \n",
       "10       0.230  0.260  0.280\n",
       "15       0.236  0.269  0.340\n",
       "20       0.360  0.370  0.430\n",
       "25       0.370  0.372  0.534\n",
       "30       0.410  0.380  0.520\n",
       "35       0.420  0.350  0.510\n",
       "40       0.450  0.340  0.500\n",
       "45       0.435  0.330  0.490\n",
       "50       0.431  0.320  0.480"
      ]
     },
     "execution_count": 3,
     "metadata": {},
     "output_type": "execute_result"
    }
   ],
   "source": [
    "df"
   ]
  },
  {
   "cell_type": "code",
   "execution_count": 21,
   "metadata": {},
   "outputs": [
    {
     "data": {
      "image/png": "[encoded data removed]",
      "text/plain": [
       "<Figure size 244.08x72 with 1 Axes>"
      ]
     },
     "metadata": {},
     "output_type": "display_data"
    }
   ],
   "source": [
    "lt.latexify(fig_height=1)\n",
    "ax = df.plot(label=['50 Iterations','75 Iterations','100 Iterations'])\n",
    "ax.set_xlabel('Number of Topics')\n",
    "ax.set_ylabel('Coherence Score \\n(Higher is better)')\n",
    "ax.legend(['50 Iterations','75 Iterations','100 Iterations'],bbox_to_anchor = [1.5,1.0])\n",
    "#ax.set_title('Coherence Score vs Number of topics for 2.2 Million Tweets')\n",
    "\n",
    "lt.format_axes(ax)\n",
    "\n",
    "plt.savefig('coherence-plot.pdf', bbox_inches='tight')\n"
   ]
  },
  {
   "cell_type": "code",
   "execution_count": 14,
   "metadata": {},
   "outputs": [
    {
     "data": {
      "text/html": [
       "<div>\n",
       "<style scoped>\n",
       "    .dataframe tbody tr th:only-of-type {\n",
       "        vertical-align: middle;\n",
       "    }\n",
       "\n",
       "    .dataframe tbody tr th {\n",
       "        vertical-align: top;\n",
       "    }\n",
       "\n",
       "    .dataframe thead th {\n",
       "        text-align: right;\n",
       "    }\n",
       "</style>\n",
       "<table border=\"1\" class=\"dataframe\">\n",
       "  <thead>\n",
       "    <tr style=\"text-align: right;\">\n",
       "      <th></th>\n",
       "      <th>cs50</th>\n",
       "      <th>cs75</th>\n",
       "      <th>cs100</th>\n",
       "    </tr>\n",
       "    <tr>\n",
       "      <th>topicNo</th>\n",
       "      <th></th>\n",
       "      <th></th>\n",
       "      <th></th>\n",
       "    </tr>\n",
       "  </thead>\n",
       "  <tbody>\n",
       "    <tr>\n",
       "      <td>10</td>\n",
       "      <td>0.33</td>\n",
       "      <td>0.36</td>\n",
       "      <td>0.51</td>\n",
       "    </tr>\n",
       "    <tr>\n",
       "      <td>20</td>\n",
       "      <td>0.36</td>\n",
       "      <td>0.37</td>\n",
       "      <td>0.53</td>\n",
       "    </tr>\n",
       "    <tr>\n",
       "      <td>30</td>\n",
       "      <td>0.41</td>\n",
       "      <td>0.38</td>\n",
       "      <td>0.52</td>\n",
       "    </tr>\n",
       "    <tr>\n",
       "      <td>40</td>\n",
       "      <td>0.45</td>\n",
       "      <td>0.35</td>\n",
       "      <td>0.50</td>\n",
       "    </tr>\n",
       "    <tr>\n",
       "      <td>50</td>\n",
       "      <td>0.43</td>\n",
       "      <td>0.33</td>\n",
       "      <td>0.49</td>\n",
       "    </tr>\n",
       "  </tbody>\n",
       "</table>\n",
       "</div>"
      ],
      "text/plain": [
       "         cs50  cs75  cs100\n",
       "topicNo                   \n",
       "10       0.33  0.36   0.51\n",
       "20       0.36  0.37   0.53\n",
       "30       0.41  0.38   0.52\n",
       "40       0.45  0.35   0.50\n",
       "50       0.43  0.33   0.49"
      ]
     },
     "execution_count": 14,
     "metadata": {},
     "output_type": "execute_result"
    }
   ],
   "source": [
    "df"
   ]
  }
 ],
 "metadata": {
  "kernelspec": {
   "display_name": "Python 3",
   "language": "python",
   "name": "python3"
  },
  "language_info": {
   "codemirror_mode": {
    "name": "ipython",
    "version": 3
   },
   "file_extension": ".py",
   "mimetype": "text/x-python",
   "name": "python",
   "nbconvert_exporter": "python",
   "pygments_lexer": "ipython3",
   "version": "3.6.5"
  }
 },
 "nbformat": 4,
 "nbformat_minor": 2
}
