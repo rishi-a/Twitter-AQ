{
  "nbformat": 4,
  "nbformat_minor": 0,
  "metadata": {
    "colab": {
      "name": "Naive Bayes.ipynb",
      "provenance": [],
      "collapsed_sections": [
        "zoKGGAHbOphc",
        "MhiEUfEN7Deg",
        "aPbSucOgovls",
        "qci_jkjH6V8m",
        "enmPVya62Qpq",
        "KdIL6TrzpRsg",
        "6HCiQFMYI-cX",
        "SiMswbZuV-rO"
      ],
      "toc_visible": true,
      "include_colab_link": true
    },
    "kernelspec": {
      "name": "python3",
      "display_name": "Python 3"
    }
  },
  "cells": [
    {
      "cell_type": "markdown",
      "metadata": {
        "id": "view-in-github",
        "colab_type": "text"
      },
      "source": [
        "<a href=\"https://colab.research.google.com/github/rishi-a/Twitter-AQ/blob/master/Naive_Bayes.ipynb\" target=\"_parent\"><img src=\"https://colab.research.google.com/assets/colab-badge.svg\" alt=\"Open In Colab\"/></a>"
      ]
    },
    {
      "cell_type": "markdown",
      "metadata": {
        "id": "QQh6Naw3WVxt",
        "colab_type": "text"
      },
      "source": [
        "##Code for Naive Bayes"
      ]
    },
    {
      "cell_type": "code",
      "metadata": {
        "id": "1OlGzm1NWZLu",
        "colab_type": "code",
        "colab": {
          "base_uri": "https://localhost:8080/",
          "height": 34
        },
        "outputId": "8ae55198-e686-460c-d58e-4ea80b30bdf9"
      },
      "source": [
        "import pandas as pd\n",
        "import numpy as np\n",
        "from sklearn.metrics import cohen_kappa_score\n",
        "from sklearn.metrics import accuracy_score, f1_score\n",
        "from sklearn.metrics import balanced_accuracy_score\n",
        "from matplotlib import pyplot as plt\n",
        "from __future__ import print_function\n",
        "import keras\n",
        "from keras.datasets import mnist\n",
        "from keras.models import Sequential\n",
        "from keras.layers import Dense, Dropout, Flatten\n",
        "import numpy\n",
        "from sklearn.model_selection import GridSearchCV\n",
        "from keras.wrappers.scikit_learn import KerasClassifier\n",
        "from keras.optimizers import SGD\n",
        "from keras.constraints import maxnorm\n",
        "#pd.set_option('display.max_colwidth', 2000) # To visualize full output\n",
        "pd.set_option(\"display.max_rows\", None, \"display.max_columns\", None)"
      ],
      "execution_count": null,
      "outputs": [
        {
          "output_type": "stream",
          "text": [
            "Using TensorFlow backend.\n"
          ],
          "name": "stderr"
        }
      ]
    },
    {
      "cell_type": "code",
      "metadata": {
        "id": "9-JIRpyIWc96",
        "colab_type": "code",
        "colab": {
          "base_uri": "https://localhost:8080/",
          "height": 34
        },
        "outputId": "9221aebf-a3fc-47ff-fa02-22a0068a963a"
      },
      "source": [
        "import pickle \n",
        "#dum = pd.read_csv('https://raw.githubusercontent.com/patel-zeel/kdd_data_open/master/smogtowertweets%2B150.csv')\n",
        "#url = 'https://raw.githubusercontent.com/patel-zeel/kdd_data_open/master/SmogTweet500%20-%20210TZ.csv'\n",
        "df_main = pd.read_csv('OddEvenUnique - OddEvenUnique (1).csv')\n",
        "#frames = [df_main,dum]\n",
        "#df_main = pd.concat(frames)\n",
        "df_main = df_main[df_main['ZLabel'].notna()]\n",
        "df_main = df_main[:-1]\n",
        "df_main.shape\n",
        "#df_main = df_main.sample(len(df_main), random_state=42)"
      ],
      "execution_count": null,
      "outputs": [
        {
          "output_type": "execute_result",
          "data": {
            "text/plain": [
              "(800, 14)"
            ]
          },
          "metadata": {
            "tags": []
          },
          "execution_count": 3
        }
      ]
    },
    {
      "cell_type": "code",
      "metadata": {
        "id": "ZSVmPJ8rWfZw",
        "colab_type": "code",
        "colab": {}
      },
      "source": [
        "def preprocess(tweet):\n",
        "  #tweet = tweet.replace('@ ','@').replace('# ','#')\n",
        "  return ' '.join(w for w in tweet.split() if w[0] not in ['@'] and \n",
        "                  not w.startswith('pic.twitter.com') and\n",
        "                  not w.startswith('http://') and\n",
        "                  not w.startswith('https://')).lower()"
      ],
      "execution_count": null,
      "outputs": []
    },
    {
      "cell_type": "code",
      "metadata": {
        "id": "16J5qMp2Whoy",
        "colab_type": "code",
        "colab": {}
      },
      "source": [
        "df_main['Tweet text processed'] = df_main['tweet'].apply(preprocess)"
      ],
      "execution_count": null,
      "outputs": []
    },
    {
      "cell_type": "code",
      "metadata": {
        "id": "3bYXvrCCTcb_",
        "colab_type": "code",
        "colab": {
          "base_uri": "https://localhost:8080/",
          "height": 51
        },
        "outputId": "95e73828-1031-4b6a-8a85-cbd4637ef0aa"
      },
      "source": [
        "print('before',len(df_main))\n",
        "df_main = df_main.drop_duplicates(subset='Tweet text processed')\n",
        "print('after',len(df_main))"
      ],
      "execution_count": null,
      "outputs": [
        {
          "output_type": "stream",
          "text": [
            "before 800\n",
            "after 800\n"
          ],
          "name": "stdout"
        }
      ]
    },
    {
      "cell_type": "code",
      "metadata": {
        "id": "d0cwqsLqWkBG",
        "colab_type": "code",
        "colab": {}
      },
      "source": [
        "df_main = df_main.reset_index(drop = True)\n",
        "#df_main.head()"
      ],
      "execution_count": null,
      "outputs": []
    },
    {
      "cell_type": "code",
      "metadata": {
        "id": "r5jjNT1cWmDR",
        "colab_type": "code",
        "colab": {}
      },
      "source": [
        "from sklearn.feature_extraction.text import CountVectorizer\n",
        "vect = CountVectorizer(max_features=10000, binary=True)\n",
        "X = vect.fit_transform(df_main.tweet)\n",
        "X = X.toarray()"
      ],
      "execution_count": null,
      "outputs": []
    },
    {
      "cell_type": "code",
      "metadata": {
        "id": "uakTTnmy2Bsg",
        "colab_type": "code",
        "colab": {}
      },
      "source": [
        "from itertools import product\n",
        "from sklearn.naive_bayes import MultinomialNB\n",
        "from sklearn.metrics import balanced_accuracy_score\n",
        "\n",
        "def create_model(alpha,fit_prior):\n",
        "\t# create model:\n",
        "  nb = MultinomialNB(alpha,fit_prior)\n",
        "  return nb\n",
        "\n",
        "def GridSearchCV(X, y, train_val_index, y_train_val, param_grid):\n",
        "  hyperpara_dict = {}\n",
        "  \n",
        "  kfInner = StratifiedKFold(5, shuffle=True, random_state=0)\n",
        "  train_ind, val_ind = next(kfInner.split(train_val_index, y_train_val))\n",
        "  train_df_ind = train_val_index[train_ind]\n",
        "  val_df_ind = train_val_index[val_ind]\n",
        "  X_train, y_train = X[train_df_ind], y.iloc[train_df_ind]\n",
        "  X_val, y_val = X[val_df_ind], y.iloc[val_df_ind]\n",
        "  #smt = SMOTE(random_state=0)\n",
        "  #XXX, yyy = smt.fit_resample(X_train, y_train)\n",
        "  for alpha, fit_prior in product(*param_grid.values()):\n",
        "    model = create_model(alpha, fit_prior)\n",
        "    model.fit(X_train,y_train)\n",
        "    res = model.predict(X_val)\n",
        "    score = pd.DataFrame(res)\n",
        "    y_pred = pd.DataFrame(res)\n",
        "    accuracy = f1_score(y_val, y_pred, average='macro')\n",
        "    hyperpara_dict.update({(alpha, fit_prior) : accuracy})\n",
        "  return max(hyperpara_dict, key=lambda x: hyperpara_dict[x])"
      ],
      "execution_count": null,
      "outputs": []
    },
    {
      "cell_type": "code",
      "metadata": {
        "id": "ao59NLZ33-g-",
        "colab_type": "code",
        "colab": {
          "base_uri": "https://localhost:8080/",
          "height": 105
        },
        "outputId": "61061c80-4928-48cd-a332-fd0d72317b8b"
      },
      "source": [
        "!pip -q install imblearn\n",
        "from imblearn.over_sampling import SMOTE"
      ],
      "execution_count": null,
      "outputs": [
        {
          "output_type": "stream",
          "text": [
            "/usr/local/lib/python3.6/dist-packages/sklearn/externals/six.py:31: FutureWarning: The module is deprecated in version 0.21 and will be removed in version 0.23 since we've dropped support for Python 2.7. Please rely on the official version of six (https://pypi.org/project/six/).\n",
            "  \"(https://pypi.org/project/six/).\", FutureWarning)\n",
            "/usr/local/lib/python3.6/dist-packages/sklearn/utils/deprecation.py:144: FutureWarning: The sklearn.neighbors.base module is  deprecated in version 0.22 and will be removed in version 0.24. The corresponding classes / functions should instead be imported from sklearn.neighbors. Anything that cannot be imported from sklearn.neighbors is now part of the private API.\n",
            "  warnings.warn(message, FutureWarning)\n"
          ],
          "name": "stderr"
        }
      ]
    },
    {
      "cell_type": "code",
      "metadata": {
        "id": "NJVPBPTg15me",
        "colab_type": "code",
        "colab": {
          "base_uri": "https://localhost:8080/",
          "height": 187
        },
        "outputId": "80124276-27a2-4b89-a2d3-809c9e6012ad"
      },
      "source": [
        "# Main code\n",
        "from sklearn.model_selection import train_test_split\n",
        "#df_main.loc[df_main['ZLabel'] == -1, 'ZLabel'] = 0\n",
        "#df_main.loc[df_main['ZLabel'] == -1, 'ZLabel'] = 0\n",
        "y = df_main['ZLabel']\n",
        "\n",
        "tuned_parameters = {\n",
        "    'alpha': [1, 1e-1, 1e-2, 0.5, 0.05],\n",
        "    'fit_prior': (True, False),  \n",
        "}\n",
        "\n",
        "from sklearn.model_selection import StratifiedKFold\n",
        "kf = StratifiedKFold()\n",
        "test_inds = []\n",
        "test_preds = []\n",
        "test = []\n",
        "score = []\n",
        "for train_val_index, test_index in kf.split(X, y):\n",
        "  X_train_val, X_test = X[train_val_index], X[test_index]\n",
        "  y_train_val, y_test = y.iloc[train_val_index], y.iloc[test_index]\n",
        "  alpha, fit_prior = GridSearchCV(X, y, train_val_index, y_train_val, tuned_parameters)\n",
        "  print('best', alpha, fit_prior)\n",
        "  model = create_model(alpha,fit_prior)\n",
        "  #smt = SMOTE(random_state=0)\n",
        "  #XXX, yyy = smt.fit_resample(X_train_val, y_train_val)\n",
        "  model.fit(X_train_val, y_train_val)\n",
        "  res = model.predict(X_test)\n",
        "  sc = model.predict_proba(X_test)\n",
        "  sc = pd.DataFrame(sc).max(axis =1)\n",
        "  y_pred = res\n",
        "  accuracy = f1_score(y_test, y_pred, average='macro')\n",
        "  print(accuracy)\n",
        "  test_inds.extend(test_index)\n",
        "  test_preds.extend(y_pred)\n",
        "  test.extend(y_test)\n",
        "  score.extend(sc)"
      ],
      "execution_count": null,
      "outputs": [
        {
          "output_type": "stream",
          "text": [
            "best 0.1 True\n",
            "0.5386356628262271\n",
            "best 0.1 True\n",
            "0.4991552956465237\n",
            "best 0.01 False\n",
            "0.6333287520615724\n",
            "best 0.1 True\n",
            "0.5794956366384937\n",
            "best 1 False\n",
            "0.6819616154480159\n"
          ],
          "name": "stdout"
        }
      ]
    },
    {
      "cell_type": "code",
      "metadata": {
        "id": "4Hcf21Fm6uiv",
        "colab_type": "code",
        "colab": {}
      },
      "source": [
        "df_main = df_main.reindex(test_inds)\n",
        "df_main.shape\n",
        "df_main['prediction'] = test_preds\n",
        "df_main['score'] = score\n",
        "result = df_main[['Tweet text processed','Tlabel','prediction','score']]\n",
        "#result.to_csv('3nbmogwithoutfinal.csv')"
      ],
      "execution_count": null,
      "outputs": []
    },
    {
      "cell_type": "code",
      "metadata": {
        "id": "BIDNdayID7iD",
        "colab_type": "code",
        "colab": {
          "base_uri": "https://localhost:8080/",
          "height": 503
        },
        "outputId": "44316dc0-a129-4e48-ab0e-25bf049f83eb"
      },
      "source": [
        "import matplotlib.pyplot as plt\n",
        "import seaborn as sns\n",
        "from sklearn.metrics import classification_report, balanced_accuracy_score, confusion_matrix\n",
        "from sklearn.model_selection import train_test_split\n",
        "print(classification_report(test, test_preds))\n",
        "sns.heatmap((confusion_matrix(test,test_preds)),annot=True,annot_kws={\"size\": 40},cbar=False,fmt = 'g',\n",
        "            xticklabels=[-1,0,1],\n",
        "            yticklabels=[-1,0,1])\n",
        "\n",
        "plt.xlabel('predicted')\n",
        "plt.ylabel('ground truth')\n",
        "plt.show()"
      ],
      "execution_count": null,
      "outputs": [
        {
          "output_type": "stream",
          "text": [
            "              precision    recall  f1-score   support\n",
            "\n",
            "        -1.0       0.49      0.55      0.51       211\n",
            "         0.0       0.68      0.54      0.60       262\n",
            "         1.0       0.62      0.67      0.65       327\n",
            "\n",
            "    accuracy                           0.60       800\n",
            "   macro avg       0.60      0.59      0.59       800\n",
            "weighted avg       0.60      0.60      0.60       800\n",
            "\n"
          ],
          "name": "stdout"
        },
        {
          "output_type": "stream",
          "text": [
            "/usr/local/lib/python3.6/dist-packages/statsmodels/tools/_testing.py:19: FutureWarning: pandas.util.testing is deprecated. Use the functions in the public API at pandas.testing instead.\n",
            "  import pandas.util.testing as tm\n"
          ],
          "name": "stderr"
        },
        {
          "output_type": "display_data",
          "data": {
            "image/png": "[encoded data removed]",
            "text/plain": [
              "<Figure size 432x288 with 1 Axes>"
            ]
          },
          "metadata": {
            "tags": [],
            "needs_background": "light"
          }
        }
      ]
    },
    {
      "cell_type": "code",
      "metadata": {
        "id": "VyFVVOkMiAWq",
        "colab_type": "code",
        "colab": {
          "base_uri": "https://localhost:8080/",
          "height": 886
        },
        "outputId": "26ce99a3-4930-4aa6-f8e6-cd0e8f8b59dc"
      },
      "source": [
        "pd.set_option(\"display.max_rows\", None, \"display.max_columns\", None)\n",
        "result[result['Tlabel'] != result['prediction']]"
      ],
      "execution_count": null,
      "outputs": [
        {
          "output_type": "execute_result",
          "data": {
            "text/html": [
              "<div>\n",
              "<style scoped>\n",
              "    .dataframe tbody tr th:only-of-type {\n",
              "        vertical-align: middle;\n",
              "    }\n",
              "\n",
              "    .dataframe tbody tr th {\n",
              "        vertical-align: top;\n",
              "    }\n",
              "\n",
              "    .dataframe thead th {\n",
              "        text-align: right;\n",
              "    }\n",
              "</style>\n",
              "<table border=\"1\" class=\"dataframe\">\n",
              "  <thead>\n",
              "    <tr style=\"text-align: right;\">\n",
              "      <th></th>\n",
              "      <th>Tweet text processed</th>\n",
              "      <th>Tlabel</th>\n",
              "      <th>prediction</th>\n",
              "      <th>score</th>\n",
              "    </tr>\n",
              "  </thead>\n",
              "  <tbody>\n",
              "    <tr>\n",
              "      <th>1</th>\n",
              "      <td>. khanumarfa odd day : pic 1 even day : pic 2 ...</td>\n",
              "      <td>0.0</td>\n",
              "      <td>1.0</td>\n",
              "      <td>0.962070</td>\n",
              "    </tr>\n",
              "    <tr>\n",
              "      <th>2</th>\n",
              "      <td>so close to the absurdity called # oddeven. # ...</td>\n",
              "      <td>0.0</td>\n",
              "      <td>1.0</td>\n",
              "      <td>0.999778</td>\n",
              "    </tr>\n",
              "    <tr>\n",
              "      <th>11</th>\n",
              "      <td>look at the hoarding claiming # oddeven reduce...</td>\n",
              "      <td>0.0</td>\n",
              "      <td>1.0</td>\n",
              "      <td>1.000000</td>\n",
              "    </tr>\n",
              "    <tr>\n",
              "      <th>12</th>\n",
              "      <td>arvindkejriwal hello sirji... please provide u...</td>\n",
              "      <td>1.0</td>\n",
              "      <td>0.0</td>\n",
              "      <td>0.999990</td>\n",
              "    </tr>\n",
              "    <tr>\n",
              "      <th>14</th>\n",
              "      <td>surprisingly the traffic ws under super contro...</td>\n",
              "      <td>1.0</td>\n",
              "      <td>0.0</td>\n",
              "      <td>0.997915</td>\n",
              "    </tr>\n",
              "    <tr>\n",
              "      <th>15</th>\n",
              "      <td>and we have hoardings in delhi claiming # odde...</td>\n",
              "      <td>0.0</td>\n",
              "      <td>1.0</td>\n",
              "      <td>0.999998</td>\n",
              "    </tr>\n",
              "    <tr>\n",
              "      <th>19</th>\n",
              "      <td>arvindkejriwal weather may have cleared up lil...</td>\n",
              "      <td>1.0</td>\n",
              "      <td>0.0</td>\n",
              "      <td>1.000000</td>\n",
              "    </tr>\n",
              "    <tr>\n",
              "      <th>20</th>\n",
              "      <td>tmc member of parliament speaking while wearin...</td>\n",
              "      <td>0.0</td>\n",
              "      <td>1.0</td>\n",
              "      <td>1.000000</td>\n",
              "    </tr>\n",
              "    <tr>\n",
              "      <th>23</th>\n",
              "      <td>awesome, so aqi back to 'very poor', well, # o...</td>\n",
              "      <td>1.0</td>\n",
              "      <td>0.0</td>\n",
              "      <td>1.000000</td>\n",
              "    </tr>\n",
              "    <tr>\n",
              "      <th>26</th>\n",
              "      <td>this is what we get after the huge success of ...</td>\n",
              "      <td>1.0</td>\n",
              "      <td>0.0</td>\n",
              "      <td>1.000000</td>\n",
              "    </tr>\n",
              "    <tr>\n",
              "      <th>28</th>\n",
              "      <td>absolutely; # oddeven can go a long way in tac...</td>\n",
              "      <td>1.0</td>\n",
              "      <td>0.0</td>\n",
              "      <td>0.999078</td>\n",
              "    </tr>\n",
              "    <tr>\n",
              "      <th>29</th>\n",
              "      <td>though short term measure, i appreciate # odde...</td>\n",
              "      <td>1.0</td>\n",
              "      <td>0.0</td>\n",
              "      <td>1.000000</td>\n",
              "    </tr>\n",
              "    <tr>\n",
              "      <th>32</th>\n",
              "      <td>the third phase of # oddeven scheme was implem...</td>\n",
              "      <td>0.0</td>\n",
              "      <td>1.0</td>\n",
              "      <td>0.999948</td>\n",
              "    </tr>\n",
              "    <tr>\n",
              "      <th>35</th>\n",
              "      <td>my blog with some facts and calculation based ...</td>\n",
              "      <td>0.0</td>\n",
              "      <td>1.0</td>\n",
              "      <td>1.000000</td>\n",
              "    </tr>\n",
              "    <tr>\n",
              "      <th>50</th>\n",
              "      <td>but why don't # delhi # aap # mla voluntarily ...</td>\n",
              "      <td>0.0</td>\n",
              "      <td>1.0</td>\n",
              "      <td>0.923568</td>\n",
              "    </tr>\n",
              "    <tr>\n",
              "      <th>58</th>\n",
              "      <td>wow clean air in delhi... reason.. # oddeven n...</td>\n",
              "      <td>0.0</td>\n",
              "      <td>1.0</td>\n",
              "      <td>0.999997</td>\n",
              "    </tr>\n",
              "    <tr>\n",
              "      <th>59</th>\n",
              "      <td>delhi cm arvindkejriwal tweets on air pollutio...</td>\n",
              "      <td>0.0</td>\n",
              "      <td>1.0</td>\n",
              "      <td>0.794643</td>\n",
              "    </tr>\n",
              "    <tr>\n",
              "      <th>64</th>\n",
              "      <td>after # oddeven is over aqi improved. arvindke...</td>\n",
              "      <td>0.0</td>\n",
              "      <td>1.0</td>\n",
              "      <td>0.510009</td>\n",
              "    </tr>\n",
              "    <tr>\n",
              "      <th>71</th>\n",
              "      <td>truth be told. # oddeven scheme is a farce. …</td>\n",
              "      <td>0.0</td>\n",
              "      <td>1.0</td>\n",
              "      <td>0.990317</td>\n",
              "    </tr>\n",
              "    <tr>\n",
              "      <th>73</th>\n",
              "      <td>this is insane. # oddeven # oddevenschemehttps...</td>\n",
              "      <td>0.0</td>\n",
              "      <td>1.0</td>\n",
              "      <td>0.993190</td>\n",
              "    </tr>\n",
              "    <tr>\n",
              "      <th>84</th>\n",
              "      <td># oddeven is half baked, need long term soluti...</td>\n",
              "      <td>0.0</td>\n",
              "      <td>1.0</td>\n",
              "      <td>0.999656</td>\n",
              "    </tr>\n",
              "    <tr>\n",
              "      <th>87</th>\n",
              "      <td>sir, arvindkejriwal # oddeven should be extend...</td>\n",
              "      <td>1.0</td>\n",
              "      <td>0.0</td>\n",
              "      <td>0.945016</td>\n",
              "    </tr>\n",
              "    <tr>\n",
              "      <th>92</th>\n",
              "      <td># righttobreathe: central pollution control bo...</td>\n",
              "      <td>0.0</td>\n",
              "      <td>1.0</td>\n",
              "      <td>0.996907</td>\n",
              "    </tr>\n",
              "    <tr>\n",
              "      <th>100</th>\n",
              "      <td>what kind of nonsense is this? clearly, # odde...</td>\n",
              "      <td>0.0</td>\n",
              "      <td>1.0</td>\n",
              "      <td>0.980816</td>\n",
              "    </tr>\n",
              "    <tr>\n",
              "      <th>102</th>\n",
              "      <td>please continue the # oddeven save the life of...</td>\n",
              "      <td>1.0</td>\n",
              "      <td>0.0</td>\n",
              "      <td>0.999976</td>\n",
              "    </tr>\n",
              "    <tr>\n",
              "      <th>107</th>\n",
              "      <td># oddeven not helping arvindkejriwal . # delhi...</td>\n",
              "      <td>0.0</td>\n",
              "      <td>1.0</td>\n",
              "      <td>0.883861</td>\n",
              "    </tr>\n",
              "    <tr>\n",
              "      <th>109</th>\n",
              "      <td>delhi’s # oddeven is the only and most stringe...</td>\n",
              "      <td>1.0</td>\n",
              "      <td>0.0</td>\n",
              "      <td>0.999977</td>\n",
              "    </tr>\n",
              "  </tbody>\n",
              "</table>\n",
              "</div>"
            ],
            "text/plain": [
              "                                  Tweet text processed  Tlabel  prediction  \\\n",
              "1    . khanumarfa odd day : pic 1 even day : pic 2 ...     0.0         1.0   \n",
              "2    so close to the absurdity called # oddeven. # ...     0.0         1.0   \n",
              "11   look at the hoarding claiming # oddeven reduce...     0.0         1.0   \n",
              "12   arvindkejriwal hello sirji... please provide u...     1.0         0.0   \n",
              "14   surprisingly the traffic ws under super contro...     1.0         0.0   \n",
              "15   and we have hoardings in delhi claiming # odde...     0.0         1.0   \n",
              "19   arvindkejriwal weather may have cleared up lil...     1.0         0.0   \n",
              "20   tmc member of parliament speaking while wearin...     0.0         1.0   \n",
              "23   awesome, so aqi back to 'very poor', well, # o...     1.0         0.0   \n",
              "26   this is what we get after the huge success of ...     1.0         0.0   \n",
              "28   absolutely; # oddeven can go a long way in tac...     1.0         0.0   \n",
              "29   though short term measure, i appreciate # odde...     1.0         0.0   \n",
              "32   the third phase of # oddeven scheme was implem...     0.0         1.0   \n",
              "35   my blog with some facts and calculation based ...     0.0         1.0   \n",
              "50   but why don't # delhi # aap # mla voluntarily ...     0.0         1.0   \n",
              "58   wow clean air in delhi... reason.. # oddeven n...     0.0         1.0   \n",
              "59   delhi cm arvindkejriwal tweets on air pollutio...     0.0         1.0   \n",
              "64   after # oddeven is over aqi improved. arvindke...     0.0         1.0   \n",
              "71       truth be told. # oddeven scheme is a farce. …     0.0         1.0   \n",
              "73   this is insane. # oddeven # oddevenschemehttps...     0.0         1.0   \n",
              "84   # oddeven is half baked, need long term soluti...     0.0         1.0   \n",
              "87   sir, arvindkejriwal # oddeven should be extend...     1.0         0.0   \n",
              "92   # righttobreathe: central pollution control bo...     0.0         1.0   \n",
              "100  what kind of nonsense is this? clearly, # odde...     0.0         1.0   \n",
              "102  please continue the # oddeven save the life of...     1.0         0.0   \n",
              "107  # oddeven not helping arvindkejriwal . # delhi...     0.0         1.0   \n",
              "109  delhi’s # oddeven is the only and most stringe...     1.0         0.0   \n",
              "\n",
              "        score  \n",
              "1    0.962070  \n",
              "2    0.999778  \n",
              "11   1.000000  \n",
              "12   0.999990  \n",
              "14   0.997915  \n",
              "15   0.999998  \n",
              "19   1.000000  \n",
              "20   1.000000  \n",
              "23   1.000000  \n",
              "26   1.000000  \n",
              "28   0.999078  \n",
              "29   1.000000  \n",
              "32   0.999948  \n",
              "35   1.000000  \n",
              "50   0.923568  \n",
              "58   0.999997  \n",
              "59   0.794643  \n",
              "64   0.510009  \n",
              "71   0.990317  \n",
              "73   0.993190  \n",
              "84   0.999656  \n",
              "87   0.945016  \n",
              "92   0.996907  \n",
              "100  0.980816  \n",
              "102  0.999976  \n",
              "107  0.883861  \n",
              "109  0.999977  "
            ]
          },
          "metadata": {
            "tags": []
          },
          "execution_count": 25
        }
      ]
    }
  ]
}