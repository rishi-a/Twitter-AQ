{
  "nbformat": 4,
  "nbformat_minor": 0,
  "metadata": {
    "colab": {
      "name": "ConfusionMatrices.ipynb",
      "provenance": []
    },
    "kernelspec": {
      "name": "python3",
      "display_name": "Python 3"
    },
    "accelerator": "GPU"
  },
  "cells": [
    {
      "cell_type": "code",
      "metadata": {
        "id": "r-dXQwYTufQv"
      },
      "source": [
        "# ! sudo apt-get install texlive-latex-recommended\n",
        "# ! sudo apt install texlive-latex-extra\n",
        "# ! sudo apt install dvipng\n",
        "# ! apt install texlive-fonts-recommended texlive-fonts-extra cm-super dvipng"
      ],
      "execution_count": 1,
      "outputs": []
    },
    {
      "cell_type": "code",
      "metadata": {
        "id": "aFEFi-xEivTL"
      },
      "source": [
        "from glob import glob\n",
        "import pandas as pd\n",
        "import numpy as np\n",
        "import matplotlib.pyplot as plt\n",
        "import seaborn as sns\n",
        "from sklearn.metrics import confusion_matrix\n",
        "import pandas as pd\n",
        "import matplotlib.pyplot as plt\n",
        "import numpy as np\n",
        "from scipy.stats import mode\n",
        "import seaborn as sns\n",
        "import matplotlib\n",
        "from math import sqrt"
      ],
      "execution_count": null,
      "outputs": []
    },
    {
      "cell_type": "markdown",
      "metadata": {
        "id": "J-VWD6f7stIl"
      },
      "source": [
        "Plots"
      ]
    },
    {
      "cell_type": "code",
      "metadata": {
        "id": "y1nTN_sa3FcO"
      },
      "source": [
        "OE = pd.read_pickle('/content/drive/My Drive/CSCW_H1/results/'+'OE_0_5_bert-base-cased_32_0.3_cuda_3_10_5e-05_deduplicated-extra')\n",
        "ST = pd.read_pickle('/content/drive/My Drive/CSCW_H1/results/'+'ST_0_5_bert-base-cased_32_0.3_cuda_3_10_5e-05_deduplicated')"
      ],
      "execution_count": null,
      "outputs": []
    },
    {
      "cell_type": "code",
      "metadata": {
        "id": "dYnMzxjcy2Qm"
      },
      "source": [
        "gt = []\n",
        "pred = []\n",
        "for i in range(5):\n",
        "  pred.extend(OE['test_outs'][i]['pred_y'])\n",
        "  gt.extend(OE['test_outs'][i]['y'])\n",
        "gtst = []\n",
        "predst = []\n",
        "for i in range(5):\n",
        "  predst.extend(ST['test_outs'][i]['pred_y'])\n",
        "  gtst.extend(ST['test_outs'][i]['y'])"
      ],
      "execution_count": null,
      "outputs": []
    },
    {
      "cell_type": "code",
      "metadata": {
        "id": "EC7zdC4qD1K3"
      },
      "source": [
        "gt = [i-1 for i in gt]\n",
        "pred = [i-1 for i in pred]\n",
        "gtst = [i-1 for i in gtst]\n",
        "predst = [i-1 for i in predst]"
      ],
      "execution_count": null,
      "outputs": []
    },
    {
      "cell_type": "code",
      "metadata": {
        "id": "yd9bXWB63ehU",
        "outputId": "42069809-8051-416f-84a8-a5ef924ce939",
        "colab": {
          "base_uri": "https://localhost:8080/",
          "height": 153
        }
      },
      "source": [
        "#sns.set_context('poster')\n",
        "latexify(columns=2, fig_height=2)\n",
        "fig, ax = plt.subplots(1,2, sharey=True, sharex=True)\n",
        "# plt.subplots_adjust(wspace=0)\n",
        "#my_cmap = [my_clr['y'], my_clr['l_r']]\n",
        "#my_cmap = plt.cm.plasma_r\n",
        "OE_CM = confusion_matrix(gt, pred)/confusion_matrix(gt, pred).sum(axis=1)[:, np.newaxis]\n",
        "ST_CM = confusion_matrix(gtst, predst)/confusion_matrix(gtst, predst).sum(axis=1)[:, np.newaxis]\n",
        "\n",
        "OE_CM_annot = [[\"%.2f\"%i for i in j] for j in OE_CM]\n",
        "ST_CM_annot = [[\"%.2f\"%i for i in j] for j in ST_CM]\n",
        "\n",
        "sns.heatmap(OE_CM, \n",
        "            annot=OE_CM_annot,xticklabels=['Unsupportive','Neutral','Supportive'],\n",
        "            yticklabels=['Unsupportive','Neutral','Supportive'], cbar=False,ax=ax[0],fmt='');\n",
        "sns.heatmap(ST_CM, \n",
        "            annot=ST_CM_annot, xticklabels=['Unsupportive','Neutral','Supportive'], \n",
        "            yticklabels=['Unsupportive','Neutral','Supportive'], cbar=False, fmt='',ax=ax[1]);\n",
        "ax[0].set_xlabel('Predicted Class\\n(a)');\n",
        "ax[1].set_xlabel('Predicted Class\\n(b)');\n",
        "ax[0].set_ylabel('Ground Truth');\n",
        "plt.tight_layout()\n",
        "plt.savefig('confusionMat.pdf')"
      ],
      "execution_count": null,
      "outputs": [
        {
          "output_type": "display_data",
          "data": {
            "image/png": "[encoded data removed]",
            "text/plain": [
              "<Figure size 496.8x144 with 2 Axes>"
            ]
          },
          "metadata": {
            "tags": [],
            "needs_background": "light"
          }
        }
      ]
    }
  ]
}