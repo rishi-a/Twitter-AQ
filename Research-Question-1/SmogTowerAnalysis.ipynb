{
  "nbformat": 4,
  "nbformat_minor": 0,
  "metadata": {
    "colab": {
      "name": "SmogTowerAnalysis.ipynb",
      "provenance": [],
      "toc_visible": true
    },
    "kernelspec": {
      "name": "python3",
      "display_name": "Python 3"
    }
  },
  "cells": [
    {
      "cell_type": "code",
      "metadata": {
        "id": "ox89Dq0-nlFL"
      },
      "source": [
        "# Required only to render Latex fonts for figures\n",
        "\n",
        "# ! sudo apt-get install texlive-latex-recommended\n",
        "# ! sudo apt install texlive-latex-extra\n",
        "# ! sudo apt install dvipng\n",
        "# ! apt install texlive-fonts-recommended texlive-fonts-extra cm-super dvipng"
      ],
      "execution_count": null,
      "outputs": []
    },
    {
      "cell_type": "code",
      "metadata": {
        "id": "39K-P7Gp_Jun"
      },
      "source": [
        "import pandas as pd\n",
        "import matplotlib.pyplot as plt\n",
        "import numpy as np\n",
        "from scipy.stats import mode"
      ],
      "execution_count": null,
      "outputs": []
    },
    {
      "cell_type": "code",
      "metadata": {
        "id": "S99Ao-Yl_ToL"
      },
      "source": [
        "data_whole = pd.read_csv('/content/drive/My Drive/CSCW_H1/data/ST_labeled.csv')"
      ],
      "execution_count": null,
      "outputs": []
    },
    {
      "cell_type": "code",
      "metadata": {
        "id": "ec6n8RH1tt1J"
      },
      "source": [
        "data_whole.date = pd.to_datetime(data_whole.date)"
      ],
      "execution_count": null,
      "outputs": []
    },
    {
      "cell_type": "code",
      "metadata": {
        "id": "MsoFVNqFwjbX"
      },
      "source": [
        "data_whole = data_whole.sort_values('date')"
      ],
      "execution_count": null,
      "outputs": []
    },
    {
      "cell_type": "code",
      "metadata": {
        "id": "20hl1v63VHu6",
        "outputId": "65f2f89a-aa9e-461e-97f8-ebdae8f1d412",
        "colab": {
          "base_uri": "https://localhost:8080/",
          "height": 35
        }
      },
      "source": [
        "print(data_whole.date.iloc[0], data_whole.date.iloc[-1])"
      ],
      "execution_count": null,
      "outputs": [
        {
          "output_type": "stream",
          "text": [
            "2016-09-30 10:28:00 2020-03-24 08:05:18\n"
          ],
          "name": "stdout"
        }
      ]
    },
    {
      "cell_type": "code",
      "metadata": {
        "id": "1YCYoi1Mwovm",
        "outputId": "a7c2e4b0-19d2-4db5-850b-6676246b0533",
        "colab": {
          "base_uri": "https://localhost:8080/",
          "height": 179
        }
      },
      "source": [
        "#plt.figure(figsize=(15,8))\n",
        "#plt.rc('font', size=20)\n",
        "## Specify color scheme\n",
        "def hexify(r,g,b,a):\n",
        "    return '#'+hex(r)[2:]+hex(g)[2:]+hex(b)[2:]+hex(a)[2:]\n",
        "\n",
        "my_clr   = {'l_b':hexify(147,205,221,255),\n",
        "            'b':hexify(81,151,213,255),\n",
        "            'eq':hexify(224,224,224,255),\n",
        "            'y':hexify(253,215,42,255),\n",
        "            'l_r':hexify(248,177,99,255)}\n",
        "fig, ax = plt.subplots()\n",
        "mapping = {0:'Unsupportive',1:'Neutral',2:'Supportive'}\n",
        "color_map = ['tab:red','tab:orange','tab:green']\n",
        "for label in [0,1,2]:\n",
        "  df = data_whole[data_whole.Label==label][['Label','date']]\n",
        "  df = df.set_index('date')\n",
        "  df.Label = 1\n",
        "  df = df.resample('7D').sum()\n",
        "  ax.plot(df.index, df.Label.cumsum(), label=mapping[label], c=color_map[label])\n",
        "low = 0\n",
        "high = 350\n",
        "ax.vlines(df.sort_values('Label', ascending=False).index[5],low,high,linestyles='dashed',\n",
        "          color='tab:orange',\n",
        "           label='A: AtlasFuture magazine \\npost on \"Smog Tower\".')\n",
        "ax.text(df.sort_values('Label', ascending=False).index[5],high,'A')\n",
        "ax.vlines(df.sort_values('Label', ascending=False).index[3],low,high,linestyles='dashed',\n",
        "          color='tab:blue',\n",
        "           label='B: Daan Roosegaarde installed \\na prototype in Beijing.')\n",
        "ax.text(df.sort_values('Label', ascending=False).index[3],high,'B')\n",
        "ax.vlines(df.sort_values('Label', ascending=False).index[1],low,high,linestyles='dashed',\n",
        "           label='C: Kurin systems, India, got a \\nsix foot tall prototype', color='tab:cyan')\n",
        "ax.text(df.sort_values('Label', ascending=False).index[1],high,'C')\n",
        "ax.vlines(df.sort_values('Label', ascending=False).index[2],low,high,linestyles='dashed',\n",
        "           label='D: Viral tweet: 106 crore \\nfor 53 \"Smog Towers\" in Delhi', color='tab:olive')\n",
        "ax.text(df.sort_values('Label', ascending=False).index[2],high,'D')\n",
        "ax.vlines(df.sort_values('Label', ascending=False).index[0],low,high,linestyles='dashdot',\n",
        "           label='E: The first \"Smog tower\" \\ninstalled at Lajpat nagar', color='tab:pink')\n",
        "ax.text(df.sort_values('Label', ascending=False).index[0],high,'E')\n",
        "ax.legend(bbox_to_anchor=[1,1]);\n",
        "ax.set_xlabel('Timeline')\n",
        "ax.set_ylabel('Number of tweets');\n",
        "plt.tight_layout()\n",
        "plt.savefig('SmogTower-Updates.pdf')"
      ],
      "execution_count": null,
      "outputs": [
        {
          "output_type": "display_data",
          "data": {
            "image/png": "[encoded data removed]",
            "text/plain": [
              "<Figure size 496.8x165.6 with 1 Axes>"
            ]
          },
          "metadata": {
            "tags": [],
            "needs_background": "light"
          }
        }
      ]
    }
  ]
}