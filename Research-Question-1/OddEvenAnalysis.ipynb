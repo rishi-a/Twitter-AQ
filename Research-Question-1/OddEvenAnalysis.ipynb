{
  "nbformat": 4,
  "nbformat_minor": 0,
  "metadata": {
    "colab": {
      "name": "OddEvenAnalysis.ipynb",
      "provenance": [],
      "toc_visible": true
    },
    "kernelspec": {
      "name": "python3",
      "display_name": "Python 3"
    }
  },
  "cells": [
    {
      "cell_type": "markdown",
      "metadata": {
        "id": "aWFjfUQDulFl"
      },
      "source": [
        "## ODDEVEN"
      ]
    },
    {
      "cell_type": "code",
      "metadata": {
        "id": "ALK2tgFkmCcB"
      },
      "source": [
        "# ! sudo apt-get install texlive-latex-recommended\n",
        "# ! sudo apt install texlive-latex-extra\n",
        "# ! sudo apt install dvipng\n",
        "# !apt install texlive-fonts-recommended texlive-fonts-extra cm-super dvipng"
      ],
      "execution_count": 1,
      "outputs": []
    },
    {
      "cell_type": "code",
      "metadata": {
        "id": "VdwHUgqEunUH"
      },
      "source": [
        "import pandas as pd\n",
        "import matplotlib.pyplot as plt\n",
        "import numpy as np\n",
        "from scipy.stats import mode\n",
        "import seaborn as sns\n",
        "import matplotlib\n",
        "from math import sqrt"
      ],
      "execution_count": null,
      "outputs": []
    },
    {
      "cell_type": "code",
      "metadata": {
        "id": "BwkxVuC_uK0B",
        "outputId": "682f6c61-30be-4e13-9038-1fad6c7f8e17",
        "colab": {
          "base_uri": "https://localhost:8080/",
          "height": 73
        }
      },
      "source": [
        "OE = pd.read_csv('/content/drive/My Drive/CSCW_H1/results/big_data_OE_extra.csv')"
      ],
      "execution_count": null,
      "outputs": [
        {
          "output_type": "stream",
          "text": [
            "/usr/local/lib/python3.6/dist-packages/IPython/core/interactiveshell.py:2718: DtypeWarning: Columns (0,7,11,12,13,16,18,25,27,28,29,33,34,36,38) have mixed types.Specify dtype option on import or set low_memory=False.\n",
            "  interactivity=interactivity, compiler=compiler, result=result)\n"
          ],
          "name": "stderr"
        }
      ]
    },
    {
      "cell_type": "code",
      "metadata": {
        "id": "fkg03pNQuSdz",
        "outputId": "162b7398-0b15-436b-a00c-1ffabbefe724",
        "colab": {
          "base_uri": "https://localhost:8080/",
          "height": 107
        }
      },
      "source": [
        "for col in ['test_r_0','test_r_1','test_r_2','test_r_3','test_r_4']:\n",
        "  print(col)\n",
        "  OE[col+'proba'] = OE[col].apply(lambda x: list(map(float,x.strip('][').split(', '))))\n",
        "  OE[col] = OE[col].apply(lambda x: np.argmax(list(map(float,x.strip('][').split(', ')))))"
      ],
      "execution_count": null,
      "outputs": [
        {
          "output_type": "stream",
          "text": [
            "test_r_0\n",
            "test_r_1\n",
            "test_r_2\n",
            "test_r_3\n",
            "test_r_4\n"
          ],
          "name": "stdout"
        }
      ]
    },
    {
      "cell_type": "code",
      "metadata": {
        "id": "pP9eadanvcvf"
      },
      "source": [
        "OE['test_r'] = mode(OE[['test_r_0','test_r_1','test_r_2','test_r_3','test_r_4']].values, axis=1)[0]"
      ],
      "execution_count": null,
      "outputs": []
    },
    {
      "cell_type": "code",
      "metadata": {
        "id": "jtOXKRoRuRes",
        "outputId": "8ec3c68c-1842-4487-f528-041b0a26f0b2",
        "colab": {
          "base_uri": "https://localhost:8080/",
          "height": 35
        }
      },
      "source": [
        "all(OE['test_r_0proba'] == OE['test_r_1proba']) == False"
      ],
      "execution_count": null,
      "outputs": [
        {
          "output_type": "execute_result",
          "data": {
            "text/plain": [
              "True"
            ]
          },
          "metadata": {
            "tags": []
          },
          "execution_count": 8
        }
      ]
    },
    {
      "cell_type": "code",
      "metadata": {
        "id": "C4jVZ7w7S62t",
        "outputId": "c164f01f-d252-4254-f763-6a99a4ea26e3",
        "colab": {
          "base_uri": "https://localhost:8080/",
          "height": 80
        }
      },
      "source": [
        "OE[['test_r_0','test_r_1','test_r_2','test_r_3','test_r_4']].sample()"
      ],
      "execution_count": null,
      "outputs": [
        {
          "output_type": "execute_result",
          "data": {
            "text/html": [
              "<div>\n",
              "<style scoped>\n",
              "    .dataframe tbody tr th:only-of-type {\n",
              "        vertical-align: middle;\n",
              "    }\n",
              "\n",
              "    .dataframe tbody tr th {\n",
              "        vertical-align: top;\n",
              "    }\n",
              "\n",
              "    .dataframe thead th {\n",
              "        text-align: right;\n",
              "    }\n",
              "</style>\n",
              "<table border=\"1\" class=\"dataframe\">\n",
              "  <thead>\n",
              "    <tr style=\"text-align: right;\">\n",
              "      <th></th>\n",
              "      <th>test_r_0</th>\n",
              "      <th>test_r_1</th>\n",
              "      <th>test_r_2</th>\n",
              "      <th>test_r_3</th>\n",
              "      <th>test_r_4</th>\n",
              "    </tr>\n",
              "  </thead>\n",
              "  <tbody>\n",
              "    <tr>\n",
              "      <th>365</th>\n",
              "      <td>1</td>\n",
              "      <td>1</td>\n",
              "      <td>1</td>\n",
              "      <td>1</td>\n",
              "      <td>1</td>\n",
              "    </tr>\n",
              "  </tbody>\n",
              "</table>\n",
              "</div>"
            ],
            "text/plain": [
              "     test_r_0  test_r_1  test_r_2  test_r_3  test_r_4\n",
              "365         1         1         1         1         1"
            ]
          },
          "metadata": {
            "tags": []
          },
          "execution_count": 9
        }
      ]
    },
    {
      "cell_type": "code",
      "metadata": {
        "id": "fjovvC80Rf74",
        "outputId": "3c7ce51e-c819-4584-dd4f-25b579115c55",
        "colab": {
          "base_uri": "https://localhost:8080/",
          "height": 35
        }
      },
      "source": [
        "def softmax(x):\n",
        "    \"\"\"Compute softmax values for each sets of scores in x.\"\"\"\n",
        "    e_x = np.exp(x - np.max(x))\n",
        "    return e_x / e_x.sum(axis=0) # only difference\n",
        "from IPython.display import clear_output\n",
        "OE['test_proba_final'] = None\n",
        "for index in OE.index:\n",
        "  clear_output(wait=True)\n",
        "  print(index)\n",
        "  target = OE.loc[index, 'test_r']\n",
        "  tmp = []\n",
        "  for i in range(5):\n",
        "    if OE.loc[index, 'test_r_'+str(i)]==target:\n",
        "      tmp.append(softmax(OE.loc[index, 'test_r_'+str(i)+'proba']))\n",
        "  # print(tmp)\n",
        "  OE.at[index, 'test_proba_final'] = list(np.mean(tmp, axis=0))\n",
        "OE.to_csv('/content/drive/My Drive/CSCW_H1/results/big_data_OE_extra_proba_added.csv', index=None)"
      ],
      "execution_count": null,
      "outputs": [
        {
          "output_type": "stream",
          "text": [
            "80342\n"
          ],
          "name": "stdout"
        }
      ]
    },
    {
      "cell_type": "markdown",
      "metadata": {
        "id": "Arddj6W-aMBV"
      },
      "source": [
        "# Loading processed csv"
      ]
    },
    {
      "cell_type": "code",
      "metadata": {
        "id": "543TMGzkWUpq",
        "outputId": "7539a048-a796-4b4f-e9e7-6f7e948e8c59",
        "colab": {
          "base_uri": "https://localhost:8080/",
          "height": 73
        }
      },
      "source": [
        "OE = pd.read_csv('/content/drive/My Drive/CSCW_H1/results/big_data_OE_extra_proba_added.csv')"
      ],
      "execution_count": null,
      "outputs": [
        {
          "output_type": "stream",
          "text": [
            "/usr/local/lib/python3.6/dist-packages/IPython/core/interactiveshell.py:2718: DtypeWarning: Columns (0,7,11,12,13,16,18,25,27,28,29,33,34,36,38) have mixed types.Specify dtype option on import or set low_memory=False.\n",
            "  interactivity=interactivity, compiler=compiler, result=result)\n"
          ],
          "name": "stderr"
        }
      ]
    },
    {
      "cell_type": "code",
      "metadata": {
        "id": "pHdIBel5YVNY",
        "outputId": "630d98a9-de44-47fb-f439-29097ca08731",
        "colab": {
          "base_uri": "https://localhost:8080/",
          "height": 35
        }
      },
      "source": [
        "OE['test_proba_final'] = OE['test_proba_final'].apply(lambda x: list(map(float,x.strip('][').split(', '))))\n",
        "from sklearn.metrics import *\n",
        "f1OE = []\n",
        "thOE = []\n",
        "supOE = []\n",
        "for th_i in np.arange(0.6,0.61,0.05): # Threshold\n",
        "   lsti = [i for i in range(len(OE)) if max(OE.loc[i, 'test_proba_final'])>=th_i]\n",
        "   supOE.append(len(lsti))\n",
        "   thOE.append(th_i)\n",
        "   #f1OE.append(f1_score(np.array(test_y_allOE)[lsti], np.array(test_pred_y_allOE)[lsti], average='macro'))\n",
        "th_i, len(lsti), len(OE)"
      ],
      "execution_count": null,
      "outputs": [
        {
          "output_type": "execute_result",
          "data": {
            "text/plain": [
              "(0.6, 78121, 80343)"
            ]
          },
          "metadata": {
            "tags": []
          },
          "execution_count": 15
        }
      ]
    },
    {
      "cell_type": "code",
      "metadata": {
        "id": "g-Rdl50hcKjw",
        "outputId": "a07a37a6-09d0-4631-e097-3e641f6047f9",
        "colab": {
          "base_uri": "https://localhost:8080/",
          "height": 163
        }
      },
      "source": [
        "OE_reduced = OE.iloc[lsti]\n",
        "print(len(OE_reduced))\n",
        "OE_reduced['date'] = pd.to_datetime(OE_reduced['date'])\n",
        "OE_new = OE_reduced.set_index('date', drop=False)\n",
        "OE_new_dummy = pd.get_dummies(OE_new, columns=['test_r'], prefix='Classes')\n",
        "OE_week = OE_new_dummy.sort_index().resample('W').sum().rolling(window=\"45D\").mean()\n",
        "OE_week['SUM'] = np.sum(OE_week[['Classes_0', 'Classes_1', 'Classes_2']], axis=1)\n",
        "for col in ['Classes_0', 'Classes_1', 'Classes_2']:\n",
        "  OE_week[col] = OE_week[col]/OE_week['SUM'] * 100"
      ],
      "execution_count": null,
      "outputs": [
        {
          "output_type": "stream",
          "text": [
            "78121\n"
          ],
          "name": "stdout"
        },
        {
          "output_type": "stream",
          "text": [
            "/usr/local/lib/python3.6/dist-packages/ipykernel_launcher.py:3: SettingWithCopyWarning: \n",
            "A value is trying to be set on a copy of a slice from a DataFrame.\n",
            "Try using .loc[row_indexer,col_indexer] = value instead\n",
            "\n",
            "See the caveats in the documentation: https://pandas.pydata.org/pandas-docs/stable/user_guide/indexing.html#returning-a-view-versus-a-copy\n",
            "  This is separate from the ipykernel package so we can avoid doing imports until\n"
          ],
          "name": "stderr"
        }
      ]
    },
    {
      "cell_type": "code",
      "metadata": {
        "id": "-TZmbahBTiuI",
        "outputId": "6178760e-46c5-40bb-b613-bc587553e032",
        "colab": {
          "base_uri": "https://localhost:8080/",
          "height": 955
        }
      },
      "source": [
        "from IPython.display import clear_output\n",
        "# 50-0 --- 37-0 -- 7-1 -- 6-2\n",
        "# 50-1 --- 6-0 -- 40-1 -- 4-2\n",
        "# 50-2 --- 6-0 -- 9-1 -- 35-2\n",
        "pd.set_option('max_colwidth',2000)\n",
        "print(OE_reduced[OE_reduced.test_r==2].sample(50, random_state=0)['tweet'])\n",
        "# neg = []\n",
        "# for ii, i in enumerate(OE_reduced[OE_reduced.test_r==2].sample(50, random_state=0)['tweet']):\n",
        "#   clear_output(wait=True)\n",
        "#   print(ii,'->>',i)\n",
        "#   neg.append(input())\n",
        "# pd.Series(neg).value_counts()\n",
        "  "
      ],
      "execution_count": null,
      "outputs": [
        {
          "output_type": "stream",
          "text": [
            "65257                                                                                                                                                                                           Air quality improves slightly on second day of #  odd-even http://tennews.in/air-quality-improves-slightly-second-day-odd-even/ …\n",
            "44635                                                                                                                                                                               Pleased 2 find most even cars today.Lets make #  OddEven work. Quality & reliable public transport can make it a way of life @ carfreegurgaon\n",
            "52111                                                                                                                                                                                @ HCL_Healthcare #  OddEven rule will obviously help us if it is implemented in an effective way, but not just in an experimentation method.\n",
            "24844                                                                                                                                                                                                                                               Nice step has been taking by #  Delhi government #  oddeven . I welcoming it.\n",
            "29063                                                                                    Governance in Delhi requires much more than publicity hoardings, radio advertisements & the drama of #  OddEven. Please pay attention to real issues @ ArvindKejriwal Ji! https://twitter.com/mudgal_jayant/status/1193419342001532929 …\n",
            "57631                                                                                                                                                            @ ArvindKejriwal Odd Even is Working fine in Delhi. Yesterday Air Quality level is above 999, but it is less then 500. Great Job Done pic.twitter.com/1jGCSAS1CT\n",
            "66670                                                                                                                                                                                     Delhi, Odd-Even Trial Could Extend, Says Government: The Odd-Even scheme has reduced pollution at peak hours i... http://bit.ly/1RnDU7p\n",
            "65089                                                                                                                                                                                     Air Quality Improves Slightly On Second Day Of Odd-Even Plan In Delhi: Air quality in Delhi improved and was l... http://bit.ly/1SJyWwV\n",
            "45182                                                                       @ Msisodia: If we follow the #  OddEvenScheme for next 10 days, it will give some relief. It is for everybody's benefit. #  ManishSisodia #  DelhiAirEmergency #  OddEven #  OddEvenDobara #  DelhiChokes #  DelhiPollutionpic.twitter.com/L8l0gQkq4K\n",
            "65234                                                                                                                                                                                   Odd Even is an honest effort to lower pollution in Delhi Ppl opposing it shd come up with alternate solutions @ AamAadmiParty @ BJP4India\n",
            "10260                                                                                                                                                                                     For the sake of environment, I don't mind @ ArvindKejriwal introducing #  oddeven again even though in the 2nd phase it was a disaster.\n",
            "54642                                                                                                                                                                                   The key to success for Odd-Even is not the rule itself, but your support for a clean, pollution free Delhi. #  iWorkForPollutionFreeDelhi\n",
            "21621                                                                                                                                                    Delhi needs #  oddeven rule so as other crowded metros. Before that, strengthen & upgrade public transport asap https://twitter.com/ani_news/status/758892445471911938 …\n",
            "46808                                                                                                                                                                                      No matter if the trial succeeds or fails, that people are so intentional about resolving this issue is in itself a success! #  OddEven\n",
            "2716                                                                                                                                                                                      In the Phase I of #  OddEven drive, we say huge improvement in traffic congestion, but in Phase II even that is gone, forget pollution!\n",
            "66450                                                                                                                                                                                Delhi pollution rises after odd-even restrictions, but other factors could be responsible: By IndiaSpend TeamA... http://tinyurl.com/hsrll8b\n",
            "9441                                                                     Delhi Chief Minister @ArvindKejriwal: If required we can extend Odd-Even scheme. \\n\\n(Info: ANI)\\n\\nFor more # BreakingNews and other updates, follow: http://bit.ly/370v76l \\n# DelhiAirPollution # OddEven # DelhiAirQualitypic.twitter.com/TNiXDaxshz\n",
            "57192                                                                                                                                                                               @ ArvindKejriwal like odd even, converting half of Delhi streets into boulevards wud help reduce pollution.. Shd be done thru out the nation.\n",
            "27473                                                                                                                                                                                                   RT rupashreenanda: Kejriwal: 'i congratulate the people of Delhi for the successful implementation of #  oddeven' ibnlive\n",
            "53042                                                                                                                                                                                         Please continue this #  oddeven rule throughout the year. Haven't witnessed a traffic jam for six days now. Driving is again a fun.\n",
            "4226                                                                                                                                                                                                        @ Ikumar7 @ Amitjanhit Is #  OddEven really working. Negative news in news channels coming about jams and long queues\n",
            "3520                                                                                                                                                                                                              #  Oddeven a success, pity #  VijayGoel violated it: #  GopalRai http://ow.ly/4mNRuh pic.twitter.com/m4vznpdFIg\n",
            "13870                                                                                                                                                                              Frm actin as Rakhi Sawant of Indian politics Mr. Kejriwal hs fr d 1st tym initiated smething beneficial for Delhi #  OddEven @ AllIndiaBakchod\n",
            "33075                         Please answer #  OddEven just 4 votes @ teriin study shows that #  pollution caused by two wheelers is twice the pollution caused by four wheelers. Fight against #  AirPollution should be on a war footing. NO EXCEPTIONS! @ IndiaToday @ ArvindKejriwal #  DelhiChokespic.twitter.com/YmHARxh8oa\n",
            "11546                                                                                                                                                                                                                              @ nitin_gadkari says Mumbai too congested. It too can face #  OddEven in future #  majhavision\n",
            "15453                                                                                                                                                                             #  OddEven was revolutionary for bringing people of Delhi together under same umbrella to combat pollution through efforts #  DelhiLovesOddEven\n",
            "36838                                                                             Symbolism of #  oddeven by @ ArvindKejriwal and some real work to give relief to Delhi https://m.economictimes.com/news/economy/infrastructure/eastern-peripheral-expressway-is-almost-getting-ready/distance-and-cost/slideshow/63858851.cms …\n",
            "48529                                                                                                                                                                                                                                                      #  OddEven Good ideas for controlling pollution in Delhi for some time\n",
            "62256                                             Now there is no such need (odd-even scheme) because the new ring road we have built is helping reduce pollution in Delhi to a certain extent. Besides, my ministry is pursuing road works of about Rs 50,000 crore. Cleaning of Yamuna and other works to curb pollution......\"\n",
            "71343                                                                                        ‘Other cities should emulate Delhi’s odd-even, car-free days’ - @ FarOutAkhtar Farhan Akhtar, who frequently visits Delhi, has some good things to say about the city’s initiatives to curb air pollution pic.twitter.com/FKIIwXzMCj\n",
            "58860                                                                                                                                                                                        Delhi's odd-even plan takes baby steps to better air quality: Delhi took its baby steps to combat worsening ai... http://sh.st/nI3g7\n",
            "70033                                                                                                                                                   With various schemes like odd even, car free day & penalizing those adding to pollution, we have made Delhi less … https://twitter.com/i/web/status/831460002053255168 …\"\n",
            "40294                                                                                                                                                                            Even though #  OddEven did not address core issue of pollution, it has reduced congestion. #  OddEven should be mad permanent during peak hours.\n",
            "69908                                                        After 5 Days Of #  OddEven Rule Pollution In Delhi Has Dropped Significantly! Still Unsafe Though http://www.indiatimes.com/news/india/after-5-days-of-even-odd-rule-pollution-in-delhi-has-dropped-significantly-still-unsafe-though-249123.html … via @ indiatimes\n",
            "61019                                        RT ShatruganSinha: Once again the leader of the masses,CM, Delhi, ArvindKejriwal brings back the 'odd even rule' for car rationing to tackle pollution in the city from next month. This is the 3rd time it is being implemented after it had led to a considerable fall in polluti…\n",
            "45449                                                                                                                                                                              Please follow the odd-even rule for four wheelers, since it affects the health of all of us - Delhi Govt #  OddEven pic.twitter.com/CKEDsw4whH\n",
            "49936                                                                                                                                                                           Traffic is one of the major reasons for stress in cities. #  OddEven rule gives relaxation to commuters. Do you agree? pic.twitter.com/OY8WEKhdgd\n",
            "39233                                                                                                                                                                                                                                    Not pooling the car, but giving my contribution in #  OddEven pic.twitter.com/UgO3HaKMip\n",
            "73327                                Odd-Even scream in Delhi is truly #  faltu planning. People in Delhi hv bought double vehicles to maintain own needs. The pollution is increased more than early Odd-Even scheam & increasing #  pollution & #  traffic day by day. @ htTweets @ timesofindia @ TimesNow @ TOIDelhi @ aajtak\n",
            "30574                                                                                   People are supporting #  OddEven not because they like AAP or anything, they are willing to do even more for any party which takes steps to prevent pollution. Climate change and pollution are important election issues now. @ AmitShah\n",
            "17460                                                                                                                                                                                   Bang on. #  OddEven will boost sales and the #  AAP government is playing along.https://twitter.com/scotchism/status/828932889249148930 …\n",
            "29094                                                                                                                                                                           Cyclist need to wear mask #  OddEven might not be very effective to control pollution but it sure helps to control traffic #  ICantBreathe @ ndtv\n",
            "27987                                                                                                                                                                                                                                                                    #  OddEven plan wins admirers pic.twitter.com/Soli4C3AOF\n",
            "44992                                 #  EvenTheOdds #  Contest #  ContesIndia #  OddEven #  DelhiOddEven future of our planet and its people is linked with our ability to maintain and preserve the life support system that nature provides and for this I will be e using my bicycles in odd even days or my electric scooter\n",
            "24160    #  OddEven rule makes a comeback in Delhi, evokes mixed response from RWAs https://www.hindustantimes.com/india-news/odd-even-rule-makes-a-comeback-in-delhi-evokes-mixed-response-from-rwas/story-Gm6jasxnzoiCqjQAMHDffO.html … ( @ VatsalaShrangi reports) #  OddEvenAgain #  OddEvenReturnspic.twitter.com/vxl8AfCV5j\n",
            "34196                                                                                                                                                                                                                                          Over 60 per cent people said #  OddEven should be made permanent: @ ArvindKejriwal\n",
            "32482                                                                                                                                                                                                                  Delhi chief minister @ ArvindKejriwal urged people to follow the #  OddEven scheme and make it successful.\n",
            "59223                                                                                                                                                                                                                     Odd-even: Delhi's air quality may take time to achieve better levels, say experts http://ift.tt/1ZEOl7D\n",
            "38105                                                                                                                                                                             @ HarpreetMehta Definitly must be troubling Delhi.Noone promised #  OddEven will b comfortable.Its a choice we've to make in a severe situation\n",
            "18053                                                                                                                                                   A columbia researcher says, to make #  oddeven restrictions effective, two-wheelers & three- wheelers have to be included, but added the scheme doesn't work in long run.\n",
            "Name: tweet, dtype: object\n"
          ],
          "name": "stdout"
        }
      ]
    },
    {
      "cell_type": "code",
      "metadata": {
        "id": "60YFLYYYcKj5",
        "outputId": "8e69bb15-0a82-4f88-b615-2f7d9a5d6a35",
        "colab": {
          "base_uri": "https://localhost:8080/",
          "height": 179
        }
      },
      "source": [
        "import matplotlib.style as style\n",
        "style.use('default')\n",
        "latexify(columns = 2, fig_height = 2.3)\n",
        "def hexify(r,g,b,a):\n",
        "    return '#'+hex(r)[2:]+hex(g)[2:]+hex(b)[2:]+hex(a)[2:]\n",
        "my_clr   = {'eq':hexify(224,224,224,255),\n",
        "    'l_b':hexify(147,205,221,255),\n",
        "    'l_r':hexify(248,177,99,255),\n",
        "            'y':hexify(253,215,42,255),\n",
        "            'b':hexify(81,151,213,255),\n",
        "            }\n",
        "my_clr   = {'eq':hexify(224,224,224,255),\n",
        "    'l_b':hexify(147,205,221,255),\n",
        "    'l_r':'tab:red',\n",
        "            'y':'tab:orange',\n",
        "            'b':'tab:green',\n",
        "            }\n",
        "clr_list = list(my_clr.values())\n",
        "fig, ax = plt.subplots()\n",
        "col_map = {'Classes_0':'Unsupportive', 'Classes_1':'Neutral', 'Classes_2':'Supportive'}\n",
        "for c_i, col in enumerate(['Classes_0', 'Classes_1', 'Classes_2']):\n",
        "  ax.plot(OE_week.index, OE_week[col], label=col_map[col], c=clr_list[c_i+2])\n",
        "\n",
        "xcoords = ['2016-01-01 00:00:00','2016-04-02 00:00:00', '2017-11-11 00:00:00','2019-11-04 00:00:00',]\n",
        "events = ['2016-10-06 04:50:00','2018-02-20 19:07:00', '2018-09-17 19:07:00']\n",
        "\n",
        "for xc in xcoords:\n",
        "    ax.axvline(x=pd.to_datetime(xc),color = 'grey', linewidth = 1.5, linestyle='dashdot')\n",
        "    ax.text(pd.to_datetime(xc),90,'A')\n",
        "ax.axvline(x=pd.to_datetime(xc),color = 'grey', linewidth = 1.5, linestyle='dashdot', label='A: Odd-Even \\nScheme Impemented')\n",
        "\n",
        "ax.axvline(x=pd.to_datetime(events[0]),color = 'tab:olive', \n",
        "           linewidth = 1.5, linestyle='dashdot',alpha=0.8, \n",
        "           label='B: NGT and CPCB says \\nOdd-Even has no impact')\n",
        "ax.text(pd.to_datetime(events[0]),90,'B')\n",
        "ax.axvline(x=pd.to_datetime(events[1]),color = 'tab:cyan', \n",
        "           linewidth = 1.5, linestyle='dashdot',alpha=0.8, \n",
        "           label='C: Delhi CM says Odd-Even \\nis not a permenant solution')\n",
        "ax.text(pd.to_datetime(events[1]),90,'C')\n",
        "ax.axvline(x=pd.to_datetime(events[2]),color = 'tab:purple', \n",
        "           linewidth = 1.5, linestyle='dashdot',alpha=0.8, \n",
        "           label='D: Supreme Court stays NGT order\\nrefusing exemption to two-wheelers')\n",
        "ax.text(pd.to_datetime(events[2]),90,'D')\n",
        "\n",
        "\n",
        "ax.legend(bbox_to_anchor=(1,1));\n",
        "plt.grid(False)\n",
        "ax.set_xlabel('Timeline')\n",
        "ax.set_yticks([0, 20, 40,60,80,100])\n",
        "ax.set_yticklabels(['0%', '20%', '40%','60%','80%'])\n",
        "ax.set_ylabel('Sentiment distribution\\n(in percentage)')\n",
        "format_axes(ax);\n",
        "plt.tight_layout()\n",
        "plt.savefig('OddEven-Updated.pdf')"
      ],
      "execution_count": null,
      "outputs": [
        {
          "output_type": "display_data",
          "data": {
            "image/png": "[encoded data removed]",
            "text/plain": [
              "<Figure size 496.8x165.6 with 1 Axes>"
            ]
          },
          "metadata": {
            "tags": []
          }
        }
      ]
    }
  ]
}