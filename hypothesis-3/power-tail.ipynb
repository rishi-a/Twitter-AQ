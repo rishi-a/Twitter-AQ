{
 "cells": [
  {
   "cell_type": "code",
   "execution_count": 4,
   "metadata": {},
   "outputs": [],
   "source": [
    "import pandas as pd\n",
    "import numpy as np\n",
    "import matplotlib.pyplot as plt\n",
    "import latexify as lt"
   ]
  },
  {
   "cell_type": "code",
   "execution_count": 5,
   "metadata": {},
   "outputs": [],
   "source": [
    "lt.latexify()"
   ]
  },
  {
   "cell_type": "code",
   "execution_count": 3,
   "metadata": {},
   "outputs": [
    {
     "name": "stderr",
     "output_type": "stream",
     "text": [
      "/home/rishiraj.a/anaconda3/lib/python3.7/site-packages/IPython/core/interactiveshell.py:3058: DtypeWarning: Columns (6) have mixed types. Specify dtype option on import or set low_memory=False.\n",
      "  interactivity=interactivity, compiler=compiler, result=result)\n"
     ]
    }
   ],
   "source": [
    "'''\n",
    "df1 = pd.read_csv('../all-delhi-tweets-2016.csv')\n",
    "df2 = pd.read_csv('../all-delhi-tweets-2017.csv')\n",
    "df3 = pd.read_csv('../all-delhi-tweets-2018.csv')\n",
    "df4 = pd.read_csv('../all-delhi-tweets-2019.csv')\n",
    "df1 = df1.append([df2,df3,df4])\n",
    "usernameCount = df1['username'].value_counts()\n",
    "usernameCount = usernameCount.reset_index()\n",
    "data = usernameCount.drop('index', axis=1)\n",
    "#data.to_csv('numberOfusers.csv')\n",
    "'''"
   ]
  },
  {
   "cell_type": "code",
   "execution_count": 6,
   "metadata": {},
   "outputs": [],
   "source": [
    "data = pd.read_csv('numberOfusers.csv')\n",
    "data['username'] = data['username']/sum(data['username'])\n",
    "data = data.drop(['Unnamed: 0'], axis=1)"
   ]
  },
  {
   "cell_type": "code",
   "execution_count": 7,
   "metadata": {},
   "outputs": [],
   "source": [
    "#data = data.drop(['Unnamed: 0'], axis=1)"
   ]
  },
  {
   "cell_type": "code",
   "execution_count": 8,
   "metadata": {},
   "outputs": [
    {
     "data": {
      "text/html": [
       "<div>\n",
       "<style scoped>\n",
       "    .dataframe tbody tr th:only-of-type {\n",
       "        vertical-align: middle;\n",
       "    }\n",
       "\n",
       "    .dataframe tbody tr th {\n",
       "        vertical-align: top;\n",
       "    }\n",
       "\n",
       "    .dataframe thead th {\n",
       "        text-align: right;\n",
       "    }\n",
       "</style>\n",
       "<table border=\"1\" class=\"dataframe\">\n",
       "  <thead>\n",
       "    <tr style=\"text-align: right;\">\n",
       "      <th></th>\n",
       "      <th>username</th>\n",
       "    </tr>\n",
       "  </thead>\n",
       "  <tbody>\n",
       "    <tr>\n",
       "      <td>0</td>\n",
       "      <td>0.086822</td>\n",
       "    </tr>\n",
       "    <tr>\n",
       "      <td>1</td>\n",
       "      <td>0.028791</td>\n",
       "    </tr>\n",
       "    <tr>\n",
       "      <td>2</td>\n",
       "      <td>0.020000</td>\n",
       "    </tr>\n",
       "    <tr>\n",
       "      <td>3</td>\n",
       "      <td>0.019903</td>\n",
       "    </tr>\n",
       "    <tr>\n",
       "      <td>4</td>\n",
       "      <td>0.007932</td>\n",
       "    </tr>\n",
       "    <tr>\n",
       "      <td>...</td>\n",
       "      <td>...</td>\n",
       "    </tr>\n",
       "    <tr>\n",
       "      <td>177519</td>\n",
       "      <td>0.000001</td>\n",
       "    </tr>\n",
       "    <tr>\n",
       "      <td>177520</td>\n",
       "      <td>0.000001</td>\n",
       "    </tr>\n",
       "    <tr>\n",
       "      <td>177521</td>\n",
       "      <td>0.000001</td>\n",
       "    </tr>\n",
       "    <tr>\n",
       "      <td>177522</td>\n",
       "      <td>0.000001</td>\n",
       "    </tr>\n",
       "    <tr>\n",
       "      <td>177523</td>\n",
       "      <td>0.000001</td>\n",
       "    </tr>\n",
       "  </tbody>\n",
       "</table>\n",
       "<p>177524 rows × 1 columns</p>\n",
       "</div>"
      ],
      "text/plain": [
       "        username\n",
       "0       0.086822\n",
       "1       0.028791\n",
       "2       0.020000\n",
       "3       0.019903\n",
       "4       0.007932\n",
       "...          ...\n",
       "177519  0.000001\n",
       "177520  0.000001\n",
       "177521  0.000001\n",
       "177522  0.000001\n",
       "177523  0.000001\n",
       "\n",
       "[177524 rows x 1 columns]"
      ]
     },
     "execution_count": 8,
     "metadata": {},
     "output_type": "execute_result"
    }
   ],
   "source": [
    "data"
   ]
  },
  {
   "cell_type": "code",
   "execution_count": 9,
   "metadata": {},
   "outputs": [
    {
     "name": "stderr",
     "output_type": "stream",
     "text": [
      "C:\\ProgramData\\Anaconda3\\lib\\site-packages\\ipykernel_launcher.py:3: RuntimeWarning: divide by zero encountered in power\n",
      "  This is separate from the ipykernel package so we can avoid doing imports until\n"
     ]
    }
   ],
   "source": [
    "# value of alpha to be taken from powerlaw library below\n",
    "def mypowerlaw(x,a,alpha):\n",
    "    return a*(x**(-alpha))\n",
    "inputx = np.linspace(0,50,50)\n",
    "outputx = mypowerlaw(inputx,0.1,1.8)\n",
    "datax = pd.DataFrame(outputx)"
   ]
  },
  {
   "cell_type": "code",
   "execution_count": 24,
   "metadata": {},
   "outputs": [
    {
     "data": {
      "image/png": "[encoded data removed]",
      "text/plain": [
       "<Figure size 244.08x86.4 with 1 Axes>"
      ]
     },
     "metadata": {},
     "output_type": "display_data"
    }
   ],
   "source": [
    "lt.latexify(fig_height=1.2)\n",
    "ax = data[0:50].plot.bar(width=0.9, alpha=0.7)\n",
    "ax.set_xlim(-2)\n",
    "#ax.legend('s')\n",
    "#ax.set_xticks(np.arange(0, 99+1, 5.0))\n",
    "#plt.xticks(np.arange(0, 49+1, 1.86))\n",
    "ax2 = datax.plot(ax=ax, color='r', linewidth=1.5)\n",
    "ax2.set_xlim(-2)\n",
    "ax2.legend(['Power Law Fit','Data'])\n",
    "ax2.set_title(\"$p(x) \\propto x^{(-1.86)}$\", fontsize=8)\n",
    "ax2.set_ylabel('Probability', fontsize=8)\n",
    "ax2.set_xlabel('User Number',fontsize=8)\n",
    "ax2.set_xticks([i for i in range(0,50,5)])\n",
    "ax2.set_xticklabels([i for i in range(0,50,5)])\n",
    "lt.format_axes(ax2)\n",
    "plt.savefig('power-law.pdf', bbox_inches='tight')"
   ]
  },
  {
   "cell_type": "code",
   "execution_count": 198,
   "metadata": {},
   "outputs": [
    {
     "name": "stdout",
     "output_type": "stream",
     "text": [
      "1.8697699162075123\n",
      "0.18135956444248047\n",
      "0.0011954692383725589\n"
     ]
    },
    {
     "name": "stderr",
     "output_type": "stream",
     "text": [
      "Calculating best minimal value for power law fit\n",
      "/home/rishiraj.a/anaconda3/lib/python3.7/site-packages/powerlaw.py:700: RuntimeWarning: invalid value encountered in true_divide\n",
      "  (Theoretical_CDF * (1 - Theoretical_CDF))\n"
     ]
    }
   ],
   "source": [
    "import powerlaw\n",
    "results = powerlaw.Fit(list(data['username'][:30]))\n",
    "print(results.power_law.alpha)\n",
    "print(results.power_law.sigma)\n",
    "print(results.xmin)"
   ]
  },
  {
   "cell_type": "code",
   "execution_count": 25,
   "metadata": {},
   "outputs": [
    {
     "name": "stdout",
     "output_type": "stream",
     "text": [
      "4.440372532371688\n",
      "8.980328439752075e-06\n"
     ]
    }
   ],
   "source": [
    "#comparing powerlaw with exponential\n",
    "R, p = results.distribution_compare('power_law', 'exponential', normalized_ratio=True)\n",
    "print(R)\n",
    "print(p)"
   ]
  },
  {
   "cell_type": "code",
   "execution_count": 26,
   "metadata": {},
   "outputs": [
    {
     "name": "stdout",
     "output_type": "stream",
     "text": [
      "-0.8227452841144967\n",
      "0.4106528577636016\n"
     ]
    }
   ],
   "source": [
    "#comparing power law with lognormal\n",
    "R1, p1 = results.distribution_compare('power_law', 'lognormal', normalized_ratio=True)\n",
    "print(R1)\n",
    "print(p1)"
   ]
  },
  {
   "cell_type": "code",
   "execution_count": 13,
   "metadata": {},
   "outputs": [
    {
     "data": {
      "text/plain": [
       "Text(0.5, 1.0, 'PDF Plot')"
      ]
     },
     "execution_count": 13,
     "metadata": {},
     "output_type": "execute_result"
    },
    {
     "data": {
      "image/png": "[encoded data removed]",
      "text/plain": [
       "<Figure size 720x720 with 1 Axes>"
      ]
     },
     "metadata": {
      "needs_background": "light"
     },
     "output_type": "display_data"
    }
   ],
   "source": [
    "plt.figure(figsize=(10,10))\n",
    "ax = results.power_law.plot_pdf(label='Power Law Fit', color='r')\n",
    "results.plot_pdf(label='Data', color='b')\n",
    "ax.legend()\n",
    "plt.title(\"PDF Plot\")"
   ]
  },
  {
   "cell_type": "markdown",
   "metadata": {},
   "source": [
    "## It has been long. Lets do some fresh analysis\n"
   ]
  },
  {
   "cell_type": "code",
   "execution_count": 41,
   "metadata": {},
   "outputs": [],
   "source": [
    "import pandas\n",
    "import numpy as np"
   ]
  },
  {
   "cell_type": "code",
   "execution_count": 42,
   "metadata": {},
   "outputs": [],
   "source": [
    "data = pd.read_csv('numberOfusers.csv')\n",
    "data['username'] = data['username']/sum(data['username'])\n",
    "data = data.drop(['Unnamed: 0'], axis=1)"
   ]
  },
  {
   "cell_type": "code",
   "execution_count": 47,
   "metadata": {},
   "outputs": [],
   "source": [
    "data = data.iloc[:,0]"
   ]
  },
  {
   "cell_type": "code",
   "execution_count": 49,
   "metadata": {},
   "outputs": [
    {
     "name": "stderr",
     "output_type": "stream",
     "text": [
      "Calculating best minimal value for power law fit\n",
      "C:\\ProgramData\\Anaconda3\\lib\\site-packages\\powerlaw.py:700: RuntimeWarning: invalid value encountered in true_divide\n",
      "  (Theoretical_CDF * (1 - Theoretical_CDF))\n",
      "C:\\ProgramData\\Anaconda3\\lib\\site-packages\\powerlaw.py:700: RuntimeWarning: divide by zero encountered in true_divide\n",
      "  (Theoretical_CDF * (1 - Theoretical_CDF))\n",
      "C:\\ProgramData\\Anaconda3\\lib\\site-packages\\powerlaw.py:700: RuntimeWarning: invalid value encountered in true_divide\n",
      "  (Theoretical_CDF * (1 - Theoretical_CDF))\n"
     ]
    },
    {
     "data": {
      "text/plain": [
       "(5412.886374318775, 8.982625169570391e-06)"
      ]
     },
     "execution_count": 49,
     "metadata": {},
     "output_type": "execute_result"
    }
   ],
   "source": [
    "import powerlaw\n",
    "fit = powerlaw.Fit(data)\n",
    "fit.power_law.alpha\n",
    "fit.power_law.sigma\n",
    "fit.distribution_compare('power_law', 'exponential')"
   ]
  },
  {
   "cell_type": "code",
   "execution_count": 57,
   "metadata": {},
   "outputs": [
    {
     "data": {
      "image/png": "[encoded data removed]",
      "text/plain": [
       "<Figure size 244.08x86.4 with 1 Axes>"
      ]
     },
     "metadata": {},
     "output_type": "display_data"
    }
   ],
   "source": [
    "\n",
    "####\n",
    "figPDF = powerlaw.plot_pdf(data, color='b')\n",
    "powerlaw.plot_pdf(data, linear_bins=True, color='r', ax=figPDF)\n",
    "####\n",
    "figPDF.set_ylabel(\"Probability\")\n",
    "figPDF.set_xlabel(r\"Frequency\")\n",
    "figPDF.legend(['Data','Power Law Fit'])\n",
    "lt.format_axes(figPDF)\n",
    "figname = 'power-law-pdf'\n",
    "plt.savefig(figname+'.pdf', bbox_inches='tight')\n",
    "#savefig(figname+'.tiff', bbox_inches='tight', dpi=300)"
   ]
  },
  {
   "cell_type": "code",
   "execution_count": null,
   "metadata": {},
   "outputs": [],
   "source": []
  }
 ],
 "metadata": {
  "kernelspec": {
   "display_name": "Python 3",
   "language": "python",
   "name": "python3"
  },
  "language_info": {
   "codemirror_mode": {
    "name": "ipython",
    "version": 3
   },
   "file_extension": ".py",
   "mimetype": "text/x-python",
   "name": "python",
   "nbconvert_exporter": "python",
   "pygments_lexer": "ipython3",
   "version": "3.6.5"
  }
 },
 "nbformat": 4,
 "nbformat_minor": 2
}
