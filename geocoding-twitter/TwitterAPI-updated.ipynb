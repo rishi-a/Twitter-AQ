{
 "cells": [
  {
   "cell_type": "code",
   "execution_count": 47,
   "metadata": {},
   "outputs": [],
   "source": [
    "import os\n",
    "import pickle\n",
    "import tweepy as tw\n",
    "import pandas as pd"
   ]
  },
  {
   "cell_type": "code",
   "execution_count": null,
   "metadata": {},
   "outputs": [],
   "source": [
    "import pandas as pd\n",
    "import geopandas as gpd\n",
    "from geopandas.tools import geocode\n",
    "from geopy.exc import GeocoderTimedOut\n",
    "from geopy.geocoders import OpenMapQuest"
   ]
  },
  {
   "cell_type": "code",
   "execution_count": null,
   "metadata": {},
   "outputs": [],
   "source": [
    "geolocator = OpenMapQuest(api_key='gvaeQn4ytdAwdXYlWGYgVBKaXvZuVRic')\n",
    "def do_geocode(address):\n",
    "    try:\n",
    "        return geolocator.geocode(address)\n",
    "    except GeocoderTimedOut:\n",
    "        return do_geocode(address)"
   ]
  },
  {
   "cell_type": "code",
   "execution_count": 3,
   "metadata": {},
   "outputs": [],
   "source": [
    "consumer_key= '82fduUCqAZ6uOlMy16yTmmitH'\n",
    "consumer_secret= 'R5YWxTp3Bf8AI9y50HbMB2JixeNWVzugbfCZAnOPwD4ahND05c'\n",
    "access_token= '141672563-2Zx9bD2mlybSV6IcgtlVMlWpvnlPImpGKtEJqf6H'\n",
    "access_token_secret= 'RCq4iTpmWozGZKhz94yFcy5x0sG6nFUdrcUmsVznmo1ze'\n",
    "auth = tw.OAuthHandler(consumer_key, consumer_secret)\n",
    "auth.set_access_token(access_token, access_token_secret)\n",
    "api = tw.API(auth, wait_on_rate_limit=True)"
   ]
  },
  {
   "cell_type": "code",
   "execution_count": 65,
   "metadata": {},
   "outputs": [],
   "source": [
    "# Define the search term and the date_since date as variables\n",
    "search_words = \"air pollution\"\n",
    "search_words_no_rt = search_words + \" -filter:retweets\"\n",
    "date_since = \"2020-07-26\""
   ]
  },
  {
   "cell_type": "code",
   "execution_count": 66,
   "metadata": {},
   "outputs": [],
   "source": [
    "# Collect tweets\n",
    "tweets = tw.Cursor(api.search,q=search_words_no_rt,lang=\"en\",since=date_since).items(10000)"
   ]
  },
  {
   "cell_type": "code",
   "execution_count": 67,
   "metadata": {},
   "outputs": [],
   "source": [
    "di = {}\n",
    "for tweet in tweets:\n",
    "    di[tweet.id] = tweet"
   ]
  },
  {
   "cell_type": "code",
   "execution_count": 69,
   "metadata": {},
   "outputs": [],
   "source": [
    "#dump the data of tweet and user info\n",
    "with open(date_since+'-'+search_words+'-.pkl', 'wb') as output:\n",
    "    pickle.dump(di, output, pickle.HIGHEST_PROTOCOL)"
   ]
  },
  {
   "cell_type": "code",
   "execution_count": 92,
   "metadata": {},
   "outputs": [],
   "source": [
    "#read the data again. We are doing this to get profile geolocation\n",
    "with open(date_since+'-'+search_words+'-.pkl', 'rb') as handle:\n",
    "    data = pickle.load(handle)"
   ]
  },
  {
   "cell_type": "code",
   "execution_count": 108,
   "metadata": {},
   "outputs": [],
   "source": [
    "#create a dict. Key is location and value is the latlon info\n",
    "di_user_location = {}\n",
    "di_user_latlon = {}\n",
    "for key in data:\n",
    "    if data[key].user.location:\n",
    "        if data[key].user.location not in di_user_latlon.keys():\n",
    "            di_user_latlon[data[key].user.location] = do_geocode(data[key].user.location)\n",
    "        #di_user_location[key] = data[key].user.location"
   ]
  },
  {
   "cell_type": "code",
   "execution_count": 112,
   "metadata": {},
   "outputs": [],
   "source": [
    "#save the latlon info.\n",
    "with open('userLatLon-data.pkl', 'wb') as output:\n",
    "    pickle.dump(di_user_latlon, output, pickle.HIGHEST_PROTOCOL)"
   ]
  },
  {
   "cell_type": "markdown",
   "metadata": {},
   "source": [
    "Read and Plot"
   ]
  },
  {
   "cell_type": "code",
   "execution_count": 71,
   "metadata": {},
   "outputs": [],
   "source": [
    "#read the latlong file again and plot the values."
   ]
  },
  {
   "cell_type": "code",
   "execution_count": 72,
   "metadata": {},
   "outputs": [],
   "source": []
  },
  {
   "cell_type": "code",
   "execution_count": null,
   "metadata": {},
   "outputs": [],
   "source": []
  },
  {
   "cell_type": "code",
   "execution_count": null,
   "metadata": {},
   "outputs": [],
   "source": []
  },
  {
   "cell_type": "code",
   "execution_count": null,
   "metadata": {},
   "outputs": [],
   "source": []
  },
  {
   "cell_type": "code",
   "execution_count": null,
   "metadata": {},
   "outputs": [],
   "source": []
  },
  {
   "cell_type": "code",
   "execution_count": 15,
   "metadata": {},
   "outputs": [
    {
     "data": {
      "text/plain": [
       "'3.5'"
      ]
     },
     "execution_count": 15,
     "metadata": {},
     "output_type": "execute_result"
    }
   ],
   "source": [
    "twitter.__version__"
   ]
  },
  {
   "cell_type": "code",
   "execution_count": 9,
   "metadata": {},
   "outputs": [],
   "source": [
    "results = api.GetSearch(raw_query=\"q=lockdown air pollution until%3A2020-07-17 since%3A2020-07-16&src=typed_query\")"
   ]
  },
  {
   "cell_type": "code",
   "execution_count": 11,
   "metadata": {},
   "outputs": [
    {
     "data": {
      "text/plain": [
       "Status(ID=1283905394377658369, ScreenName=Jiddamufc, Created=Thu Jul 16 23:24:34 +0000 2020, Text=\"Coronavirus: China's air pollution nearly halved during lockdown, NASA analysis reveals\\nhttps://t.co/pMzz2i8Ifv ...… https://t.co/qXF1lGfpL9\")"
      ]
     },
     "execution_count": 11,
     "metadata": {},
     "output_type": "execute_result"
    }
   ],
   "source": [
    "results[0]"
   ]
  },
  {
   "cell_type": "code",
   "execution_count": 21,
   "metadata": {},
   "outputs": [
    {
     "data": {
      "text/plain": [
       "[Status(ID=1284785648218656768, ScreenName=Jiddamufc, Created=Sun Jul 19 09:42:23 +0000 2020, Text='Rough as fuck 😵😵😵🤢'),\n",
       " Status(ID=1284261342573146112, ScreenName=Jiddamufc, Created=Fri Jul 17 22:58:59 +0000 2020, Text='@SiAuty @marsh1981 We don’t need any help.. dangerous side now united .'),\n",
       " Status(ID=1283905394377658369, ScreenName=Jiddamufc, Created=Thu Jul 16 23:24:34 +0000 2020, Text=\"Coronavirus: China's air pollution nearly halved during lockdown, NASA analysis reveals\\nhttps://t.co/pMzz2i8Ifv ...… https://t.co/qXF1lGfpL9\"),\n",
       " Status(ID=1283287319840264192, ScreenName=Jiddamufc, Created=Wed Jul 15 06:28:34 +0000 2020, Text=\"The World Tomorrow: Former PM Tony Blair warns a second coronavirus wave would be a 'serious, serious problem'… https://t.co/riYAucqC7W\"),\n",
       " Status(ID=1282570207135961089, ScreenName=Jiddamufc, Created=Mon Jul 13 06:59:01 +0000 2020, Text='@CluelessBecks @upthemorphine Take some pictures for insta 😂😂'),\n",
       " Status(ID=1282569961857220608, ScreenName=Jiddamufc, Created=Mon Jul 13 06:58:02 +0000 2020, Text='@upthemorphine Spineless trollop'),\n",
       " Status(ID=1282442121438474240, ScreenName=Jiddamufc, Created=Sun Jul 12 22:30:03 +0000 2020, Text='Ishak Mostefaoui: British student who joined Islamic State killed in Syrian prison\\nhttps://t.co/wmQhQPbdTz. Hahaha… https://t.co/SoUVMJBFMR'),\n",
       " Status(ID=1282441450274381825, ScreenName=Jiddamufc, Created=Sun Jul 12 22:27:23 +0000 2020, Text='@mickerjs86 @TheSopranosQ 😂😂'),\n",
       " Status(ID=1282440981065981959, ScreenName=Jiddamufc, Created=Sun Jul 12 22:25:31 +0000 2020, Text='Just watched Rambo 2008 ... Jesus violent as it gets'),\n",
       " Status(ID=1279400887312699393, ScreenName=Jiddamufc, Created=Sat Jul 04 13:05:16 +0000 2020, Text='@andywilky81 @CallumBrook_22 Certainly do 😀'),\n",
       " Status(ID=1279070103708073985, ScreenName=Jiddamufc, Created=Fri Jul 03 15:10:51 +0000 2020, Text='@jayeddybee ... https://t.co/E0cZP81vIM'),\n",
       " Status(ID=1278780600716070914, ScreenName=Jiddamufc, Created=Thu Jul 02 20:00:28 +0000 2020, Text='@jayeddybee @marsh1981 @HibbertJason Property magnate'),\n",
       " Status(ID=1278756838398464008, ScreenName=Jiddamufc, Created=Thu Jul 02 18:26:03 +0000 2020, Text='@marsh1981 @HibbertJason @jayeddybee Nutmeg lol 😝'),\n",
       " Status(ID=1278756193658376193, ScreenName=Jiddamufc, Created=Thu Jul 02 18:23:29 +0000 2020, Text='@Woody12380029 Nutmeg lol'),\n",
       " Status(ID=1278755455804813313, ScreenName=Jiddamufc, Created=Thu Jul 02 18:20:33 +0000 2020, Text='@Woody12380029 Hot property .. property magnate 😂😂'),\n",
       " Status(ID=1278755244088967168, ScreenName=Jiddamufc, Created=Thu Jul 02 18:19:42 +0000 2020, Text='@marsh1981 @HibbertJason @jayeddybee 😂😂 https://t.co/fPaErQk3z7'),\n",
       " Status(ID=1278754810200838144, ScreenName=Jiddamufc, Created=Thu Jul 02 18:17:59 +0000 2020, Text='@IanHart75 Funny as fuck 😂😂😂'),\n",
       " Status(ID=1277858611050491910, ScreenName=Jiddamufc, Created=Tue Jun 30 06:56:48 +0000 2020, Text='New beginnings ... can’t bloody wait .'),\n",
       " Status(ID=1277181782610280449, ScreenName=Jiddamufc, Created=Sun Jun 28 10:07:20 +0000 2020, Text='@robgibson @MundialMag Good manager hoddle . K owt what he’s on about . Don’t think his man management was the best . He also loves himself'),\n",
       " Status(ID=1276656231390855169, ScreenName=Jiddamufc, Created=Fri Jun 26 23:18:59 +0000 2020, Text=\"Leyton stabbing: 'Jealous and possessive' boyfriend jailed for life after stabbing flatmate to death… https://t.co/C4PPffkQx1\")]"
      ]
     },
     "execution_count": 21,
     "metadata": {},
     "output_type": "execute_result"
    }
   ],
   "source": [
    "api.GetUserTimeline(screen_name='Jiddamufc')"
   ]
  },
  {
   "cell_type": "code",
   "execution_count": null,
   "metadata": {},
   "outputs": [],
   "source": [
    "api.Get"
   ]
  },
  {
   "cell_type": "code",
   "execution_count": 13,
   "metadata": {},
   "outputs": [
    {
     "data": {
      "text/plain": [
       "{'url': 'https://twitter.com/Jiddamufc/status/1283905394377658369',\n",
       " 'author_name': 'JORDAN RIPLEY',\n",
       " 'author_url': 'https://twitter.com/Jiddamufc',\n",
       " 'html': '<blockquote class=\"twitter-tweet\"><p lang=\"en\" dir=\"ltr\">Coronavirus: China&#39;s air pollution nearly halved during lockdown, NASA analysis reveals<a href=\"https://t.co/pMzz2i8Ifv\">https://t.co/pMzz2i8Ifv</a> ... wonderful news . Well done China. Except you’ve ruined the entire planet . <a href=\"https://t.co/7czcogb2J8\">pic.twitter.com/7czcogb2J8</a></p>&mdash; JORDAN RIPLEY (@Jiddamufc) <a href=\"https://twitter.com/Jiddamufc/status/1283905394377658369?ref_src=twsrc%5Etfw\">July 16, 2020</a></blockquote>\\n<script async src=\"https://platform.twitter.com/widgets.js\" charset=\"utf-8\"></script>\\n',\n",
       " 'width': 550,\n",
       " 'height': None,\n",
       " 'type': 'rich',\n",
       " 'cache_age': '3153600000',\n",
       " 'provider_name': 'Twitter',\n",
       " 'provider_url': 'https://twitter.com',\n",
       " 'version': '1.0'}"
      ]
     },
     "execution_count": 13,
     "metadata": {},
     "output_type": "execute_result"
    }
   ],
   "source": [
    "api.GetStatusOembed(1283905394377658369)"
   ]
  },
  {
   "cell_type": "code",
   "execution_count": 1,
   "metadata": {},
   "outputs": [
    {
     "name": "stdout",
     "output_type": "stream",
     "text": [
      "{\"created_at\": \"Sat May 08 18:10:22 +0000 2010\", \"description\": \"Ph.D. Student | @iitgn\", \"favourites_count\": 291, \"followers_count\": 263, \"friends_count\": 172, \"geo_enabled\": true, \"id\": 141672563, \"id_str\": \"141672563\", \"listed_count\": 2, \"location\": \"Earth\", \"name\": \"Rishiraj Adhikary\", \"profile_background_color\": \"352726\", \"profile_background_image_url\": \"http://abs.twimg.com/images/themes/theme5/bg.gif\", \"profile_background_image_url_https\": \"https://abs.twimg.com/images/themes/theme5/bg.gif\", \"profile_banner_url\": \"https://pbs.twimg.com/profile_banners/141672563/1367244391\", \"profile_image_url\": \"http://pbs.twimg.com/profile_images/602493759088041984/It5CvU1c_normal.jpg\", \"profile_image_url_https\": \"https://pbs.twimg.com/profile_images/602493759088041984/It5CvU1c_normal.jpg\", \"profile_link_color\": \"D02B55\", \"profile_sidebar_border_color\": \"829D5E\", \"profile_sidebar_fill_color\": \"99CC33\", \"profile_text_color\": \"3E4415\", \"profile_use_background_image\": true, \"screen_name\": \"rishihere\", \"status\": {\"created_at\": \"Mon Jul 06 18:36:37 +0000 2020\", \"favorited\": true, \"id\": 1280209051612098560, \"id_str\": \"1280209051612098560\", \"lang\": \"en\", \"retweet_count\": 159, \"retweeted\": true, \"retweeted_status\": {\"created_at\": \"Mon Jul 06 04:14:29 +0000 2020\", \"favorite_count\": 607, \"favorited\": true, \"id\": 1279992087497314305, \"id_str\": \"1279992087497314305\", \"lang\": \"en\", \"retweet_count\": 159, \"retweeted\": true, \"source\": \"<a href=\\\"https://mobile.twitter.com\\\" rel=\\\"nofollow\\\">Twitter Web App</a>\", \"text\": \"Sharing one idea I found useful for paper writing:\\n\\nDo NOT ask people to solve correspondence problems. \\n\\nSome Dos\\u2026 https://t.co/ekN4AiBOOR\", \"truncated\": true}, \"source\": \"<a href=\\\"http://twitter.com/download/android\\\" rel=\\\"nofollow\\\">Twitter for Android</a>\", \"text\": \"RT @jbhuang0604: Sharing one idea I found useful for paper writing:\\n\\nDo NOT ask people to solve correspondence problems. \\n\\nSome Dos and Don\\u2026\"}, \"statuses_count\": 361, \"url\": \"https://t.co/VevvwIjWVm\"}\n"
     ]
    }
   ],
   "source": [
    "#fill in your twitter dev detials\n",
    "import twitter\n",
    "api = twitter.Api(consumer_key='82fduUCqAZ6uOlMy16yTmmitH',\n",
    "                  consumer_secret='R5YWxTp3Bf8AI9y50HbMB2JixeNWVzugbfCZAnOPwD4ahND05c',\n",
    "                  access_token_key='141672563-2Zx9bD2mlybSV6IcgtlVMlWpvnlPImpGKtEJqf6H',\n",
    "                  access_token_secret='RCq4iTpmWozGZKhz94yFcy5x0sG6nFUdrcUmsVznmo1ze')\n",
    "print(api.VerifyCredentials())"
   ]
  },
  {
   "cell_type": "code",
   "execution_count": 17,
   "metadata": {},
   "outputs": [
    {
     "data": {
      "text/plain": [
       "User(ID=220420805, ScreenName=Jiddamufc)"
      ]
     },
     "execution_count": 17,
     "metadata": {},
     "output_type": "execute_result"
    }
   ],
   "source": [
    "api.GetUser(screen_name='Jiddamufc')"
   ]
  },
  {
   "cell_type": "markdown",
   "metadata": {},
   "source": [
    "## Tweepy!"
   ]
  },
  {
   "cell_type": "code",
   "execution_count": 24,
   "metadata": {},
   "outputs": [],
   "source": [
    "import tweepy"
   ]
  },
  {
   "cell_type": "code",
   "execution_count": 25,
   "metadata": {},
   "outputs": [],
   "source": [
    "consumer_key='82fduUCqAZ6uOlMy16yTmmitH'\n",
    "consumer_secret='R5YWxTp3Bf8AI9y50HbMB2JixeNWVzugbfCZAnOPwD4ahND05c'\n",
    "access_token='141672563-2Zx9bD2mlybSV6IcgtlVMlWpvnlPImpGKtEJqf6H'\n",
    "access_token_secret='RCq4iTpmWozGZKhz94yFcy5x0sG6nFUdrcUmsVznmo1ze'\n",
    "\n",
    "auth = tweepy.OAuthHandler(consumer_key, consumer_secret)\n",
    "auth.set_access_token(access_token, access_token_secret)\n",
    "\n",
    "api = tweepy.API(auth)\n"
   ]
  },
  {
   "cell_type": "code",
   "execution_count": null,
   "metadata": {},
   "outputs": [],
   "source": []
  }
 ],
 "metadata": {
  "kernelspec": {
   "display_name": "Python 3",
   "language": "python",
   "name": "python3"
  },
  "language_info": {
   "codemirror_mode": {
    "name": "ipython",
    "version": 3
   },
   "file_extension": ".py",
   "mimetype": "text/x-python",
   "name": "python",
   "nbconvert_exporter": "python",
   "pygments_lexer": "ipython3",
   "version": "3.6.5"
  }
 },
 "nbformat": 4,
 "nbformat_minor": 2
}
