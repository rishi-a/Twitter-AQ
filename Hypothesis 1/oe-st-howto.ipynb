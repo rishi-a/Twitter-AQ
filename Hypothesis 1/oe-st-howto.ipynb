{
 "cells": [
  {
   "cell_type": "code",
   "execution_count": 1,
   "metadata": {},
   "outputs": [],
   "source": [
    "import pandas as pd\n",
    "import numpy as np\n",
    "pd.set_option('display.max_colwidth', -1)"
   ]
  },
  {
   "cell_type": "code",
   "execution_count": 2,
   "metadata": {},
   "outputs": [
    {
     "name": "stderr",
     "output_type": "stream",
     "text": [
      "/home/rishiraj.a/anaconda3/lib/python3.7/site-packages/IPython/core/interactiveshell.py:3058: DtypeWarning: Columns (2,9,13,14,15,18,20,26,27,29,30,31,35,36,38,40,45,46,51) have mixed types. Specify dtype option on import or set low_memory=False.\n",
      "  interactivity=interactivity, compiler=compiler, result=result)\n"
     ]
    }
   ],
   "source": [
    "df1 = pd.read_csv('delhi-filtered-zeel.csv')"
   ]
  },
  {
   "cell_type": "code",
   "execution_count": 3,
   "metadata": {},
   "outputs": [
    {
     "data": {
      "text/plain": [
       "(1953988, 52)"
      ]
     },
     "execution_count": 3,
     "metadata": {},
     "output_type": "execute_result"
    }
   ],
   "source": [
    "df1.shape"
   ]
  },
  {
   "cell_type": "code",
   "execution_count": 4,
   "metadata": {},
   "outputs": [],
   "source": [
    "queries = [\"delhiagainstpollution\",\n",
    "           \"delhi against pollution\",\n",
    "           \"delhipollution\",\n",
    "           \"delhi pollution\",\n",
    "           \"smogtower\",\n",
    "           \"smog tower\",\n",
    "           \"delhi air\",\n",
    "           \"delhiair\",\n",
    "           \"delhi air emergency\",\n",
    "           \"delhiairemergency\",\n",
    "           \"delhichokes\",\n",
    "           \"delhi chokes\",\n",
    "           \"delhi air quality\",\n",
    "           \"delhiairquality\",\n",
    "           \"delhi smog\",\n",
    "           \"delhismog\",\n",
    "           \"oddeven\",\n",
    "           \"odd even\",\n",
    "           \"delhi fog\",\n",
    "           \"delhifog\",\n",
    "           \"air lodhi garden\",\n",
    "           \"air sarojini nagar\",\n",
    "           \"air chandni chowk\",\n",
    "           \"air gurgaon\",\n",
    "           \"delhincr\",\n",
    "           \"air ncr\",\n",
    "           \"air noida\",\n",
    "           \"air punjab\",\n",
    "           \"air haryana\",\n",
    "           \"air vehicle delhi\",\n",
    "           \"air road delhi\",\n",
    "           \"air school\",\n",
    "           \"air children\",\n",
    "           \"stubble burning\"]\n",
    "regex_queries = ['(?is)^'+''.join(['(?=.*\\\\b('+j+')\\\\b)' for j in i.split()])+'.*' for i in queries]\n",
    "#queries.extend(regex_queries)"
   ]
  },
  {
   "cell_type": "code",
   "execution_count": 6,
   "metadata": {},
   "outputs": [],
   "source": [
    "i=1\n",
    "for query in regex_queries:\n",
    "    index_set = set()\n",
    "    tmp = df1.tweet.str.contains(query, regex=True, case=False)\n",
    "    indices = tmp.where(tmp==True).dropna().index.tolist()\n",
    "    index_set.update(set(indices))\n",
    "    \n",
    "    tmp = df1.loc[list(index_set)]\n",
    "    tmp.to_csv('200-tweet-from-queries/q'+str(i)+'.csv')\n",
    "    i+=1"
   ]
  },
  {
   "cell_type": "markdown",
   "metadata": {},
   "source": [
    "**223 Tweets on 'smogtower'** <br>\n",
    "**200 randomly sampled tweets were manually investigated** <br>\n",
    "<span style=\"color:red\">19 (9.5%) tweets are irrelevant as shown below</span><br>\n",
    "- 559295,Wéér zo'n goede uitvinding van Daan Roosegaarde @ SRoosegaarde #  SmogTower https://twitter.com/littlesun/status/793755058831814656 …\n",
    "- 228093,\".# Delhi में लगाया गया हवा को साफ करने वाला पहला # SmogTower \n",
    "- 42387,\"प्रदूषण से दिलाएंगे मुक्ति \n",
    "राजेंद्र नगर विधानसभा में एयर प्यूरीफायर टावर का करेंगे निर्माण।  \\# CongressWaliDelhi \\# Dilli \\# DelhiElections2020 \\# RockyTuseed \\# Vikas \\# YoungestCandidate \\# Environment \\# NoPollution \\# SmogTower pic.twitter.com/73CLah8ssl\"\n",
    "- 1070632,Ze zouden contact op kunnen nemen met @ DaanRoosegaarde \\#  smogtower\n",
    "- 1303326,@ SRoosegaarde transforme la #  pollution en diamants http://ow.ly/Zr87J #  smogtower pic.twitter.com/p1ZlA3ASnc\n",
    "- 227883,\"हरीनगर का सौभाग्य हैजो युवा  सोच वाले @TajinderBagga को यहां से उम्मीदवार बनाया जिसने आने से पहले ही अपना संकल्प जाहिर कर दिया है कि # BJPजीत के साथ 24 घंटो में टुकडे टुकडे गैंग की फाइले खुलेंगी 60 दिनों में # Smogtower लगेगा हरीनगर का अपना # Mainefsto होगा @BJP4Delhi pic.twitter.com/ZFZvvyRKLk\"\n",
    "- 42402,\"# ABstarnews जानिए क्या है और कहा बना है देश का पहला स्मॉग टावर…# Smogtower # delhinews # hindinews # india https://zurl.co/rXbF pic.twitter.com/Skff0fFuEv\"\n",
    "- 1395631,\"दिल्ली में प्रदूषण का कहर, अब यह ‘स्मॉग टावर’ देगा लोगों को राहत https://www.punjabkesari.in/national/news/this-smog-tower-will-give-relief-to-the-people-of-delhi-899703 … #  SmogTower # DelhiPollution #  Delhi #  ArvindKejriwal @ ArvindKejriwal @ AAPDelhipic.twitter.com/IhHkuuOWZS\"\n",
    "- 1158958,\"W Krakowie ma stanąć wieża antysmogowa. Bądź co bądź to jest już jakaś walka z problemem, choć chyba taka powinna być na każdym osiedlu. #  Kraków #  smog #  smogtower\"\n",
    "- 1303310,En opeens houd je een zakje Week Smog uit Rotterdam in je hand. Inspirerend verhaal van @ SRoosegaarde #  smogtower #  dt16\n",
    "- 228163,\"അന്തരീക്ഷ മലിനീകരണം കൊണ്ട് വലയുന്ന ഡൽഹി ജനതയ്ക്ക് ആശ്വാസമായി ആയി ആദ്യ സ്മോഗ്‌ ടവർ പ്രവർത്തനമാരംഭിച്ചു.... # SmogTower\n",
    "- 228028,आपने # smogtower के लिए MP फण्ड का इस्तेमाल क्यों नही किया?\n",
    "- 2552,\"Exclusive: @GautamGambhir की मदद से दिल्‍ली में लगा पहला स्‍मॉग टॉवर, जानें कैसे साफ करेगा हवा. # SmogTower # AirPollution # Delhihttps://www.tv9bharatvarsh.com/india/first-smog-tower-in-delhi-at-lajpat-nagar-with-gautam-gambhirs-help-149419.html …\"\n",
    "- 42677,आपने # smogtower के लिए MP फण्ड का इस्तेमाल क्यों नही किया?\n",
    "- 286397,\"क्या है स्माॅग टाॅवर, कैसे सोखता है हवा से प्रदूषण दिल्ली में वायु प्रदूषण को कम करने के लिए स्माॅग टाॅवर लगाने का सुझाव दिया है। तो आइए जानते हैं, कि क्या है स्माॅग टाॅवर। #  airpollution #  DelhiAirPollution #  smogtower \n",
    "- 42662,\"प्रदूषण से मिलेगी बड़ी राहत,दिल्ली में हवा को साफ करेगा 20 फीट ऊंचा स्मॉग टावर। https://bit.ly/35mSaGf  # smogtower # Delhi # delhipollution # gautamgambhir\"\n",
    "- 42627,\"അന്തരീക്ഷ മലിനീകരണം കൊണ്ട് വലയുന്ന ഡൽഹി ജനതയ്ക്ക് ആശ്വാസമായി ആയി ആദ്യ സ്മോഗ്‌ ടവർ\n",
    "പ്രവർത്തനമാരംഭിച്ചു.... # SmogTower\n",
    "- Do watch it and subscribe to my YouTube channel # TukdeTukdeGang # JNUVioence # INDvSL # smogtower # meerut # IranUsa\"\n",
    "- 227878,\"हरीनगर का सौभाग्य हैजो युवा  सोच वाले @TajinderBagga को यहां से उम्मीदवार बनाया जिसने आने से पहले ही अपना संकल्प जाहिर कर दिया है कि # BJPजीत के साथ 24 घंटो में टुकडे टुकडे गैंग की फाइले खुलेंगी 60 दिनों में # Smogtower लगेगा हरीनगर का अपना # Mainefsto होगा  .# Bagga4HariNagar pic.twitter.com/rEF9UWUvik\""
   ]
  },
  {
   "cell_type": "markdown",
   "metadata": {},
   "source": [
    "**1220 Tweets on 'smog tower'** <br>\n",
    "**200 randomly sampled tweets were manually investigated** <br>\n",
    "<span style=\"color:red\">>10% tweets are irrelevant as shown below</span><br>\n",
    "\n",
    "- 863998,\"@ fiza_pak has built Pakistan's first smog-free tower, which provides clean air to 90,000 people/day. This is a great step to tackle the smog issue. #  PakFizaMeraHaq #  PakFiza #  SaansLenayDo #  LahoreSmog #  Pakistan #  Smog https://www.pakistantoday.com.pk/2019/12/04/pakistans-first-smog-free-tower-spells-hope/ …\"\n",
    "\n",
    "- 755849,China’s giant smog-sucking tower was simply no match for its air pollution http://qz.com/846093/chinas-giant-smog-sucking-tower-was-simply-no-match-for-its-air-pollution/ …\n",
    "\n",
    "- 702814,Eiffel Tower #  Smog #  Pollution view from the Australian Embassy #  GoLive #  WorldTravels https://www.pscp.tv/w/ayQt3DUwMjkwM3wxbW54ZVdid2tRWkdY1QQSF9nP7NpN_Php24D2XjDgsMfyPu4KWSrYaqmjxVQ= …\n",
    "\n",
    "- 810222,The world’s biggest smog tower near the city of Xian in China could prove to be a viable solution to help tackle air pollution: #  environment #  GlobalWarminghttp://bit.ly/2DGLBp2\n",
    "\n",
    "- 213012,China's crazy smog-sucking vacuum tower is actually working via @ inhabitat #  AirPollution http://inhabitat.com/chinas-crazy-smog-sucking-vacuum-tower-is-actually-working/ …\n",
    "\n",
    "- 447849,\"Ma'am what is your take on large air cleaners? For example, this roof-mounted city air cleaner by Netherlands-based Envinity Group. Each one claims to clean 3sq kms. The Beijing smog-free tower by Studio Roosegaarde failed but this is something that may work #  DelhiSmog pic.twitter.com/cWMhVCMlCF\"\n",
    "173857,New Smog Free Tower Cleans China #  AirPollution in Beijing - @ Thrillist http://ow.ly/hrx4308rJRy\n",
    "\n",
    "- 891687,Dan Roosegaarde&# 039;s smog-sucking tower is taking to the road in China #  smog https://dragplus.com/post/id/36525046 …\n",
    "\n",
    "- 1643380,\"\"\"Free Smog Tower\"\" : un nouveau projet du Studio Roosegaarde contre la # pollution de l'air dans les villes et les territoires  https://bit.ly/2Ge8lNs  pic.twitter.com/a7DGw59kFO\"\n",
    "\n",
    "- 872412,ndtv: The #  smog free tower: Beijing's latest answer to pollution http://www.ndtv.com/world-news/the-smog-free-tower-beijings-latest-answer-to-pollution-1468043 …pic.twitter.com/IPKTlRjzJv\n",
    "\n",
    "- 702534,\"Shanghai TV Tower #  latergram #  smog #  shanghai #  china #  seerundo @Shanghai, China https://www.instagram.com/p/BOQBzkeB-ip/\"\n",
    "\n",
    "- 169861,\"Better strategy is deal with #  AirPollution at source, rather than mopping up after the fact..... China's 'anti-smog tower' and other plans to pull pollution from the air http://theconversation.com/beware-chinas-anti-smog-tower-and-other-plans-to-pull-pollution-from-the-air-90596?utm_source=twitter&utm_medium=twitterbutton … @ ConversationUK\"\n",
    "\n",
    "- 16436,\"क्या है स्माॅग टाॅवर, कैसे सोखता है हवा से प्रदूषण दिल्ली में वायु प्रदूषण को कम करने के लिए स्माॅग टाॅवर लगाने का सुझाव दिया है। तो आइए जानते हैं, कि क्या है स्माॅग टाॅवर।\n",
    "\n",
    "- 609024,\"Another intervention in the form of an experimental over-100m-high & smog tower' in northern China has brought noticeable improvement in air quality, according to researchers from the Chinese Academy of Sciences, who monitored the project. #  BeatPollutionpic.twitter.com/jQgNQZNkix\"\n",
    "\n",
    "- 638865,\"That's a lot of jewelry! Designer's smog vacuum\"\" sucks up China's air pollution, turns it into wearable art http://www.huffingtonpost.com/entry/smog-free-tower-beijing-air-pollution_us_57ed6e0ae4b0c2407cdcbaae?ncid=engmodushpmg00000004 …\"\"\"\n",
    "\n",
    "- 739782,New Smog Free Tower Cleans Air Pollution in Beijing @ Thrillist http://bit.ly/2kCl3Yr pic.twitter.com/vH8rnNCkYV\n",
    "\n",
    "- 614828,The world's first 'smog vacuum cleaner' can suck up air pollution and turn it into jewelry - http://www.businessinsider.com/smog-tower-turns-pollution-into-jewelry-daan-roosegaarde-2018-1 …\n",
    "\n",
    "- 82938,അന്തരീക്ഷമാലിന്യത്തെ ആഭരണമാക്കി മാറ്റി ഇരട്ടനേട്ടം കൈവരിക്കാനാണ് ചൈനയുടെ ലക്ഷ്യം #  AirPollution #  China http://www.manoramanews.com/news/spotlight/china-smog-free-tower-to-produce-diamond.html …\n",
    "\n",
    "- 162435,China’s smog-sucking vacuum tower is actually working http://inhabitat.com/chinas-crazy-smog-sucking-vacuum-tower-is-actually-working/ … @ ArvindKejriwal #  delhipollution @ mygovindia\n",
    "\n",
    "- 1165992,\"A full-sized smog tower would reach 500 metres (1,640 feet) high with a diameter of 200 metres (656 feet), according to a patent application the makers filed in 2014. #  china #  development #  success #  firsttime #  biggest #  air #  smog # clearsky #  environment #  global #  world #  jioxpressnewspic.twitter.com/2EoEx5AfCq\"\n",
    "\n",
    "- 877587,\"# climatechange Pollution-sucking Smog Free Tower makes its way to Poland - First installed in Rotterdam and Amsterdam, and then moving onto Beijing in 2016, the pollution-sucking Smog Free Tower is now headed for a park in Poland. Part of a wider proj...  http://ow.ly/LXwy50gjqws \"\n",
    "\n",
    "-872531,#  Beicology: #  Smog Free Tower 2b Unveiled @ #  Beijing's #  798ArtDistrict Sep 29 http://www.thebeijinger.com/blog/2016/09/20/smog-free-tower-be-unveiled-beijing-sept-29 … @ thebeijingerpic.twitter.com/Dz5fyfum6N"
   ]
  },
  {
   "cell_type": "markdown",
   "metadata": {},
   "source": [
    "**Thus we snowball sample the smog tower tweets so that we get tweets which are talking about Delhi only.**"
   ]
  },
  {
   "cell_type": "code",
   "execution_count": 10,
   "metadata": {},
   "outputs": [
    {
     "data": {
      "text/plain": [
       "660"
      ]
     },
     "execution_count": 10,
     "metadata": {},
     "output_type": "execute_result"
    }
   ],
   "source": [
    "smogtower1 = pd.read_csv('200-tweet-from-queries/q6.csv')\n",
    "#smogtower1 = smogtower1.drop_duplicates(subset =\"tweet\")\n",
    "tmp1 = smogtower1[smogtower1.tweet.str.contains(\"(delhi?)|(arvind?)|(india?)|(aam?)\",regex=True, case=False)]\n",
    "tmp1.to_csv('200-tweet-from-queries/st1.csv')\n",
    "tmp1.shape[0]"
   ]
  },
  {
   "cell_type": "code",
   "execution_count": 12,
   "metadata": {},
   "outputs": [
    {
     "data": {
      "text/plain": [
       "164"
      ]
     },
     "execution_count": 12,
     "metadata": {},
     "output_type": "execute_result"
    }
   ],
   "source": [
    "smogtower2 = pd.read_csv('200-tweet-from-queries/q5.csv')\n",
    "#smogtower2 = smogtower2.drop_duplicates(subset =\"tweet\")\n",
    "tmp2 = smogtower2[smogtower2.tweet.str.contains(\"(delhi?)|(arvind?)|(india?)|(aam?)\",regex=True, case=False)]\n",
    "tmp2.to_csv('200-tweet-from-queries/st2.csv')\n",
    "tmp2.shape[0]"
   ]
  },
  {
   "cell_type": "code",
   "execution_count": 14,
   "metadata": {},
   "outputs": [
    {
     "data": {
      "text/plain": [
       "76767"
      ]
     },
     "execution_count": 14,
     "metadata": {},
     "output_type": "execute_result"
    }
   ],
   "source": [
    "oe1 = pd.read_csv('200-tweet-from-queries/q17.csv')\n",
    "#tmp3 = oe1.drop_duplicates(subset =\"tweet\")\n",
    "oe1.to_csv('200-tweet-from-queries/oe1.csv')\n",
    "oe1.shape[0]"
   ]
  },
  {
   "cell_type": "markdown",
   "metadata": {},
   "source": [
    "**72538 Unique Tweets on 'oddeven' q17.csv** <br>\n",
    "**200 randomly sampled tweets were manually investigated** <br>\n",
    "<span style=\"color:red\">4 (2%) tweets are irrelevant as shown below</span><br>\n",
    "\n",
    "- 1572874,@ adytudedotcom Ad1 is odd others as others are of Airtel 4G #  OddEven\n",
    "- 17,1572930,#  PakArmy in talks with terrorists to implement #  OddEven scheme for bomb blasts in #  Pakistan #  ThankYouRaheelSharifpic.twitter.com/n1lCLqF2BX\n",
    "- 116,1573182,@ ashutosh83B #  Oddeven 1 bhi fail tha or #  oddevendobara bhi fail h. Ab blame kroge BJP KO. Kutte ki jaat ho tum log @ ArvindKejriwal\n",
    "- 277,1573620,\"@ raghav_chadha Chaddi, #  oddeven se traffic control hua hai, pollution nhi, kahin ye aag tumhi logon ne to nahi lagwayi? #  blamegame\""
   ]
  },
  {
   "cell_type": "code",
   "execution_count": 15,
   "metadata": {},
   "outputs": [
    {
     "data": {
      "text/plain": [
       "29084"
      ]
     },
     "execution_count": 15,
     "metadata": {},
     "output_type": "execute_result"
    }
   ],
   "source": [
    "oe2 = pd.read_csv('200-tweet-from-queries/q18.csv')\n",
    "tmp3 = oe2.drop_duplicates(subset =\"tweet\")\n",
    "oe2.to_csv('200-tweet-from-queries/oe2.csv')\n",
    "oe2.shape[0]"
   ]
  },
  {
   "cell_type": "markdown",
   "metadata": {},
   "source": [
    "**26558 Unique Tweets on 'odd even' q18.csv** <br>\n",
    "**200 randomly sampled tweets were manually investigated** <br>\n",
    "<span style=\"color:red\">2 (1%) tweets are irrelevant as shown below</span><br>\n",
    "\n",
    "- 232,1049100,According to Kejriwal - The Insaaaaaaan On Odd Days: Cars in Delhi are responsible for pollution. On Even Days: Stubble burning in Punjab and Haryana is responsible for pollution. On Agenda Days: Hindus bursting firecrackers are responsible for pollution. @ KapilMishraAAP\n",
    "- \"What a Blunder  1st says : My Friend own EVEN number car and I own ODD number car  And Then says : On ODD day we take his (friend) car and on EVEN day take my car\\# UltaPulta\n",
    "- Hindi Tweets"
   ]
  },
  {
   "cell_type": "code",
   "execution_count": null,
   "metadata": {},
   "outputs": [],
   "source": []
  },
  {
   "cell_type": "code",
   "execution_count": null,
   "metadata": {},
   "outputs": [],
   "source": []
  },
  {
   "cell_type": "code",
   "execution_count": null,
   "metadata": {},
   "outputs": [],
   "source": []
  },
  {
   "cell_type": "code",
   "execution_count": null,
   "metadata": {},
   "outputs": [],
   "source": []
  },
  {
   "cell_type": "markdown",
   "metadata": {},
   "source": [
    "**Below codes were not used in this analysis**"
   ]
  },
  {
   "cell_type": "code",
   "execution_count": 8,
   "metadata": {},
   "outputs": [
    {
     "name": "stderr",
     "output_type": "stream",
     "text": [
      "unable to import 'smart_open.gcs', disabling that module\n"
     ]
    }
   ],
   "source": [
    "import re\n",
    "import string\n",
    "import gensim\n",
    "from gensim.utils import simple_preprocess\n",
    "from gensim.parsing.preprocessing import STOPWORDS\n",
    "from nltk.stem import WordNetLemmatizer, SnowballStemmer\n",
    "from nltk.stem.porter import *\n",
    "\n",
    "def clean_text_round1(text):\n",
    "    '''Make text lowercase, remove text in square brackets, remove punctuation and remove words containing numbers.'''\n",
    "    text = str(text)\n",
    "    text = text.lower()\n",
    "    text = re.sub('\\[.*?\\]', '', text)\n",
    "    text = re.sub('[%s]' % re.escape(string.punctuation), '', text)\n",
    "    text = re.sub('\\w*\\d\\w*', '', text)\n",
    "    text = re.sub(r'^https?:\\/\\/.*[\\r\\n]*', '', text)\n",
    "    text = re.sub('â€™', '', text)\n",
    "    text = re.sub('œ', '', text)\n",
    "    re.sub(r'[^\\x00-\\x7F]+','', text)\n",
    "    return text\n",
    "\n",
    "def clean_text_round2(text):\n",
    "    '''Get rid of some additional punctuation and non-sensical text that was missed the first time around.'''\n",
    "    text = re.sub('[‘’“”…]', '', text)\n",
    "    text = re.sub('\\n', '', text)\n",
    "    return text\n",
    "\n",
    "#not doing stemming.\n",
    "def lemmatize_stemming(text):\n",
    "    #stemmer = SnowballStemmer(\"english\")\n",
    "    return WordNetLemmatizer().lemmatize(text, pos='v')\n",
    "\n",
    "def remove_nonascii(text):\n",
    "    return ''.join([i if ord(i) < 128 else ' ' for i in text])\n",
    "\n",
    "def preprocess(text):\n",
    "    result = []\n",
    "    for token in gensim.utils.simple_preprocess(text):\n",
    "        if token not in gensim.parsing.preprocessing.STOPWORDS and len(token) > 3:\n",
    "            result.append(lemmatize_stemming(token))\n",
    "    return \" \".join(str(x) for x in result)\n",
    "\n",
    "def remove_mention_hashtag(text):\n",
    "    text = re.sub('# [a-zA-Z]*', '', text)\n",
    "    text = re.sub('# [a-zA-Z]*', '', text)\n",
    "    return text\n",
    "    \n",
    "def some_words(text):\n",
    "    text = re.sub('air pollution', '', text)\n",
    "    text = re.sub('pollution', '', text)\n",
    "    return text"
   ]
  },
  {
   "cell_type": "code",
   "execution_count": 39,
   "metadata": {},
   "outputs": [],
   "source": [
    "raw['tweet'] = [clean_text_round1(item) for item in raw['tweet']]\n",
    "raw['tweet'] = [clean_text_round2(item) for item in raw['tweet']]\n",
    "raw['tweet'] = [preprocess(item) for item in raw['tweet']]\n",
    "#remove anything that is non-ascii\n",
    "raw['tweet'] = [remove_nonascii(item) for item in raw['tweet']]\n",
    "raw['tweet'] = [remove_mention_hashtag(item) for item in raw['tweet']]"
   ]
  }
 ],
 "metadata": {
  "kernelspec": {
   "display_name": "Python 3",
   "language": "python",
   "name": "python3"
  },
  "language_info": {
   "codemirror_mode": {
    "name": "ipython",
    "version": 3
   },
   "file_extension": ".py",
   "mimetype": "text/x-python",
   "name": "python",
   "nbconvert_exporter": "python",
   "pygments_lexer": "ipython3",
   "version": "3.7.4"
  }
 },
 "nbformat": 4,
 "nbformat_minor": 2
}
